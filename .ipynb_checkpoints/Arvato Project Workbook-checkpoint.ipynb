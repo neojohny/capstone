{
 "cells": [
  {
   "cell_type": "markdown",
   "metadata": {},
   "source": [
    "# Capstone Project: Create a Customer Segmentation Report for Arvato Financial Services\n",
    "\n",
    "In this project, you will analyze demographics data for customers of a mail-order sales company in Germany, comparing it against demographics information for the general population. You'll use unsupervised learning techniques to perform customer segmentation, identifying the parts of the population that best describe the core customer base of the company. Then, you'll apply what you've learned on a third dataset with demographics information for targets of a marketing campaign for the company, and use a model to predict which individuals are most likely to convert into becoming customers for the company. The data that you will use has been provided by our partners at Bertelsmann Arvato Analytics, and represents a real-life data science task.\n",
    "\n",
    "If you completed the first term of this program, you will be familiar with the first part of this project, from the unsupervised learning project. The versions of those two datasets used in this project will include many more features and has not been pre-cleaned. You are also free to choose whatever approach you'd like to analyzing the data rather than follow pre-determined steps. In your work on this project, make sure that you carefully document your steps and decisions, since your main deliverable for this project will be a blog post reporting your findings."
   ]
  },
  {
   "cell_type": "code",
   "execution_count": 1,
   "metadata": {},
   "outputs": [],
   "source": [
    "# import libraries here; add more as necessary\n",
    "import numpy as np\n",
    "import pandas as pd\n",
    "import matplotlib.pyplot as plt\n",
    "import seaborn as sns\n",
    "import pickle\n",
    "import datetime as dt\n",
    "\n",
    "from sklearn.preprocessing import StandardScaler, RobustScaler, MinMaxScaler, OneHotEncoder\n",
    "from sklearn.preprocessing import Imputer\n",
    "from sklearn.decomposition import PCA\n",
    "from sklearn.cluster import KMeans\n",
    "from sklearn.model_selection import GridSearchCV, train_test_split\n",
    "from sklearn.metrics import confusion_matrix,precision_recall_fscore_support\n",
    "from sklearn.utils.multiclass import unique_labels\n",
    "from sklearn.linear_model import LinearRegression\n",
    "from sklearn.model_selection import train_test_split, StratifiedKFold, cross_val_score, RandomizedSearchCV, GridSearchCV\n",
    "from sklearn.metrics import roc_auc_score\n",
    "from sklearn.pipeline import Pipeline\n",
    "from sklearn.ensemble import RandomForestClassifier\n",
    "from sklearn.ensemble import GradientBoostingClassifier as gbm\n",
    "from sklearn.linear_model import LogisticRegression\n",
    "from sklearn.neural_network import MLPClassifier\n",
    "from sklearn.model_selection import StratifiedKFold, learning_curve\n",
    "\n",
    "import xgboost as xgb\n",
    "\n",
    "%matplotlib inline"
   ]
  },
  {
   "cell_type": "markdown",
   "metadata": {},
   "source": [
    "## Part 0: Get to Know the Data\n",
    "\n",
    "There are four data files associated with this project:\n",
    "\n",
    "- `Udacity_AZDIAS_052018.csv`: Demographics data for the general population of Germany; 891 211 persons (rows) x 366 features (columns).\n",
    "- `Udacity_CUSTOMERS_052018.csv`: Demographics data for customers of a mail-order company; 191 652 persons (rows) x 369 features (columns).\n",
    "- `Udacity_MAILOUT_052018_TRAIN.csv`: Demographics data for individuals who were targets of a marketing campaign; 42 982 persons (rows) x 367 (columns).\n",
    "- `Udacity_MAILOUT_052018_TEST.csv`: Demographics data for individuals who were targets of a marketing campaign; 42 833 persons (rows) x 366 (columns).\n",
    "\n",
    "Each row of the demographics files represents a single person, but also includes information outside of individuals, including information about their household, building, and neighborhood. Use the information from the first two files to figure out how customers (\"CUSTOMERS\") are similar to or differ from the general population at large (\"AZDIAS\"), then use your analysis to make predictions on the other two files (\"MAILOUT\"), predicting which recipients are most likely to become a customer for the mail-order company.\n",
    "\n",
    "The \"CUSTOMERS\" file contains three extra columns ('CUSTOMER_GROUP', 'ONLINE_PURCHASE', and 'PRODUCT_GROUP'), which provide broad information about the customers depicted in the file. The original \"MAILOUT\" file included one additional column, \"RESPONSE\", which indicated whether or not each recipient became a customer of the company. For the \"TRAIN\" subset, this column has been retained, but in the \"TEST\" subset it has been removed; it is against that withheld column that your final predictions will be assessed in the Kaggle competition.\n",
    "\n",
    "Otherwise, all of the remaining columns are the same between the three data files. For more information about the columns depicted in the files, you can refer to two Excel spreadsheets provided in the workspace. [One of them](./DIAS Information Levels - Attributes 2017.xlsx) is a top-level list of attributes and descriptions, organized by informational category. [The other](./DIAS Attributes - Values 2017.xlsx) is a detailed mapping of data values for each feature in alphabetical order.\n",
    "\n",
    "In the below cell, we've provided some initial code to load in the first two datasets. Note for all of the `.csv` data files in this project that they're semicolon (`;`) delimited, so an additional argument in the [`read_csv()`](https://pandas.pydata.org/pandas-docs/stable/generated/pandas.read_csv.html) call has been included to read in the data properly. Also, considering the size of the datasets, it may take some time for them to load completely.\n",
    "\n",
    "You'll notice when the data is loaded in that a warning message will immediately pop up. Before you really start digging into the modeling and analysis, you're going to need to perform some cleaning. Take some time to browse the structure of the data and look over the informational spreadsheets to understand the data values. Make some decisions on which features to keep, which features to drop, and if any revisions need to be made on data formats. It'll be a good idea to create a function with pre-processing steps, since you'll need to clean all of the datasets before you work with them."
   ]
  },
  {
   "cell_type": "code",
   "execution_count": 2,
   "metadata": {},
   "outputs": [
    {
     "name": "stderr",
     "output_type": "stream",
     "text": [
      "C:\\Users\\xiaoyal\\AppData\\Local\\Continuum\\anaconda3\\lib\\site-packages\\IPython\\core\\interactiveshell.py:3058: DtypeWarning: Columns (18,19) have mixed types. Specify dtype option on import or set low_memory=False.\n",
      "  interactivity=interactivity, compiler=compiler, result=result)\n"
     ]
    }
   ],
   "source": [
    "# load in the data\n",
    "azdias = pd.read_csv('data/Udacity_AZDIAS_052018.csv', sep=';')\n",
    "customers = pd.read_csv('data/Udacity_CUSTOMERS_052018.csv', sep=';')"
   ]
  },
  {
   "cell_type": "markdown",
   "metadata": {},
   "source": [
    "### check out what's wrong with column 18 and 19"
   ]
  },
  {
   "cell_type": "code",
   "execution_count": 4,
   "metadata": {},
   "outputs": [
    {
     "data": {
      "text/html": [
       "<div>\n",
       "<style scoped>\n",
       "    .dataframe tbody tr th:only-of-type {\n",
       "        vertical-align: middle;\n",
       "    }\n",
       "\n",
       "    .dataframe tbody tr th {\n",
       "        vertical-align: top;\n",
       "    }\n",
       "\n",
       "    .dataframe thead th {\n",
       "        text-align: right;\n",
       "    }\n",
       "</style>\n",
       "<table border=\"1\" class=\"dataframe\">\n",
       "  <thead>\n",
       "    <tr style=\"text-align: right;\">\n",
       "      <th></th>\n",
       "      <th>CAMEO_DEUG_2015</th>\n",
       "      <th>CAMEO_INTL_2015</th>\n",
       "    </tr>\n",
       "  </thead>\n",
       "  <tbody>\n",
       "    <tr>\n",
       "      <td>count</td>\n",
       "      <td>792242</td>\n",
       "      <td>792242</td>\n",
       "    </tr>\n",
       "    <tr>\n",
       "      <td>unique</td>\n",
       "      <td>19</td>\n",
       "      <td>43</td>\n",
       "    </tr>\n",
       "    <tr>\n",
       "      <td>top</td>\n",
       "      <td>8</td>\n",
       "      <td>51</td>\n",
       "    </tr>\n",
       "    <tr>\n",
       "      <td>freq</td>\n",
       "      <td>78023</td>\n",
       "      <td>77576</td>\n",
       "    </tr>\n",
       "  </tbody>\n",
       "</table>\n",
       "</div>"
      ],
      "text/plain": [
       "       CAMEO_DEUG_2015 CAMEO_INTL_2015\n",
       "count           792242          792242\n",
       "unique              19              43\n",
       "top                  8              51\n",
       "freq             78023           77576"
      ]
     },
     "execution_count": 4,
     "metadata": {},
     "output_type": "execute_result"
    }
   ],
   "source": [
    "azdias.iloc[:,18:20].describe()"
   ]
  },
  {
   "cell_type": "markdown",
   "metadata": {},
   "source": [
    "#### the reason for the error is the data type"
   ]
  },
  {
   "cell_type": "code",
   "execution_count": 6,
   "metadata": {},
   "outputs": [
    {
     "data": {
      "text/plain": [
       "{float, str}"
      ]
     },
     "execution_count": 6,
     "metadata": {},
     "output_type": "execute_result"
    }
   ],
   "source": [
    "set(azdias.CAMEO_DEUG_2015.apply(lambda x:type(x)))"
   ]
  },
  {
   "cell_type": "code",
   "execution_count": 7,
   "metadata": {},
   "outputs": [
    {
     "data": {
      "text/plain": [
       "{float, str}"
      ]
     },
     "execution_count": 7,
     "metadata": {},
     "output_type": "execute_result"
    }
   ],
   "source": [
    "set(azdias.CAMEO_INTL_2015.apply(lambda x:type(x)))"
   ]
  },
  {
   "cell_type": "markdown",
   "metadata": {},
   "source": [
    "#### turns out the data are a fixed type of both string and floats"
   ]
  },
  {
   "cell_type": "code",
   "execution_count": 15,
   "metadata": {
    "collapsed": true
   },
   "outputs": [
    {
     "data": {
      "text/plain": [
       "{'12',\n",
       " 12.0,\n",
       " '13',\n",
       " 13.0,\n",
       " '14',\n",
       " 14.0,\n",
       " '15',\n",
       " 15.0,\n",
       " '22',\n",
       " 22.0,\n",
       " '23',\n",
       " 23.0,\n",
       " '24',\n",
       " 24.0,\n",
       " '25',\n",
       " 25.0,\n",
       " '31',\n",
       " 31.0,\n",
       " '32',\n",
       " 32.0,\n",
       " '33',\n",
       " 33.0,\n",
       " '34',\n",
       " 34.0,\n",
       " '35',\n",
       " 35.0,\n",
       " '41',\n",
       " 41.0,\n",
       " '43',\n",
       " 43.0,\n",
       " '44',\n",
       " 44.0,\n",
       " '45',\n",
       " 45.0,\n",
       " '51',\n",
       " 51.0,\n",
       " '52',\n",
       " 52.0,\n",
       " '54',\n",
       " 54.0,\n",
       " '55',\n",
       " 55.0,\n",
       " 'XX'}"
      ]
     },
     "execution_count": 15,
     "metadata": {},
     "output_type": "execute_result"
    }
   ],
   "source": [
    "set(azdias.CAMEO_INTL_2015.dropna())"
   ]
  },
  {
   "cell_type": "code",
   "execution_count": 14,
   "metadata": {},
   "outputs": [
    {
     "data": {
      "text/plain": [
       "{'1',\n",
       " 1.0,\n",
       " '2',\n",
       " 2.0,\n",
       " '3',\n",
       " 3.0,\n",
       " '4',\n",
       " 4.0,\n",
       " '5',\n",
       " 5.0,\n",
       " '6',\n",
       " 6.0,\n",
       " '7',\n",
       " 7.0,\n",
       " '8',\n",
       " 8.0,\n",
       " '9',\n",
       " 9.0,\n",
       " 'X'}"
      ]
     },
     "execution_count": 14,
     "metadata": {},
     "output_type": "execute_result"
    }
   ],
   "source": [
    "set(azdias.CAMEO_DEUG_2015.dropna())"
   ]
  },
  {
   "cell_type": "markdown",
   "metadata": {},
   "source": [
    "#### making the X and XX as mentioned in the feature file"
   ]
  },
  {
   "cell_type": "code",
   "execution_count": 3,
   "metadata": {},
   "outputs": [],
   "source": [
    "azdias.loc[azdias.CAMEO_DEUG_2015=='X','CAMEO_DEUG_2015'] = -1\n",
    "azdias.loc[azdias.CAMEO_INTL_2015=='XX','CAMEO_INTL_2015'] = -1"
   ]
  },
  {
   "cell_type": "code",
   "execution_count": 20,
   "metadata": {},
   "outputs": [
    {
     "data": {
      "text/html": [
       "<div>\n",
       "<style scoped>\n",
       "    .dataframe tbody tr th:only-of-type {\n",
       "        vertical-align: middle;\n",
       "    }\n",
       "\n",
       "    .dataframe tbody tr th {\n",
       "        vertical-align: top;\n",
       "    }\n",
       "\n",
       "    .dataframe thead th {\n",
       "        text-align: right;\n",
       "    }\n",
       "</style>\n",
       "<table border=\"1\" class=\"dataframe\">\n",
       "  <thead>\n",
       "    <tr style=\"text-align: right;\">\n",
       "      <th></th>\n",
       "      <th>LNR</th>\n",
       "      <th>AGER_TYP</th>\n",
       "      <th>AKT_DAT_KL</th>\n",
       "      <th>ALTER_HH</th>\n",
       "      <th>ALTER_KIND1</th>\n",
       "      <th>ALTER_KIND2</th>\n",
       "      <th>ALTER_KIND3</th>\n",
       "      <th>ALTER_KIND4</th>\n",
       "      <th>ALTERSKATEGORIE_FEIN</th>\n",
       "      <th>ANZ_HAUSHALTE_AKTIV</th>\n",
       "      <th>...</th>\n",
       "      <th>VHN</th>\n",
       "      <th>VK_DHT4A</th>\n",
       "      <th>VK_DISTANZ</th>\n",
       "      <th>VK_ZG11</th>\n",
       "      <th>W_KEIT_KIND_HH</th>\n",
       "      <th>WOHNDAUER_2008</th>\n",
       "      <th>WOHNLAGE</th>\n",
       "      <th>ZABEOTYP</th>\n",
       "      <th>ANREDE_KZ</th>\n",
       "      <th>ALTERSKATEGORIE_GROB</th>\n",
       "    </tr>\n",
       "  </thead>\n",
       "  <tbody>\n",
       "    <tr>\n",
       "      <td>2511</td>\n",
       "      <td>-1</td>\n",
       "      <td>-1</td>\n",
       "      <td>-1.0</td>\n",
       "      <td>-1.0</td>\n",
       "      <td>-1.0</td>\n",
       "      <td>-1.0</td>\n",
       "      <td>-1.0</td>\n",
       "      <td>-1.0</td>\n",
       "      <td>-1.0</td>\n",
       "      <td>-1.0</td>\n",
       "      <td>...</td>\n",
       "      <td>-1.0</td>\n",
       "      <td>-1.0</td>\n",
       "      <td>-1.0</td>\n",
       "      <td>-1.0</td>\n",
       "      <td>-1.0</td>\n",
       "      <td>-1.0</td>\n",
       "      <td>-1.0</td>\n",
       "      <td>-1</td>\n",
       "      <td>-1</td>\n",
       "      <td>-1</td>\n",
       "    </tr>\n",
       "    <tr>\n",
       "      <td>4569</td>\n",
       "      <td>-1</td>\n",
       "      <td>-1</td>\n",
       "      <td>-1.0</td>\n",
       "      <td>-1.0</td>\n",
       "      <td>-1.0</td>\n",
       "      <td>-1.0</td>\n",
       "      <td>-1.0</td>\n",
       "      <td>-1.0</td>\n",
       "      <td>-1.0</td>\n",
       "      <td>-1.0</td>\n",
       "      <td>...</td>\n",
       "      <td>-1.0</td>\n",
       "      <td>-1.0</td>\n",
       "      <td>-1.0</td>\n",
       "      <td>-1.0</td>\n",
       "      <td>-1.0</td>\n",
       "      <td>-1.0</td>\n",
       "      <td>-1.0</td>\n",
       "      <td>-1</td>\n",
       "      <td>-1</td>\n",
       "      <td>-1</td>\n",
       "    </tr>\n",
       "    <tr>\n",
       "      <td>9803</td>\n",
       "      <td>-1</td>\n",
       "      <td>-1</td>\n",
       "      <td>-1.0</td>\n",
       "      <td>-1.0</td>\n",
       "      <td>-1.0</td>\n",
       "      <td>-1.0</td>\n",
       "      <td>-1.0</td>\n",
       "      <td>-1.0</td>\n",
       "      <td>-1.0</td>\n",
       "      <td>-1.0</td>\n",
       "      <td>...</td>\n",
       "      <td>-1.0</td>\n",
       "      <td>-1.0</td>\n",
       "      <td>-1.0</td>\n",
       "      <td>-1.0</td>\n",
       "      <td>-1.0</td>\n",
       "      <td>-1.0</td>\n",
       "      <td>-1.0</td>\n",
       "      <td>-1</td>\n",
       "      <td>-1</td>\n",
       "      <td>-1</td>\n",
       "    </tr>\n",
       "    <tr>\n",
       "      <td>16700</td>\n",
       "      <td>-1</td>\n",
       "      <td>-1</td>\n",
       "      <td>-1.0</td>\n",
       "      <td>-1.0</td>\n",
       "      <td>-1.0</td>\n",
       "      <td>-1.0</td>\n",
       "      <td>-1.0</td>\n",
       "      <td>-1.0</td>\n",
       "      <td>-1.0</td>\n",
       "      <td>-1.0</td>\n",
       "      <td>...</td>\n",
       "      <td>-1.0</td>\n",
       "      <td>-1.0</td>\n",
       "      <td>-1.0</td>\n",
       "      <td>-1.0</td>\n",
       "      <td>-1.0</td>\n",
       "      <td>-1.0</td>\n",
       "      <td>-1.0</td>\n",
       "      <td>-1</td>\n",
       "      <td>-1</td>\n",
       "      <td>-1</td>\n",
       "    </tr>\n",
       "    <tr>\n",
       "      <td>16883</td>\n",
       "      <td>-1</td>\n",
       "      <td>-1</td>\n",
       "      <td>-1.0</td>\n",
       "      <td>-1.0</td>\n",
       "      <td>-1.0</td>\n",
       "      <td>-1.0</td>\n",
       "      <td>-1.0</td>\n",
       "      <td>-1.0</td>\n",
       "      <td>-1.0</td>\n",
       "      <td>-1.0</td>\n",
       "      <td>...</td>\n",
       "      <td>-1.0</td>\n",
       "      <td>-1.0</td>\n",
       "      <td>-1.0</td>\n",
       "      <td>-1.0</td>\n",
       "      <td>-1.0</td>\n",
       "      <td>-1.0</td>\n",
       "      <td>-1.0</td>\n",
       "      <td>-1</td>\n",
       "      <td>-1</td>\n",
       "      <td>-1</td>\n",
       "    </tr>\n",
       "    <tr>\n",
       "      <td>...</td>\n",
       "      <td>...</td>\n",
       "      <td>...</td>\n",
       "      <td>...</td>\n",
       "      <td>...</td>\n",
       "      <td>...</td>\n",
       "      <td>...</td>\n",
       "      <td>...</td>\n",
       "      <td>...</td>\n",
       "      <td>...</td>\n",
       "      <td>...</td>\n",
       "      <td>...</td>\n",
       "      <td>...</td>\n",
       "      <td>...</td>\n",
       "      <td>...</td>\n",
       "      <td>...</td>\n",
       "      <td>...</td>\n",
       "      <td>...</td>\n",
       "      <td>...</td>\n",
       "      <td>...</td>\n",
       "      <td>...</td>\n",
       "      <td>...</td>\n",
       "    </tr>\n",
       "    <tr>\n",
       "      <td>868148</td>\n",
       "      <td>-1</td>\n",
       "      <td>-1</td>\n",
       "      <td>-1.0</td>\n",
       "      <td>-1.0</td>\n",
       "      <td>-1.0</td>\n",
       "      <td>-1.0</td>\n",
       "      <td>-1.0</td>\n",
       "      <td>-1.0</td>\n",
       "      <td>-1.0</td>\n",
       "      <td>-1.0</td>\n",
       "      <td>...</td>\n",
       "      <td>-1.0</td>\n",
       "      <td>-1.0</td>\n",
       "      <td>-1.0</td>\n",
       "      <td>-1.0</td>\n",
       "      <td>-1.0</td>\n",
       "      <td>-1.0</td>\n",
       "      <td>-1.0</td>\n",
       "      <td>-1</td>\n",
       "      <td>-1</td>\n",
       "      <td>-1</td>\n",
       "    </tr>\n",
       "    <tr>\n",
       "      <td>874917</td>\n",
       "      <td>-1</td>\n",
       "      <td>-1</td>\n",
       "      <td>-1.0</td>\n",
       "      <td>-1.0</td>\n",
       "      <td>-1.0</td>\n",
       "      <td>-1.0</td>\n",
       "      <td>-1.0</td>\n",
       "      <td>-1.0</td>\n",
       "      <td>-1.0</td>\n",
       "      <td>-1.0</td>\n",
       "      <td>...</td>\n",
       "      <td>-1.0</td>\n",
       "      <td>-1.0</td>\n",
       "      <td>-1.0</td>\n",
       "      <td>-1.0</td>\n",
       "      <td>-1.0</td>\n",
       "      <td>-1.0</td>\n",
       "      <td>-1.0</td>\n",
       "      <td>-1</td>\n",
       "      <td>-1</td>\n",
       "      <td>-1</td>\n",
       "    </tr>\n",
       "    <tr>\n",
       "      <td>882189</td>\n",
       "      <td>-1</td>\n",
       "      <td>-1</td>\n",
       "      <td>-1.0</td>\n",
       "      <td>-1.0</td>\n",
       "      <td>-1.0</td>\n",
       "      <td>-1.0</td>\n",
       "      <td>-1.0</td>\n",
       "      <td>-1.0</td>\n",
       "      <td>-1.0</td>\n",
       "      <td>-1.0</td>\n",
       "      <td>...</td>\n",
       "      <td>-1.0</td>\n",
       "      <td>-1.0</td>\n",
       "      <td>-1.0</td>\n",
       "      <td>-1.0</td>\n",
       "      <td>-1.0</td>\n",
       "      <td>-1.0</td>\n",
       "      <td>-1.0</td>\n",
       "      <td>-1</td>\n",
       "      <td>-1</td>\n",
       "      <td>-1</td>\n",
       "    </tr>\n",
       "    <tr>\n",
       "      <td>882231</td>\n",
       "      <td>-1</td>\n",
       "      <td>-1</td>\n",
       "      <td>-1.0</td>\n",
       "      <td>-1.0</td>\n",
       "      <td>-1.0</td>\n",
       "      <td>-1.0</td>\n",
       "      <td>-1.0</td>\n",
       "      <td>-1.0</td>\n",
       "      <td>-1.0</td>\n",
       "      <td>-1.0</td>\n",
       "      <td>...</td>\n",
       "      <td>-1.0</td>\n",
       "      <td>-1.0</td>\n",
       "      <td>-1.0</td>\n",
       "      <td>-1.0</td>\n",
       "      <td>-1.0</td>\n",
       "      <td>-1.0</td>\n",
       "      <td>-1.0</td>\n",
       "      <td>-1</td>\n",
       "      <td>-1</td>\n",
       "      <td>-1</td>\n",
       "    </tr>\n",
       "    <tr>\n",
       "      <td>884998</td>\n",
       "      <td>-1</td>\n",
       "      <td>-1</td>\n",
       "      <td>-1.0</td>\n",
       "      <td>-1.0</td>\n",
       "      <td>-1.0</td>\n",
       "      <td>-1.0</td>\n",
       "      <td>-1.0</td>\n",
       "      <td>-1.0</td>\n",
       "      <td>-1.0</td>\n",
       "      <td>-1.0</td>\n",
       "      <td>...</td>\n",
       "      <td>-1.0</td>\n",
       "      <td>-1.0</td>\n",
       "      <td>-1.0</td>\n",
       "      <td>-1.0</td>\n",
       "      <td>-1.0</td>\n",
       "      <td>-1.0</td>\n",
       "      <td>-1.0</td>\n",
       "      <td>-1</td>\n",
       "      <td>-1</td>\n",
       "      <td>-1</td>\n",
       "    </tr>\n",
       "  </tbody>\n",
       "</table>\n",
       "<p>373 rows × 366 columns</p>\n",
       "</div>"
      ],
      "text/plain": [
       "        LNR  AGER_TYP  AKT_DAT_KL  ALTER_HH  ALTER_KIND1  ALTER_KIND2  \\\n",
       "2511     -1        -1        -1.0      -1.0         -1.0         -1.0   \n",
       "4569     -1        -1        -1.0      -1.0         -1.0         -1.0   \n",
       "9803     -1        -1        -1.0      -1.0         -1.0         -1.0   \n",
       "16700    -1        -1        -1.0      -1.0         -1.0         -1.0   \n",
       "16883    -1        -1        -1.0      -1.0         -1.0         -1.0   \n",
       "...     ...       ...         ...       ...          ...          ...   \n",
       "868148   -1        -1        -1.0      -1.0         -1.0         -1.0   \n",
       "874917   -1        -1        -1.0      -1.0         -1.0         -1.0   \n",
       "882189   -1        -1        -1.0      -1.0         -1.0         -1.0   \n",
       "882231   -1        -1        -1.0      -1.0         -1.0         -1.0   \n",
       "884998   -1        -1        -1.0      -1.0         -1.0         -1.0   \n",
       "\n",
       "        ALTER_KIND3  ALTER_KIND4  ALTERSKATEGORIE_FEIN  ANZ_HAUSHALTE_AKTIV  \\\n",
       "2511           -1.0         -1.0                  -1.0                 -1.0   \n",
       "4569           -1.0         -1.0                  -1.0                 -1.0   \n",
       "9803           -1.0         -1.0                  -1.0                 -1.0   \n",
       "16700          -1.0         -1.0                  -1.0                 -1.0   \n",
       "16883          -1.0         -1.0                  -1.0                 -1.0   \n",
       "...             ...          ...                   ...                  ...   \n",
       "868148         -1.0         -1.0                  -1.0                 -1.0   \n",
       "874917         -1.0         -1.0                  -1.0                 -1.0   \n",
       "882189         -1.0         -1.0                  -1.0                 -1.0   \n",
       "882231         -1.0         -1.0                  -1.0                 -1.0   \n",
       "884998         -1.0         -1.0                  -1.0                 -1.0   \n",
       "\n",
       "        ...  VHN  VK_DHT4A  VK_DISTANZ  VK_ZG11  W_KEIT_KIND_HH  \\\n",
       "2511    ... -1.0      -1.0        -1.0     -1.0            -1.0   \n",
       "4569    ... -1.0      -1.0        -1.0     -1.0            -1.0   \n",
       "9803    ... -1.0      -1.0        -1.0     -1.0            -1.0   \n",
       "16700   ... -1.0      -1.0        -1.0     -1.0            -1.0   \n",
       "16883   ... -1.0      -1.0        -1.0     -1.0            -1.0   \n",
       "...     ...  ...       ...         ...      ...             ...   \n",
       "868148  ... -1.0      -1.0        -1.0     -1.0            -1.0   \n",
       "874917  ... -1.0      -1.0        -1.0     -1.0            -1.0   \n",
       "882189  ... -1.0      -1.0        -1.0     -1.0            -1.0   \n",
       "882231  ... -1.0      -1.0        -1.0     -1.0            -1.0   \n",
       "884998  ... -1.0      -1.0        -1.0     -1.0            -1.0   \n",
       "\n",
       "        WOHNDAUER_2008  WOHNLAGE ZABEOTYP ANREDE_KZ ALTERSKATEGORIE_GROB  \n",
       "2511              -1.0      -1.0       -1        -1                   -1  \n",
       "4569              -1.0      -1.0       -1        -1                   -1  \n",
       "9803              -1.0      -1.0       -1        -1                   -1  \n",
       "16700             -1.0      -1.0       -1        -1                   -1  \n",
       "16883             -1.0      -1.0       -1        -1                   -1  \n",
       "...                ...       ...      ...       ...                  ...  \n",
       "868148            -1.0      -1.0       -1        -1                   -1  \n",
       "874917            -1.0      -1.0       -1        -1                   -1  \n",
       "882189            -1.0      -1.0       -1        -1                   -1  \n",
       "882231            -1.0      -1.0       -1        -1                   -1  \n",
       "884998            -1.0      -1.0       -1        -1                   -1  \n",
       "\n",
       "[373 rows x 366 columns]"
      ]
     },
     "execution_count": 20,
     "metadata": {},
     "output_type": "execute_result"
    }
   ],
   "source": [
    "azdias[azdias.CAMEO_DEUG_2015==-1]"
   ]
  },
  {
   "cell_type": "code",
   "execution_count": 4,
   "metadata": {},
   "outputs": [],
   "source": [
    "customers.loc[customers.CAMEO_DEUG_2015 == 'X','CAMEO_DEUG_2015'] = -1\n",
    "customers.loc[customers.CAMEO_INTL_2015=='XX','CAMEO_INTL_2015'] = -1"
   ]
  },
  {
   "cell_type": "code",
   "execution_count": 5,
   "metadata": {},
   "outputs": [
    {
     "data": {
      "text/html": [
       "<div>\n",
       "<style scoped>\n",
       "    .dataframe tbody tr th:only-of-type {\n",
       "        vertical-align: middle;\n",
       "    }\n",
       "\n",
       "    .dataframe tbody tr th {\n",
       "        vertical-align: top;\n",
       "    }\n",
       "\n",
       "    .dataframe thead th {\n",
       "        text-align: right;\n",
       "    }\n",
       "</style>\n",
       "<table border=\"1\" class=\"dataframe\">\n",
       "  <thead>\n",
       "    <tr style=\"text-align: right;\">\n",
       "      <th></th>\n",
       "      <th>LNR</th>\n",
       "      <th>AGER_TYP</th>\n",
       "      <th>AKT_DAT_KL</th>\n",
       "      <th>ALTER_HH</th>\n",
       "      <th>ALTER_KIND1</th>\n",
       "      <th>ALTER_KIND2</th>\n",
       "      <th>ALTER_KIND3</th>\n",
       "      <th>ALTER_KIND4</th>\n",
       "      <th>ALTERSKATEGORIE_FEIN</th>\n",
       "      <th>ANZ_HAUSHALTE_AKTIV</th>\n",
       "      <th>...</th>\n",
       "      <th>VK_ZG11</th>\n",
       "      <th>W_KEIT_KIND_HH</th>\n",
       "      <th>WOHNDAUER_2008</th>\n",
       "      <th>WOHNLAGE</th>\n",
       "      <th>ZABEOTYP</th>\n",
       "      <th>PRODUCT_GROUP</th>\n",
       "      <th>CUSTOMER_GROUP</th>\n",
       "      <th>ONLINE_PURCHASE</th>\n",
       "      <th>ANREDE_KZ</th>\n",
       "      <th>ALTERSKATEGORIE_GROB</th>\n",
       "    </tr>\n",
       "  </thead>\n",
       "  <tbody>\n",
       "    <tr>\n",
       "      <td>2625</td>\n",
       "      <td>142366</td>\n",
       "      <td>1</td>\n",
       "      <td>5.0</td>\n",
       "      <td>8.0</td>\n",
       "      <td>NaN</td>\n",
       "      <td>NaN</td>\n",
       "      <td>NaN</td>\n",
       "      <td>NaN</td>\n",
       "      <td>8.0</td>\n",
       "      <td>0.0</td>\n",
       "      <td>...</td>\n",
       "      <td>3.0</td>\n",
       "      <td>NaN</td>\n",
       "      <td>9.0</td>\n",
       "      <td>1.0</td>\n",
       "      <td>1</td>\n",
       "      <td>COSMETIC_AND_FOOD</td>\n",
       "      <td>MULTI_BUYER</td>\n",
       "      <td>0</td>\n",
       "      <td>1</td>\n",
       "      <td>4</td>\n",
       "    </tr>\n",
       "    <tr>\n",
       "      <td>3723</td>\n",
       "      <td>31812</td>\n",
       "      <td>1</td>\n",
       "      <td>1.0</td>\n",
       "      <td>8.0</td>\n",
       "      <td>NaN</td>\n",
       "      <td>NaN</td>\n",
       "      <td>NaN</td>\n",
       "      <td>NaN</td>\n",
       "      <td>8.0</td>\n",
       "      <td>0.0</td>\n",
       "      <td>...</td>\n",
       "      <td>6.0</td>\n",
       "      <td>NaN</td>\n",
       "      <td>9.0</td>\n",
       "      <td>2.0</td>\n",
       "      <td>3</td>\n",
       "      <td>COSMETIC_AND_FOOD</td>\n",
       "      <td>MULTI_BUYER</td>\n",
       "      <td>0</td>\n",
       "      <td>1</td>\n",
       "      <td>4</td>\n",
       "    </tr>\n",
       "    <tr>\n",
       "      <td>9970</td>\n",
       "      <td>48588</td>\n",
       "      <td>-1</td>\n",
       "      <td>9.0</td>\n",
       "      <td>0.0</td>\n",
       "      <td>NaN</td>\n",
       "      <td>NaN</td>\n",
       "      <td>NaN</td>\n",
       "      <td>NaN</td>\n",
       "      <td>0.0</td>\n",
       "      <td>0.0</td>\n",
       "      <td>...</td>\n",
       "      <td>6.0</td>\n",
       "      <td>NaN</td>\n",
       "      <td>9.0</td>\n",
       "      <td>2.0</td>\n",
       "      <td>1</td>\n",
       "      <td>COSMETIC</td>\n",
       "      <td>MULTI_BUYER</td>\n",
       "      <td>0</td>\n",
       "      <td>1</td>\n",
       "      <td>4</td>\n",
       "    </tr>\n",
       "    <tr>\n",
       "      <td>10233</td>\n",
       "      <td>139376</td>\n",
       "      <td>-1</td>\n",
       "      <td>5.0</td>\n",
       "      <td>0.0</td>\n",
       "      <td>8.0</td>\n",
       "      <td>10.0</td>\n",
       "      <td>NaN</td>\n",
       "      <td>NaN</td>\n",
       "      <td>NaN</td>\n",
       "      <td>1.0</td>\n",
       "      <td>...</td>\n",
       "      <td>4.0</td>\n",
       "      <td>1.0</td>\n",
       "      <td>9.0</td>\n",
       "      <td>2.0</td>\n",
       "      <td>1</td>\n",
       "      <td>COSMETIC_AND_FOOD</td>\n",
       "      <td>MULTI_BUYER</td>\n",
       "      <td>0</td>\n",
       "      <td>1</td>\n",
       "      <td>1</td>\n",
       "    </tr>\n",
       "    <tr>\n",
       "      <td>11560</td>\n",
       "      <td>166652</td>\n",
       "      <td>-1</td>\n",
       "      <td>9.0</td>\n",
       "      <td>10.0</td>\n",
       "      <td>NaN</td>\n",
       "      <td>NaN</td>\n",
       "      <td>NaN</td>\n",
       "      <td>NaN</td>\n",
       "      <td>NaN</td>\n",
       "      <td>1.0</td>\n",
       "      <td>...</td>\n",
       "      <td>6.0</td>\n",
       "      <td>6.0</td>\n",
       "      <td>9.0</td>\n",
       "      <td>4.0</td>\n",
       "      <td>3</td>\n",
       "      <td>FOOD</td>\n",
       "      <td>MULTI_BUYER</td>\n",
       "      <td>0</td>\n",
       "      <td>1</td>\n",
       "      <td>3</td>\n",
       "    </tr>\n",
       "    <tr>\n",
       "      <td>...</td>\n",
       "      <td>...</td>\n",
       "      <td>...</td>\n",
       "      <td>...</td>\n",
       "      <td>...</td>\n",
       "      <td>...</td>\n",
       "      <td>...</td>\n",
       "      <td>...</td>\n",
       "      <td>...</td>\n",
       "      <td>...</td>\n",
       "      <td>...</td>\n",
       "      <td>...</td>\n",
       "      <td>...</td>\n",
       "      <td>...</td>\n",
       "      <td>...</td>\n",
       "      <td>...</td>\n",
       "      <td>...</td>\n",
       "      <td>...</td>\n",
       "      <td>...</td>\n",
       "      <td>...</td>\n",
       "      <td>...</td>\n",
       "      <td>...</td>\n",
       "    </tr>\n",
       "    <tr>\n",
       "      <td>178742</td>\n",
       "      <td>97987</td>\n",
       "      <td>1</td>\n",
       "      <td>5.0</td>\n",
       "      <td>13.0</td>\n",
       "      <td>NaN</td>\n",
       "      <td>NaN</td>\n",
       "      <td>NaN</td>\n",
       "      <td>NaN</td>\n",
       "      <td>13.0</td>\n",
       "      <td>0.0</td>\n",
       "      <td>...</td>\n",
       "      <td>2.0</td>\n",
       "      <td>NaN</td>\n",
       "      <td>9.0</td>\n",
       "      <td>2.0</td>\n",
       "      <td>1</td>\n",
       "      <td>FOOD</td>\n",
       "      <td>SINGLE_BUYER</td>\n",
       "      <td>0</td>\n",
       "      <td>1</td>\n",
       "      <td>3</td>\n",
       "    </tr>\n",
       "    <tr>\n",
       "      <td>178802</td>\n",
       "      <td>116305</td>\n",
       "      <td>2</td>\n",
       "      <td>1.0</td>\n",
       "      <td>6.0</td>\n",
       "      <td>NaN</td>\n",
       "      <td>NaN</td>\n",
       "      <td>NaN</td>\n",
       "      <td>NaN</td>\n",
       "      <td>6.0</td>\n",
       "      <td>1.0</td>\n",
       "      <td>...</td>\n",
       "      <td>1.0</td>\n",
       "      <td>6.0</td>\n",
       "      <td>9.0</td>\n",
       "      <td>1.0</td>\n",
       "      <td>1</td>\n",
       "      <td>COSMETIC</td>\n",
       "      <td>SINGLE_BUYER</td>\n",
       "      <td>0</td>\n",
       "      <td>1</td>\n",
       "      <td>4</td>\n",
       "    </tr>\n",
       "    <tr>\n",
       "      <td>183513</td>\n",
       "      <td>69256</td>\n",
       "      <td>2</td>\n",
       "      <td>1.0</td>\n",
       "      <td>7.0</td>\n",
       "      <td>NaN</td>\n",
       "      <td>NaN</td>\n",
       "      <td>NaN</td>\n",
       "      <td>NaN</td>\n",
       "      <td>7.0</td>\n",
       "      <td>1.0</td>\n",
       "      <td>...</td>\n",
       "      <td>6.0</td>\n",
       "      <td>6.0</td>\n",
       "      <td>9.0</td>\n",
       "      <td>3.0</td>\n",
       "      <td>3</td>\n",
       "      <td>COSMETIC_AND_FOOD</td>\n",
       "      <td>MULTI_BUYER</td>\n",
       "      <td>0</td>\n",
       "      <td>1</td>\n",
       "      <td>4</td>\n",
       "    </tr>\n",
       "    <tr>\n",
       "      <td>184958</td>\n",
       "      <td>176568</td>\n",
       "      <td>2</td>\n",
       "      <td>6.0</td>\n",
       "      <td>8.0</td>\n",
       "      <td>NaN</td>\n",
       "      <td>NaN</td>\n",
       "      <td>NaN</td>\n",
       "      <td>NaN</td>\n",
       "      <td>8.0</td>\n",
       "      <td>3.0</td>\n",
       "      <td>...</td>\n",
       "      <td>7.0</td>\n",
       "      <td>6.0</td>\n",
       "      <td>3.0</td>\n",
       "      <td>3.0</td>\n",
       "      <td>3</td>\n",
       "      <td>COSMETIC_AND_FOOD</td>\n",
       "      <td>MULTI_BUYER</td>\n",
       "      <td>0</td>\n",
       "      <td>2</td>\n",
       "      <td>4</td>\n",
       "    </tr>\n",
       "    <tr>\n",
       "      <td>191436</td>\n",
       "      <td>129873</td>\n",
       "      <td>2</td>\n",
       "      <td>9.0</td>\n",
       "      <td>10.0</td>\n",
       "      <td>NaN</td>\n",
       "      <td>NaN</td>\n",
       "      <td>NaN</td>\n",
       "      <td>NaN</td>\n",
       "      <td>10.0</td>\n",
       "      <td>1.0</td>\n",
       "      <td>...</td>\n",
       "      <td>NaN</td>\n",
       "      <td>6.0</td>\n",
       "      <td>9.0</td>\n",
       "      <td>3.0</td>\n",
       "      <td>3</td>\n",
       "      <td>FOOD</td>\n",
       "      <td>SINGLE_BUYER</td>\n",
       "      <td>0</td>\n",
       "      <td>1</td>\n",
       "      <td>3</td>\n",
       "    </tr>\n",
       "  </tbody>\n",
       "</table>\n",
       "<p>126 rows × 369 columns</p>\n",
       "</div>"
      ],
      "text/plain": [
       "           LNR  AGER_TYP  AKT_DAT_KL  ALTER_HH  ALTER_KIND1  ALTER_KIND2  \\\n",
       "2625    142366         1         5.0       8.0          NaN          NaN   \n",
       "3723     31812         1         1.0       8.0          NaN          NaN   \n",
       "9970     48588        -1         9.0       0.0          NaN          NaN   \n",
       "10233   139376        -1         5.0       0.0          8.0         10.0   \n",
       "11560   166652        -1         9.0      10.0          NaN          NaN   \n",
       "...        ...       ...         ...       ...          ...          ...   \n",
       "178742   97987         1         5.0      13.0          NaN          NaN   \n",
       "178802  116305         2         1.0       6.0          NaN          NaN   \n",
       "183513   69256         2         1.0       7.0          NaN          NaN   \n",
       "184958  176568         2         6.0       8.0          NaN          NaN   \n",
       "191436  129873         2         9.0      10.0          NaN          NaN   \n",
       "\n",
       "        ALTER_KIND3  ALTER_KIND4  ALTERSKATEGORIE_FEIN  ANZ_HAUSHALTE_AKTIV  \\\n",
       "2625            NaN          NaN                   8.0                  0.0   \n",
       "3723            NaN          NaN                   8.0                  0.0   \n",
       "9970            NaN          NaN                   0.0                  0.0   \n",
       "10233           NaN          NaN                   NaN                  1.0   \n",
       "11560           NaN          NaN                   NaN                  1.0   \n",
       "...             ...          ...                   ...                  ...   \n",
       "178742          NaN          NaN                  13.0                  0.0   \n",
       "178802          NaN          NaN                   6.0                  1.0   \n",
       "183513          NaN          NaN                   7.0                  1.0   \n",
       "184958          NaN          NaN                   8.0                  3.0   \n",
       "191436          NaN          NaN                  10.0                  1.0   \n",
       "\n",
       "        ...  VK_ZG11  W_KEIT_KIND_HH  WOHNDAUER_2008  WOHNLAGE  ZABEOTYP  \\\n",
       "2625    ...      3.0             NaN             9.0       1.0         1   \n",
       "3723    ...      6.0             NaN             9.0       2.0         3   \n",
       "9970    ...      6.0             NaN             9.0       2.0         1   \n",
       "10233   ...      4.0             1.0             9.0       2.0         1   \n",
       "11560   ...      6.0             6.0             9.0       4.0         3   \n",
       "...     ...      ...             ...             ...       ...       ...   \n",
       "178742  ...      2.0             NaN             9.0       2.0         1   \n",
       "178802  ...      1.0             6.0             9.0       1.0         1   \n",
       "183513  ...      6.0             6.0             9.0       3.0         3   \n",
       "184958  ...      7.0             6.0             3.0       3.0         3   \n",
       "191436  ...      NaN             6.0             9.0       3.0         3   \n",
       "\n",
       "            PRODUCT_GROUP  CUSTOMER_GROUP ONLINE_PURCHASE ANREDE_KZ  \\\n",
       "2625    COSMETIC_AND_FOOD     MULTI_BUYER               0         1   \n",
       "3723    COSMETIC_AND_FOOD     MULTI_BUYER               0         1   \n",
       "9970             COSMETIC     MULTI_BUYER               0         1   \n",
       "10233   COSMETIC_AND_FOOD     MULTI_BUYER               0         1   \n",
       "11560                FOOD     MULTI_BUYER               0         1   \n",
       "...                   ...             ...             ...       ...   \n",
       "178742               FOOD    SINGLE_BUYER               0         1   \n",
       "178802           COSMETIC    SINGLE_BUYER               0         1   \n",
       "183513  COSMETIC_AND_FOOD     MULTI_BUYER               0         1   \n",
       "184958  COSMETIC_AND_FOOD     MULTI_BUYER               0         2   \n",
       "191436               FOOD    SINGLE_BUYER               0         1   \n",
       "\n",
       "       ALTERSKATEGORIE_GROB  \n",
       "2625                      4  \n",
       "3723                      4  \n",
       "9970                      4  \n",
       "10233                     1  \n",
       "11560                     3  \n",
       "...                     ...  \n",
       "178742                    3  \n",
       "178802                    4  \n",
       "183513                    4  \n",
       "184958                    4  \n",
       "191436                    3  \n",
       "\n",
       "[126 rows x 369 columns]"
      ]
     },
     "execution_count": 5,
     "metadata": {},
     "output_type": "execute_result"
    }
   ],
   "source": [
    "customers[customers.CAMEO_INTL_2015==-1]"
   ]
  },
  {
   "cell_type": "code",
   "execution_count": 6,
   "metadata": {},
   "outputs": [],
   "source": [
    "def type_transfer(df,features):\n",
    "    for f in features:\n",
    "        df.loc[:,f] = df.loc[:,f].apply(lambda x:float(x))"
   ]
  },
  {
   "cell_type": "code",
   "execution_count": 7,
   "metadata": {},
   "outputs": [],
   "source": [
    "type_transfer(azdias,['CAMEO_DEUG_2015','CAMEO_INTL_2015'])\n",
    "type_transfer(customers,['CAMEO_DEUG_2015','CAMEO_INTL_2015'])\n"
   ]
  },
  {
   "cell_type": "code",
   "execution_count": 8,
   "metadata": {},
   "outputs": [
    {
     "data": {
      "text/plain": [
       "{float}"
      ]
     },
     "execution_count": 8,
     "metadata": {},
     "output_type": "execute_result"
    }
   ],
   "source": [
    "set(azdias.CAMEO_INTL_2015.apply(lambda x:type(x)))"
   ]
  },
  {
   "cell_type": "markdown",
   "metadata": {},
   "source": [
    "### dealing with NA"
   ]
  },
  {
   "cell_type": "code",
   "execution_count": 9,
   "metadata": {
    "scrolled": true
   },
   "outputs": [
    {
     "data": {
      "text/plain": [
       "CAMEO_DEU_2015              object\n",
       "D19_LETZTER_KAUF_BRANCHE    object\n",
       "EINGEFUEGT_AM               object\n",
       "OST_WEST_KZ                 object\n",
       "dtype: object"
      ]
     },
     "execution_count": 9,
     "metadata": {},
     "output_type": "execute_result"
    }
   ],
   "source": [
    "azdias.dtypes[azdias.dtypes=='O']"
   ]
  },
  {
   "cell_type": "code",
   "execution_count": 90,
   "metadata": {},
   "outputs": [
    {
     "data": {
      "text/plain": [
       "46"
      ]
     },
     "execution_count": 90,
     "metadata": {},
     "output_type": "execute_result"
    }
   ],
   "source": [
    "len(azdias.CAMEO_DEU_2015.unique())"
   ]
  },
  {
   "cell_type": "code",
   "execution_count": 58,
   "metadata": {
    "scrolled": true
   },
   "outputs": [
    {
     "data": {
      "text/plain": [
       "count     792242\n",
       "unique        45\n",
       "top           6B\n",
       "freq       56672\n",
       "Name: CAMEO_DEU_2015, dtype: object"
      ]
     },
     "execution_count": 58,
     "metadata": {},
     "output_type": "execute_result"
    }
   ],
   "source": [
    "azdias.CAMEO_DEU_2015.describe()"
   ]
  },
  {
   "cell_type": "markdown",
   "metadata": {},
   "source": [
    "#### create percentage metrics for na values on features"
   ]
  },
  {
   "cell_type": "code",
   "execution_count": 28,
   "metadata": {},
   "outputs": [],
   "source": [
    "azdias_null = azdias.isna().sum()\n",
    "azdias_null_percent = azdias_null / len(azdias) * 100"
   ]
  },
  {
   "cell_type": "code",
   "execution_count": 100,
   "metadata": {},
   "outputs": [
    {
     "data": {
      "text/plain": [
       "<matplotlib.axes._subplots.AxesSubplot at 0x180567d9e48>"
      ]
     },
     "execution_count": 100,
     "metadata": {},
     "output_type": "execute_result"
    },
    {
     "data": {
      "image/png": "[encoded data removed]",
      "text/plain": [
       "<Figure size 1440x576 with 1 Axes>"
      ]
     },
     "metadata": {
      "needs_background": "light"
     },
     "output_type": "display_data"
    }
   ],
   "source": [
    "azdias_null_percent.sort_values(ascending=False)[:30].plot(kind='bar', figsize=(20,8), fontsize=13)"
   ]
  },
  {
   "cell_type": "code",
   "execution_count": null,
   "metadata": {},
   "outputs": [],
   "source": []
  },
  {
   "cell_type": "code",
   "execution_count": 99,
   "metadata": {},
   "outputs": [
    {
     "data": {
      "text/plain": [
       "<matplotlib.axes._subplots.AxesSubplot at 0x1806d803b08>"
      ]
     },
     "execution_count": 99,
     "metadata": {},
     "output_type": "execute_result"
    },
    {
     "data": {
      "image/png": "[encoded data removed]",
      "text/plain": [
       "<Figure size 432x288 with 1 Axes>"
      ]
     },
     "metadata": {
      "needs_background": "light"
     },
     "output_type": "display_data"
    }
   ],
   "source": [
    "azdias_null_percent.hist( bins = np.linspace(10,100,19))"
   ]
  },
  {
   "cell_type": "code",
   "execution_count": 98,
   "metadata": {},
   "outputs": [
    {
     "data": {
      "text/plain": [
       "<matplotlib.axes._subplots.AxesSubplot at 0x18061e5fb08>"
      ]
     },
     "execution_count": 98,
     "metadata": {},
     "output_type": "execute_result"
    },
    {
     "data": {
      "image/png": "[encoded data removed]",
      "text/plain": [
       "<Figure size 432x288 with 1 Axes>"
      ]
     },
     "metadata": {
      "needs_background": "light"
     },
     "output_type": "display_data"
    }
   ],
   "source": [
    "row_nans.hist(bins = np.arange(-0.5,row_nans.max()+1,1))"
   ]
  },
  {
   "cell_type": "markdown",
   "metadata": {},
   "source": [
    "#### the top missing columns will be dropped as most of the features have much less na than those few columns"
   ]
  },
  {
   "cell_type": "code",
   "execution_count": 29,
   "metadata": {},
   "outputs": [],
   "source": [
    "col_to_drop = azdias_null_percent.sort_values(ascending=False)[:6].index.to_numpy()"
   ]
  },
  {
   "cell_type": "code",
   "execution_count": 30,
   "metadata": {},
   "outputs": [],
   "source": [
    "azdias.drop(col_to_drop,axis=1,inplace=True)\n"
   ]
  },
  {
   "cell_type": "code",
   "execution_count": 31,
   "metadata": {},
   "outputs": [
    {
     "data": {
      "text/plain": [
       "(891221, 360)"
      ]
     },
     "execution_count": 31,
     "metadata": {},
     "output_type": "execute_result"
    }
   ],
   "source": [
    "azdias.shape"
   ]
  },
  {
   "cell_type": "code",
   "execution_count": 32,
   "metadata": {},
   "outputs": [],
   "source": [
    "customers.drop(set(customers.columns)-set(azdias.columns),axis=1,inplace=True)"
   ]
  },
  {
   "cell_type": "code",
   "execution_count": 33,
   "metadata": {},
   "outputs": [
    {
     "data": {
      "text/plain": [
       "(191652, 360)"
      ]
     },
     "execution_count": 33,
     "metadata": {},
     "output_type": "execute_result"
    }
   ],
   "source": [
    "customers.shape"
   ]
  },
  {
   "cell_type": "code",
   "execution_count": 114,
   "metadata": {},
   "outputs": [
    {
     "data": {
      "text/html": [
       "<div>\n",
       "<style scoped>\n",
       "    .dataframe tbody tr th:only-of-type {\n",
       "        vertical-align: middle;\n",
       "    }\n",
       "\n",
       "    .dataframe tbody tr th {\n",
       "        vertical-align: top;\n",
       "    }\n",
       "\n",
       "    .dataframe thead th {\n",
       "        text-align: right;\n",
       "    }\n",
       "</style>\n",
       "<table border=\"1\" class=\"dataframe\">\n",
       "  <thead>\n",
       "    <tr style=\"text-align: right;\">\n",
       "      <th></th>\n",
       "      <th>LNR</th>\n",
       "      <th>AGER_TYP</th>\n",
       "      <th>AKT_DAT_KL</th>\n",
       "      <th>ALTER_HH</th>\n",
       "      <th>ALTERSKATEGORIE_FEIN</th>\n",
       "      <th>ANZ_HAUSHALTE_AKTIV</th>\n",
       "      <th>ANZ_HH_TITEL</th>\n",
       "      <th>ANZ_KINDER</th>\n",
       "      <th>ANZ_PERSONEN</th>\n",
       "      <th>ANZ_STATISTISCHE_HAUSHALTE</th>\n",
       "      <th>...</th>\n",
       "      <th>VHN</th>\n",
       "      <th>VK_DHT4A</th>\n",
       "      <th>VK_DISTANZ</th>\n",
       "      <th>VK_ZG11</th>\n",
       "      <th>W_KEIT_KIND_HH</th>\n",
       "      <th>WOHNDAUER_2008</th>\n",
       "      <th>WOHNLAGE</th>\n",
       "      <th>ZABEOTYP</th>\n",
       "      <th>ANREDE_KZ</th>\n",
       "      <th>ALTERSKATEGORIE_GROB</th>\n",
       "    </tr>\n",
       "  </thead>\n",
       "  <tbody>\n",
       "    <tr>\n",
       "      <td>52</td>\n",
       "      <td>507885</td>\n",
       "      <td>-1</td>\n",
       "      <td>3.0</td>\n",
       "      <td>19.0</td>\n",
       "      <td>19.0</td>\n",
       "      <td>10.0</td>\n",
       "      <td>0.0</td>\n",
       "      <td>0.0</td>\n",
       "      <td>1.0</td>\n",
       "      <td>11.0</td>\n",
       "      <td>...</td>\n",
       "      <td>4.0</td>\n",
       "      <td>2.0</td>\n",
       "      <td>3.0</td>\n",
       "      <td>4.0</td>\n",
       "      <td>6.0</td>\n",
       "      <td>4.0</td>\n",
       "      <td>4.0</td>\n",
       "      <td>4</td>\n",
       "      <td>2</td>\n",
       "      <td>1</td>\n",
       "    </tr>\n",
       "    <tr>\n",
       "      <td>72</td>\n",
       "      <td>577033</td>\n",
       "      <td>-1</td>\n",
       "      <td>9.0</td>\n",
       "      <td>0.0</td>\n",
       "      <td>NaN</td>\n",
       "      <td>36.0</td>\n",
       "      <td>1.0</td>\n",
       "      <td>0.0</td>\n",
       "      <td>1.0</td>\n",
       "      <td>36.0</td>\n",
       "      <td>...</td>\n",
       "      <td>3.0</td>\n",
       "      <td>10.0</td>\n",
       "      <td>12.0</td>\n",
       "      <td>9.0</td>\n",
       "      <td>6.0</td>\n",
       "      <td>9.0</td>\n",
       "      <td>1.0</td>\n",
       "      <td>3</td>\n",
       "      <td>2</td>\n",
       "      <td>4</td>\n",
       "    </tr>\n",
       "    <tr>\n",
       "      <td>73</td>\n",
       "      <td>577049</td>\n",
       "      <td>-1</td>\n",
       "      <td>1.0</td>\n",
       "      <td>15.0</td>\n",
       "      <td>15.0</td>\n",
       "      <td>16.0</td>\n",
       "      <td>0.0</td>\n",
       "      <td>0.0</td>\n",
       "      <td>1.0</td>\n",
       "      <td>14.0</td>\n",
       "      <td>...</td>\n",
       "      <td>2.0</td>\n",
       "      <td>8.0</td>\n",
       "      <td>11.0</td>\n",
       "      <td>10.0</td>\n",
       "      <td>3.0</td>\n",
       "      <td>4.0</td>\n",
       "      <td>7.0</td>\n",
       "      <td>6</td>\n",
       "      <td>2</td>\n",
       "      <td>3</td>\n",
       "    </tr>\n",
       "    <tr>\n",
       "      <td>158</td>\n",
       "      <td>876002</td>\n",
       "      <td>-1</td>\n",
       "      <td>9.0</td>\n",
       "      <td>0.0</td>\n",
       "      <td>NaN</td>\n",
       "      <td>67.0</td>\n",
       "      <td>0.0</td>\n",
       "      <td>0.0</td>\n",
       "      <td>1.0</td>\n",
       "      <td>67.0</td>\n",
       "      <td>...</td>\n",
       "      <td>2.0</td>\n",
       "      <td>10.0</td>\n",
       "      <td>10.0</td>\n",
       "      <td>7.0</td>\n",
       "      <td>0.0</td>\n",
       "      <td>9.0</td>\n",
       "      <td>1.0</td>\n",
       "      <td>4</td>\n",
       "      <td>1</td>\n",
       "      <td>3</td>\n",
       "    </tr>\n",
       "    <tr>\n",
       "      <td>274</td>\n",
       "      <td>696344</td>\n",
       "      <td>-1</td>\n",
       "      <td>1.0</td>\n",
       "      <td>17.0</td>\n",
       "      <td>16.0</td>\n",
       "      <td>6.0</td>\n",
       "      <td>0.0</td>\n",
       "      <td>1.0</td>\n",
       "      <td>2.0</td>\n",
       "      <td>6.0</td>\n",
       "      <td>...</td>\n",
       "      <td>0.0</td>\n",
       "      <td>4.0</td>\n",
       "      <td>7.0</td>\n",
       "      <td>7.0</td>\n",
       "      <td>1.0</td>\n",
       "      <td>8.0</td>\n",
       "      <td>7.0</td>\n",
       "      <td>4</td>\n",
       "      <td>1</td>\n",
       "      <td>4</td>\n",
       "    </tr>\n",
       "  </tbody>\n",
       "</table>\n",
       "<p>5 rows × 360 columns</p>\n",
       "</div>"
      ],
      "text/plain": [
       "        LNR  AGER_TYP  AKT_DAT_KL  ALTER_HH  ALTERSKATEGORIE_FEIN  \\\n",
       "52   507885        -1         3.0      19.0                  19.0   \n",
       "72   577033        -1         9.0       0.0                   NaN   \n",
       "73   577049        -1         1.0      15.0                  15.0   \n",
       "158  876002        -1         9.0       0.0                   NaN   \n",
       "274  696344        -1         1.0      17.0                  16.0   \n",
       "\n",
       "     ANZ_HAUSHALTE_AKTIV  ANZ_HH_TITEL  ANZ_KINDER  ANZ_PERSONEN  \\\n",
       "52                  10.0           0.0         0.0           1.0   \n",
       "72                  36.0           1.0         0.0           1.0   \n",
       "73                  16.0           0.0         0.0           1.0   \n",
       "158                 67.0           0.0         0.0           1.0   \n",
       "274                  6.0           0.0         1.0           2.0   \n",
       "\n",
       "     ANZ_STATISTISCHE_HAUSHALTE  ...  VHN  VK_DHT4A  VK_DISTANZ VK_ZG11  \\\n",
       "52                         11.0  ...  4.0       2.0         3.0     4.0   \n",
       "72                         36.0  ...  3.0      10.0        12.0     9.0   \n",
       "73                         14.0  ...  2.0       8.0        11.0    10.0   \n",
       "158                        67.0  ...  2.0      10.0        10.0     7.0   \n",
       "274                         6.0  ...  0.0       4.0         7.0     7.0   \n",
       "\n",
       "     W_KEIT_KIND_HH  WOHNDAUER_2008  WOHNLAGE  ZABEOTYP  ANREDE_KZ  \\\n",
       "52              6.0             4.0       4.0         4          2   \n",
       "72              6.0             9.0       1.0         3          2   \n",
       "73              3.0             4.0       7.0         6          2   \n",
       "158             0.0             9.0       1.0         4          1   \n",
       "274             1.0             8.0       7.0         4          1   \n",
       "\n",
       "     ALTERSKATEGORIE_GROB  \n",
       "52                      1  \n",
       "72                      4  \n",
       "73                      3  \n",
       "158                     3  \n",
       "274                     4  \n",
       "\n",
       "[5 rows x 360 columns]"
      ]
     },
     "execution_count": 114,
     "metadata": {},
     "output_type": "execute_result"
    }
   ],
   "source": [
    "azdias[azdias.KBA05_ALTER4 == 9].head()\n"
   ]
  },
  {
   "cell_type": "code",
   "execution_count": 34,
   "metadata": {},
   "outputs": [],
   "source": [
    "feature = pd.read_excel('data/DIAS Attributes - Values 2017.xlsx',header=1)"
   ]
  },
  {
   "cell_type": "code",
   "execution_count": 35,
   "metadata": {},
   "outputs": [],
   "source": [
    "feature.drop('Unnamed: 0',axis=1,inplace=True)"
   ]
  },
  {
   "cell_type": "code",
   "execution_count": 36,
   "metadata": {},
   "outputs": [],
   "source": [
    "feature.Attribute = feature.Attribute.ffill()"
   ]
  },
  {
   "cell_type": "code",
   "execution_count": 53,
   "metadata": {},
   "outputs": [
    {
     "data": {
      "text/html": [
       "<div>\n",
       "<style scoped>\n",
       "    .dataframe tbody tr th:only-of-type {\n",
       "        vertical-align: middle;\n",
       "    }\n",
       "\n",
       "    .dataframe tbody tr th {\n",
       "        vertical-align: top;\n",
       "    }\n",
       "\n",
       "    .dataframe thead th {\n",
       "        text-align: right;\n",
       "    }\n",
       "</style>\n",
       "<table border=\"1\" class=\"dataframe\">\n",
       "  <thead>\n",
       "    <tr style=\"text-align: right;\">\n",
       "      <th></th>\n",
       "      <th>Attribute</th>\n",
       "      <th>Description</th>\n",
       "      <th>Value</th>\n",
       "      <th>Meaning</th>\n",
       "    </tr>\n",
       "  </thead>\n",
       "  <tbody>\n",
       "    <tr>\n",
       "      <td>0</td>\n",
       "      <td>AGER_TYP</td>\n",
       "      <td>best-ager typology</td>\n",
       "      <td>-1</td>\n",
       "      <td>unknown</td>\n",
       "    </tr>\n",
       "    <tr>\n",
       "      <td>1</td>\n",
       "      <td>AGER_TYP</td>\n",
       "      <td>NaN</td>\n",
       "      <td>0</td>\n",
       "      <td>no classification possible</td>\n",
       "    </tr>\n",
       "    <tr>\n",
       "      <td>2</td>\n",
       "      <td>AGER_TYP</td>\n",
       "      <td>NaN</td>\n",
       "      <td>1</td>\n",
       "      <td>passive elderly</td>\n",
       "    </tr>\n",
       "    <tr>\n",
       "      <td>3</td>\n",
       "      <td>AGER_TYP</td>\n",
       "      <td>NaN</td>\n",
       "      <td>2</td>\n",
       "      <td>cultural elderly</td>\n",
       "    </tr>\n",
       "    <tr>\n",
       "      <td>4</td>\n",
       "      <td>AGER_TYP</td>\n",
       "      <td>NaN</td>\n",
       "      <td>3</td>\n",
       "      <td>experience-driven elderly</td>\n",
       "    </tr>\n",
       "  </tbody>\n",
       "</table>\n",
       "</div>"
      ],
      "text/plain": [
       "  Attribute         Description Value                     Meaning\n",
       "0  AGER_TYP  best-ager typology    -1                     unknown\n",
       "1  AGER_TYP                 NaN     0  no classification possible\n",
       "2  AGER_TYP                 NaN     1             passive elderly\n",
       "3  AGER_TYP                 NaN     2            cultural elderly\n",
       "4  AGER_TYP                 NaN     3   experience-driven elderly"
      ]
     },
     "execution_count": 53,
     "metadata": {},
     "output_type": "execute_result"
    }
   ],
   "source": [
    "feature.head()"
   ]
  },
  {
   "cell_type": "code",
   "execution_count": 55,
   "metadata": {},
   "outputs": [
    {
     "data": {
      "text/html": [
       "<div>\n",
       "<style scoped>\n",
       "    .dataframe tbody tr th:only-of-type {\n",
       "        vertical-align: middle;\n",
       "    }\n",
       "\n",
       "    .dataframe tbody tr th {\n",
       "        vertical-align: top;\n",
       "    }\n",
       "\n",
       "    .dataframe thead th {\n",
       "        text-align: right;\n",
       "    }\n",
       "</style>\n",
       "<table border=\"1\" class=\"dataframe\">\n",
       "  <thead>\n",
       "    <tr style=\"text-align: right;\">\n",
       "      <th></th>\n",
       "      <th>Attribute</th>\n",
       "      <th>Description</th>\n",
       "      <th>Value</th>\n",
       "      <th>Meaning</th>\n",
       "    </tr>\n",
       "  </thead>\n",
       "  <tbody>\n",
       "    <tr>\n",
       "      <td>1906</td>\n",
       "      <td>LP_FAMILIE_GROB</td>\n",
       "      <td>NaN</td>\n",
       "      <td>4</td>\n",
       "      <td>NaN</td>\n",
       "    </tr>\n",
       "    <tr>\n",
       "      <td>1907</td>\n",
       "      <td>LP_FAMILIE_GROB</td>\n",
       "      <td>NaN</td>\n",
       "      <td>5</td>\n",
       "      <td>NaN</td>\n",
       "    </tr>\n",
       "    <tr>\n",
       "      <td>1909</td>\n",
       "      <td>LP_FAMILIE_GROB</td>\n",
       "      <td>NaN</td>\n",
       "      <td>7</td>\n",
       "      <td>NaN</td>\n",
       "    </tr>\n",
       "    <tr>\n",
       "      <td>1910</td>\n",
       "      <td>LP_FAMILIE_GROB</td>\n",
       "      <td>NaN</td>\n",
       "      <td>8</td>\n",
       "      <td>NaN</td>\n",
       "    </tr>\n",
       "    <tr>\n",
       "      <td>1912</td>\n",
       "      <td>LP_FAMILIE_GROB</td>\n",
       "      <td>NaN</td>\n",
       "      <td>10</td>\n",
       "      <td>NaN</td>\n",
       "    </tr>\n",
       "    <tr>\n",
       "      <td>1913</td>\n",
       "      <td>LP_FAMILIE_GROB</td>\n",
       "      <td>NaN</td>\n",
       "      <td>11</td>\n",
       "      <td>NaN</td>\n",
       "    </tr>\n",
       "    <tr>\n",
       "      <td>1977</td>\n",
       "      <td>LP_STATUS_GROB</td>\n",
       "      <td>NaN</td>\n",
       "      <td>2</td>\n",
       "      <td>NaN</td>\n",
       "    </tr>\n",
       "    <tr>\n",
       "      <td>1979</td>\n",
       "      <td>LP_STATUS_GROB</td>\n",
       "      <td>NaN</td>\n",
       "      <td>4</td>\n",
       "      <td>NaN</td>\n",
       "    </tr>\n",
       "    <tr>\n",
       "      <td>1980</td>\n",
       "      <td>LP_STATUS_GROB</td>\n",
       "      <td>NaN</td>\n",
       "      <td>5</td>\n",
       "      <td>NaN</td>\n",
       "    </tr>\n",
       "    <tr>\n",
       "      <td>1982</td>\n",
       "      <td>LP_STATUS_GROB</td>\n",
       "      <td>NaN</td>\n",
       "      <td>7</td>\n",
       "      <td>NaN</td>\n",
       "    </tr>\n",
       "    <tr>\n",
       "      <td>1984</td>\n",
       "      <td>LP_STATUS_GROB</td>\n",
       "      <td>NaN</td>\n",
       "      <td>9</td>\n",
       "      <td>NaN</td>\n",
       "    </tr>\n",
       "  </tbody>\n",
       "</table>\n",
       "</div>"
      ],
      "text/plain": [
       "            Attribute Description Value Meaning\n",
       "1906  LP_FAMILIE_GROB         NaN     4     NaN\n",
       "1907  LP_FAMILIE_GROB         NaN     5     NaN\n",
       "1909  LP_FAMILIE_GROB         NaN     7     NaN\n",
       "1910  LP_FAMILIE_GROB         NaN     8     NaN\n",
       "1912  LP_FAMILIE_GROB         NaN    10     NaN\n",
       "1913  LP_FAMILIE_GROB         NaN    11     NaN\n",
       "1977   LP_STATUS_GROB         NaN     2     NaN\n",
       "1979   LP_STATUS_GROB         NaN     4     NaN\n",
       "1980   LP_STATUS_GROB         NaN     5     NaN\n",
       "1982   LP_STATUS_GROB         NaN     7     NaN\n",
       "1984   LP_STATUS_GROB         NaN     9     NaN"
      ]
     },
     "execution_count": 55,
     "metadata": {},
     "output_type": "execute_result"
    }
   ],
   "source": [
    "feature[feature.Meaning.apply(lambda x:type(x) == float)]"
   ]
  },
  {
   "cell_type": "markdown",
   "metadata": {},
   "source": [
    "#### found unknown values to impuet na"
   ]
  },
  {
   "cell_type": "code",
   "execution_count": 57,
   "metadata": {},
   "outputs": [
    {
     "data": {
      "text/html": [
       "<div>\n",
       "<style scoped>\n",
       "    .dataframe tbody tr th:only-of-type {\n",
       "        vertical-align: middle;\n",
       "    }\n",
       "\n",
       "    .dataframe tbody tr th {\n",
       "        vertical-align: top;\n",
       "    }\n",
       "\n",
       "    .dataframe thead th {\n",
       "        text-align: right;\n",
       "    }\n",
       "</style>\n",
       "<table border=\"1\" class=\"dataframe\">\n",
       "  <thead>\n",
       "    <tr style=\"text-align: right;\">\n",
       "      <th></th>\n",
       "      <th>Attribute</th>\n",
       "      <th>Description</th>\n",
       "      <th>Value</th>\n",
       "      <th>Meaning</th>\n",
       "    </tr>\n",
       "  </thead>\n",
       "  <tbody>\n",
       "    <tr>\n",
       "      <td>0</td>\n",
       "      <td>AGER_TYP</td>\n",
       "      <td>best-ager typology</td>\n",
       "      <td>-1</td>\n",
       "      <td>unknown</td>\n",
       "    </tr>\n",
       "    <tr>\n",
       "      <td>5</td>\n",
       "      <td>ALTERSKATEGORIE_GROB</td>\n",
       "      <td>age classification through prename analysis</td>\n",
       "      <td>-1, 0</td>\n",
       "      <td>unknown</td>\n",
       "    </tr>\n",
       "    <tr>\n",
       "      <td>11</td>\n",
       "      <td>ALTER_HH</td>\n",
       "      <td>main age within the household</td>\n",
       "      <td>0</td>\n",
       "      <td>unknown / no main age detectable</td>\n",
       "    </tr>\n",
       "    <tr>\n",
       "      <td>33</td>\n",
       "      <td>ANREDE_KZ</td>\n",
       "      <td>gender</td>\n",
       "      <td>-1, 0</td>\n",
       "      <td>unknown</td>\n",
       "    </tr>\n",
       "    <tr>\n",
       "      <td>40</td>\n",
       "      <td>BALLRAUM</td>\n",
       "      <td>distance to next urban centre</td>\n",
       "      <td>-1</td>\n",
       "      <td>unknown</td>\n",
       "    </tr>\n",
       "    <tr>\n",
       "      <td>...</td>\n",
       "      <td>...</td>\n",
       "      <td>...</td>\n",
       "      <td>...</td>\n",
       "      <td>...</td>\n",
       "    </tr>\n",
       "    <tr>\n",
       "      <td>2219</td>\n",
       "      <td>WOHNDAUER_2008</td>\n",
       "      <td>length of residence</td>\n",
       "      <td>-1, 0</td>\n",
       "      <td>unknown</td>\n",
       "    </tr>\n",
       "    <tr>\n",
       "      <td>2229</td>\n",
       "      <td>WOHNLAGE</td>\n",
       "      <td>residential-area</td>\n",
       "      <td>-1</td>\n",
       "      <td>unknown</td>\n",
       "    </tr>\n",
       "    <tr>\n",
       "      <td>2238</td>\n",
       "      <td>WACHSTUMSGEBIET_NB</td>\n",
       "      <td>growing area (population growth in the last 5 ...</td>\n",
       "      <td>-1, 0</td>\n",
       "      <td>unknown</td>\n",
       "    </tr>\n",
       "    <tr>\n",
       "      <td>2244</td>\n",
       "      <td>W_KEIT_KIND_HH</td>\n",
       "      <td>likelihood of a child present in this household</td>\n",
       "      <td>-1, 0</td>\n",
       "      <td>unknown</td>\n",
       "    </tr>\n",
       "    <tr>\n",
       "      <td>2251</td>\n",
       "      <td>ZABEOTYP</td>\n",
       "      <td>typification of energy consumers</td>\n",
       "      <td>-1, 9</td>\n",
       "      <td>unknown</td>\n",
       "    </tr>\n",
       "  </tbody>\n",
       "</table>\n",
       "<p>233 rows × 4 columns</p>\n",
       "</div>"
      ],
      "text/plain": [
       "                 Attribute                                        Description  \\\n",
       "0                 AGER_TYP                                 best-ager typology   \n",
       "5     ALTERSKATEGORIE_GROB       age classification through prename analysis    \n",
       "11                ALTER_HH                      main age within the household   \n",
       "33               ANREDE_KZ                                             gender   \n",
       "40                BALLRAUM                     distance to next urban centre    \n",
       "...                    ...                                                ...   \n",
       "2219        WOHNDAUER_2008                                length of residence   \n",
       "2229              WOHNLAGE                                  residential-area    \n",
       "2238    WACHSTUMSGEBIET_NB  growing area (population growth in the last 5 ...   \n",
       "2244        W_KEIT_KIND_HH    likelihood of a child present in this household   \n",
       "2251              ZABEOTYP                   typification of energy consumers   \n",
       "\n",
       "      Value                           Meaning  \n",
       "0        -1                           unknown  \n",
       "5     -1, 0                           unknown  \n",
       "11        0  unknown / no main age detectable  \n",
       "33    -1, 0                           unknown  \n",
       "40       -1                           unknown  \n",
       "...     ...                               ...  \n",
       "2219  -1, 0                           unknown  \n",
       "2229     -1                           unknown  \n",
       "2238  -1, 0                           unknown  \n",
       "2244  -1, 0                           unknown  \n",
       "2251  -1, 9                           unknown  \n",
       "\n",
       "[233 rows x 4 columns]"
      ]
     },
     "execution_count": 57,
     "metadata": {},
     "output_type": "execute_result"
    }
   ],
   "source": [
    "feature[feature.Meaning.apply(lambda x:'unknown' in x.lower() if type(x)==str else False)]"
   ]
  },
  {
   "cell_type": "code",
   "execution_count": null,
   "metadata": {},
   "outputs": [],
   "source": [
    "unknown = feature[feature.Meaning.apply(lambda x:'unknown' in x.lower() if type(x)==str else False)]\n",
    "unknown.loc[:,'value_list'] = unknown.Value.apply(lambda x:[int(item) for item in x.split(',')] if type(x) == str else [x])"
   ]
  },
  {
   "cell_type": "code",
   "execution_count": 20,
   "metadata": {},
   "outputs": [
    {
     "data": {
      "text/html": [
       "<div>\n",
       "<style scoped>\n",
       "    .dataframe tbody tr th:only-of-type {\n",
       "        vertical-align: middle;\n",
       "    }\n",
       "\n",
       "    .dataframe tbody tr th {\n",
       "        vertical-align: top;\n",
       "    }\n",
       "\n",
       "    .dataframe thead th {\n",
       "        text-align: right;\n",
       "    }\n",
       "</style>\n",
       "<table border=\"1\" class=\"dataframe\">\n",
       "  <thead>\n",
       "    <tr style=\"text-align: right;\">\n",
       "      <th></th>\n",
       "      <th>Attribute</th>\n",
       "      <th>Description</th>\n",
       "      <th>Value</th>\n",
       "      <th>Meaning</th>\n",
       "      <th>value_list</th>\n",
       "    </tr>\n",
       "  </thead>\n",
       "  <tbody>\n",
       "    <tr>\n",
       "      <td>0</td>\n",
       "      <td>AGER_TYP</td>\n",
       "      <td>best-ager typology</td>\n",
       "      <td>-1</td>\n",
       "      <td>unknown</td>\n",
       "      <td>[-1]</td>\n",
       "    </tr>\n",
       "    <tr>\n",
       "      <td>5</td>\n",
       "      <td>ALTERSKATEGORIE_GROB</td>\n",
       "      <td>age classification through prename analysis</td>\n",
       "      <td>-1, 0</td>\n",
       "      <td>unknown</td>\n",
       "      <td>[-1, 0]</td>\n",
       "    </tr>\n",
       "    <tr>\n",
       "      <td>11</td>\n",
       "      <td>ALTER_HH</td>\n",
       "      <td>main age within the household</td>\n",
       "      <td>0</td>\n",
       "      <td>unknown / no main age detectable</td>\n",
       "      <td>[0]</td>\n",
       "    </tr>\n",
       "    <tr>\n",
       "      <td>33</td>\n",
       "      <td>ANREDE_KZ</td>\n",
       "      <td>gender</td>\n",
       "      <td>-1, 0</td>\n",
       "      <td>unknown</td>\n",
       "      <td>[-1, 0]</td>\n",
       "    </tr>\n",
       "    <tr>\n",
       "      <td>40</td>\n",
       "      <td>BALLRAUM</td>\n",
       "      <td>distance to next urban centre</td>\n",
       "      <td>-1</td>\n",
       "      <td>unknown</td>\n",
       "      <td>[-1]</td>\n",
       "    </tr>\n",
       "  </tbody>\n",
       "</table>\n",
       "</div>"
      ],
      "text/plain": [
       "               Attribute                                   Description  Value  \\\n",
       "0               AGER_TYP                            best-ager typology     -1   \n",
       "5   ALTERSKATEGORIE_GROB  age classification through prename analysis   -1, 0   \n",
       "11              ALTER_HH                 main age within the household      0   \n",
       "33             ANREDE_KZ                                        gender  -1, 0   \n",
       "40              BALLRAUM                distance to next urban centre      -1   \n",
       "\n",
       "                             Meaning value_list  \n",
       "0                            unknown       [-1]  \n",
       "5                            unknown    [-1, 0]  \n",
       "11  unknown / no main age detectable        [0]  \n",
       "33                           unknown    [-1, 0]  \n",
       "40                           unknown       [-1]  "
      ]
     },
     "execution_count": 20,
     "metadata": {},
     "output_type": "execute_result"
    }
   ],
   "source": [
    "unknown.head()"
   ]
  },
  {
   "cell_type": "code",
   "execution_count": 142,
   "metadata": {},
   "outputs": [
    {
     "data": {
      "text/plain": [
       "True"
      ]
     },
     "execution_count": 142,
     "metadata": {},
     "output_type": "execute_result"
    }
   ],
   "source": [
    "'BIP_FLAG' in set(unknown.Attribute)"
   ]
  },
  {
   "cell_type": "markdown",
   "metadata": {},
   "source": [
    "#### create a unknown value dictionary to inpute later"
   ]
  },
  {
   "cell_type": "markdown",
   "metadata": {},
   "source": [
    "#### for features who has two values in the excel file, I am trying to see which of the two values shows in the azdias file.\n",
    "#### if not value is found, use -1 as -1 is used most in other features\n",
    "#### if there's only one unknown, it will be out in the unknow list directly."
   ]
  },
  {
   "cell_type": "code",
   "execution_count": 21,
   "metadata": {
    "scrolled": true
   },
   "outputs": [],
   "source": [
    "unknown_dic = {}\n",
    "for i in range(unknown.shape[0]):\n",
    "    attribute = unknown.Attribute.iloc[i]\n",
    "    #print(i,attribute)\n",
    "    values = unknown.value_list.iloc[i]\n",
    "    if len(values) ==1:\n",
    "        unknown_dic[attribute] = values[0]\n",
    "    else:\n",
    "        for value in values:\n",
    "            if attribute in azdias.columns and value in azdias.loc[:,attribute].to_numpy():\n",
    "                if attribute in unknown_dic:\n",
    "                    print(attribute)\n",
    "                else:\n",
    "                    unknown_dic[attribute] = value"
   ]
  },
  {
   "cell_type": "code",
   "execution_count": 23,
   "metadata": {},
   "outputs": [
    {
     "data": {
      "text/plain": [
       "233"
      ]
     },
     "execution_count": 23,
     "metadata": {},
     "output_type": "execute_result"
    }
   ],
   "source": [
    "len(unknown)"
   ]
  },
  {
   "cell_type": "code",
   "execution_count": 36,
   "metadata": {},
   "outputs": [
    {
     "data": {
      "text/plain": [
       "208"
      ]
     },
     "execution_count": 36,
     "metadata": {},
     "output_type": "execute_result"
    }
   ],
   "source": [
    "len(unknown_dic.keys())"
   ]
  },
  {
   "cell_type": "code",
   "execution_count": 59,
   "metadata": {},
   "outputs": [
    {
     "data": {
      "text/plain": [
       "0       False\n",
       "5        True\n",
       "11      False\n",
       "33       True\n",
       "40      False\n",
       "        ...  \n",
       "2219     True\n",
       "2229    False\n",
       "2238    False\n",
       "2244    False\n",
       "2251     True\n",
       "Name: Attribute, Length: 233, dtype: bool"
      ]
     },
     "execution_count": 59,
     "metadata": {},
     "output_type": "execute_result"
    }
   ],
   "source": [
    "unknown.Attribute.apply(lambda x:x in (set(unknown.Attribute)-set(unknown_dic.keys()))&set(azdias.columns))"
   ]
  },
  {
   "cell_type": "code",
   "execution_count": 60,
   "metadata": {
    "scrolled": true
   },
   "outputs": [
    {
     "data": {
      "text/html": [
       "<div>\n",
       "<style scoped>\n",
       "    .dataframe tbody tr th:only-of-type {\n",
       "        vertical-align: middle;\n",
       "    }\n",
       "\n",
       "    .dataframe tbody tr th {\n",
       "        vertical-align: top;\n",
       "    }\n",
       "\n",
       "    .dataframe thead th {\n",
       "        text-align: right;\n",
       "    }\n",
       "</style>\n",
       "<table border=\"1\" class=\"dataframe\">\n",
       "  <thead>\n",
       "    <tr style=\"text-align: right;\">\n",
       "      <th></th>\n",
       "      <th>Attribute</th>\n",
       "      <th>Description</th>\n",
       "      <th>Value</th>\n",
       "      <th>Meaning</th>\n",
       "      <th>value_list</th>\n",
       "    </tr>\n",
       "  </thead>\n",
       "  <tbody>\n",
       "    <tr>\n",
       "      <td>5</td>\n",
       "      <td>ALTERSKATEGORIE_GROB</td>\n",
       "      <td>age classification through prename analysis</td>\n",
       "      <td>-1, 0</td>\n",
       "      <td>unknown</td>\n",
       "      <td>[-1, 0]</td>\n",
       "    </tr>\n",
       "    <tr>\n",
       "      <td>33</td>\n",
       "      <td>ANREDE_KZ</td>\n",
       "      <td>gender</td>\n",
       "      <td>-1, 0</td>\n",
       "      <td>unknown</td>\n",
       "      <td>[-1, 0]</td>\n",
       "    </tr>\n",
       "    <tr>\n",
       "      <td>697</td>\n",
       "      <td>GEBAEUDETYP</td>\n",
       "      <td>type of building (residential or commercial)</td>\n",
       "      <td>-1, 0</td>\n",
       "      <td>unknown</td>\n",
       "      <td>[-1, 0]</td>\n",
       "    </tr>\n",
       "    <tr>\n",
       "      <td>749</td>\n",
       "      <td>HH_EINKOMMEN_SCORE</td>\n",
       "      <td>estimated household net income</td>\n",
       "      <td>-1, 0</td>\n",
       "      <td>unknown</td>\n",
       "      <td>[-1, 0]</td>\n",
       "    </tr>\n",
       "    <tr>\n",
       "      <td>864</td>\n",
       "      <td>KBA05_GBZ</td>\n",
       "      <td>number of buildings in the microcell</td>\n",
       "      <td>-1, 0</td>\n",
       "      <td>unknown</td>\n",
       "      <td>[-1, 0]</td>\n",
       "    </tr>\n",
       "    <tr>\n",
       "      <td>1025</td>\n",
       "      <td>KBA05_MODTEMP</td>\n",
       "      <td>development of the most common car segment in ...</td>\n",
       "      <td>-1, 9</td>\n",
       "      <td>unknown</td>\n",
       "      <td>[-1, 9]</td>\n",
       "    </tr>\n",
       "    <tr>\n",
       "      <td>2090</td>\n",
       "      <td>SEMIO_DOM</td>\n",
       "      <td>affinity indicating in what way the person is ...</td>\n",
       "      <td>-1, 9</td>\n",
       "      <td>unknown</td>\n",
       "      <td>[-1, 9]</td>\n",
       "    </tr>\n",
       "    <tr>\n",
       "      <td>2098</td>\n",
       "      <td>SEMIO_ERL</td>\n",
       "      <td>affinity indicating in what way the person is ...</td>\n",
       "      <td>-1, 9</td>\n",
       "      <td>unknown</td>\n",
       "      <td>[-1, 9]</td>\n",
       "    </tr>\n",
       "    <tr>\n",
       "      <td>2106</td>\n",
       "      <td>SEMIO_FAM</td>\n",
       "      <td>affinity indicating in what way the person is ...</td>\n",
       "      <td>-1, 9</td>\n",
       "      <td>unknown</td>\n",
       "      <td>[-1, 9]</td>\n",
       "    </tr>\n",
       "    <tr>\n",
       "      <td>2114</td>\n",
       "      <td>SEMIO_KAEM</td>\n",
       "      <td>affinity indicating in what way the person is ...</td>\n",
       "      <td>-1, 9</td>\n",
       "      <td>unknown</td>\n",
       "      <td>[-1, 9]</td>\n",
       "    </tr>\n",
       "    <tr>\n",
       "      <td>2122</td>\n",
       "      <td>SEMIO_KRIT</td>\n",
       "      <td>affinity indicating in what way the person is ...</td>\n",
       "      <td>-1, 9</td>\n",
       "      <td>unknown</td>\n",
       "      <td>[-1, 9]</td>\n",
       "    </tr>\n",
       "    <tr>\n",
       "      <td>2130</td>\n",
       "      <td>SEMIO_KULT</td>\n",
       "      <td>affinity indicating in what way the person is ...</td>\n",
       "      <td>-1, 9</td>\n",
       "      <td>unknown</td>\n",
       "      <td>[-1, 9]</td>\n",
       "    </tr>\n",
       "    <tr>\n",
       "      <td>2138</td>\n",
       "      <td>SEMIO_LUST</td>\n",
       "      <td>affinity indicating in what way the person is ...</td>\n",
       "      <td>-1, 9</td>\n",
       "      <td>unknown</td>\n",
       "      <td>[-1, 9]</td>\n",
       "    </tr>\n",
       "    <tr>\n",
       "      <td>2146</td>\n",
       "      <td>SEMIO_MAT</td>\n",
       "      <td>affinity indicating in what way the person is ...</td>\n",
       "      <td>-1, 9</td>\n",
       "      <td>unknown</td>\n",
       "      <td>[-1, 9]</td>\n",
       "    </tr>\n",
       "    <tr>\n",
       "      <td>2154</td>\n",
       "      <td>SEMIO_PFLICHT</td>\n",
       "      <td>affinity indicating in what way the person is ...</td>\n",
       "      <td>-1, 9</td>\n",
       "      <td>unknown</td>\n",
       "      <td>[-1, 9]</td>\n",
       "    </tr>\n",
       "    <tr>\n",
       "      <td>2162</td>\n",
       "      <td>SEMIO_RAT</td>\n",
       "      <td>affinity indicating in what way the person is ...</td>\n",
       "      <td>-1, 9</td>\n",
       "      <td>unknown</td>\n",
       "      <td>[-1, 9]</td>\n",
       "    </tr>\n",
       "    <tr>\n",
       "      <td>2170</td>\n",
       "      <td>SEMIO_REL</td>\n",
       "      <td>affinity indicating in what way the person is ...</td>\n",
       "      <td>-1, 9</td>\n",
       "      <td>unknown</td>\n",
       "      <td>[-1, 9]</td>\n",
       "    </tr>\n",
       "    <tr>\n",
       "      <td>2178</td>\n",
       "      <td>SEMIO_SOZ</td>\n",
       "      <td>affinity indicating in what way the person is ...</td>\n",
       "      <td>-1, 9</td>\n",
       "      <td>unknown</td>\n",
       "      <td>[-1, 9]</td>\n",
       "    </tr>\n",
       "    <tr>\n",
       "      <td>2186</td>\n",
       "      <td>SEMIO_TRADV</td>\n",
       "      <td>affinity indicating in what way the person is ...</td>\n",
       "      <td>-1, 9</td>\n",
       "      <td>unknown</td>\n",
       "      <td>[-1, 9]</td>\n",
       "    </tr>\n",
       "    <tr>\n",
       "      <td>2194</td>\n",
       "      <td>SEMIO_VERT</td>\n",
       "      <td>affinity indicating in what way the person is ...</td>\n",
       "      <td>-1, 9</td>\n",
       "      <td>unknown</td>\n",
       "      <td>[-1, 9]</td>\n",
       "    </tr>\n",
       "    <tr>\n",
       "      <td>2219</td>\n",
       "      <td>WOHNDAUER_2008</td>\n",
       "      <td>length of residence</td>\n",
       "      <td>-1, 0</td>\n",
       "      <td>unknown</td>\n",
       "      <td>[-1, 0]</td>\n",
       "    </tr>\n",
       "    <tr>\n",
       "      <td>2251</td>\n",
       "      <td>ZABEOTYP</td>\n",
       "      <td>typification of energy consumers</td>\n",
       "      <td>-1, 9</td>\n",
       "      <td>unknown</td>\n",
       "      <td>[-1, 9]</td>\n",
       "    </tr>\n",
       "  </tbody>\n",
       "</table>\n",
       "</div>"
      ],
      "text/plain": [
       "                 Attribute                                        Description  \\\n",
       "5     ALTERSKATEGORIE_GROB       age classification through prename analysis    \n",
       "33               ANREDE_KZ                                             gender   \n",
       "697            GEBAEUDETYP       type of building (residential or commercial)   \n",
       "749     HH_EINKOMMEN_SCORE                    estimated household net income    \n",
       "864              KBA05_GBZ               number of buildings in the microcell   \n",
       "1025         KBA05_MODTEMP  development of the most common car segment in ...   \n",
       "2090             SEMIO_DOM  affinity indicating in what way the person is ...   \n",
       "2098             SEMIO_ERL  affinity indicating in what way the person is ...   \n",
       "2106             SEMIO_FAM  affinity indicating in what way the person is ...   \n",
       "2114            SEMIO_KAEM  affinity indicating in what way the person is ...   \n",
       "2122            SEMIO_KRIT  affinity indicating in what way the person is ...   \n",
       "2130            SEMIO_KULT  affinity indicating in what way the person is ...   \n",
       "2138            SEMIO_LUST  affinity indicating in what way the person is ...   \n",
       "2146             SEMIO_MAT  affinity indicating in what way the person is ...   \n",
       "2154         SEMIO_PFLICHT  affinity indicating in what way the person is ...   \n",
       "2162             SEMIO_RAT  affinity indicating in what way the person is ...   \n",
       "2170             SEMIO_REL  affinity indicating in what way the person is ...   \n",
       "2178             SEMIO_SOZ  affinity indicating in what way the person is ...   \n",
       "2186           SEMIO_TRADV  affinity indicating in what way the person is ...   \n",
       "2194            SEMIO_VERT  affinity indicating in what way the person is ...   \n",
       "2219        WOHNDAUER_2008                                length of residence   \n",
       "2251              ZABEOTYP                   typification of energy consumers   \n",
       "\n",
       "      Value  Meaning value_list  \n",
       "5     -1, 0  unknown    [-1, 0]  \n",
       "33    -1, 0  unknown    [-1, 0]  \n",
       "697   -1, 0  unknown    [-1, 0]  \n",
       "749   -1, 0  unknown    [-1, 0]  \n",
       "864   -1, 0  unknown    [-1, 0]  \n",
       "1025  -1, 9  unknown    [-1, 9]  \n",
       "2090  -1, 9  unknown    [-1, 9]  \n",
       "2098  -1, 9  unknown    [-1, 9]  \n",
       "2106  -1, 9  unknown    [-1, 9]  \n",
       "2114  -1, 9  unknown    [-1, 9]  \n",
       "2122  -1, 9  unknown    [-1, 9]  \n",
       "2130  -1, 9  unknown    [-1, 9]  \n",
       "2138  -1, 9  unknown    [-1, 9]  \n",
       "2146  -1, 9  unknown    [-1, 9]  \n",
       "2154  -1, 9  unknown    [-1, 9]  \n",
       "2162  -1, 9  unknown    [-1, 9]  \n",
       "2170  -1, 9  unknown    [-1, 9]  \n",
       "2178  -1, 9  unknown    [-1, 9]  \n",
       "2186  -1, 9  unknown    [-1, 9]  \n",
       "2194  -1, 9  unknown    [-1, 9]  \n",
       "2219  -1, 0  unknown    [-1, 0]  \n",
       "2251  -1, 9  unknown    [-1, 9]  "
      ]
     },
     "execution_count": 60,
     "metadata": {},
     "output_type": "execute_result"
    }
   ],
   "source": [
    "unknown.loc[unknown.Attribute.apply(lambda x:x in (set(unknown.Attribute)-set(unknown_dic.keys()))&set(azdias.columns))]"
   ]
  },
  {
   "cell_type": "markdown",
   "metadata": {},
   "source": [
    "#### most unknown is encoded as -1, so we will map others as -1"
   ]
  },
  {
   "cell_type": "code",
   "execution_count": 47,
   "metadata": {},
   "outputs": [
    {
     "data": {
      "text/plain": [
       "dict_values([-1, 0, -1, -1, -1, -1, 0, -1, -1, -1, -1, -1, -1, -1, -1, -1, -1, -1, 9, 9, 9, 9, 9, -1, -1, -1, -1, 9, 0, 9, 9, 9, 9, 9, 9, 9, 9, 9, 9, 9, 9, 9, 9, 9, 9, 9, 9, 9, 9, 9, 9, 9, 9, 9, 9, 9, 9, 9, 9, 9, 9, 9, 9, 9, 9, 9, 9, 9, 9, 9, 9, 9, 9, 9, 9, 9, 9, 9, 9, 9, 9, -1, -1, -1, -1, -1, -1, -1, -1, -1, -1, -1, -1, -1, -1, -1, -1, -1, -1, -1, -1, -1, -1, -1, -1, -1, -1, -1, -1, -1, -1, -1, -1, -1, -1, -1, -1, -1, -1, -1, -1, -1, -1, -1, -1, -1, -1, -1, -1, -1, -1, -1, -1, -1, -1, -1, -1, -1, -1, -1, -1, -1, -1, -1, -1, -1, -1, -1, -1, -1, -1, -1, -1, -1, -1, -1, -1, -1, -1, -1, -1, -1, -1, -1, -1, -1, -1, -1, -1, -1, -1, -1, -1, -1, -1, -1, -1, -1, -1, -1, -1, -1, -1, -1, -1, -1, -1, -1, 0, 0, -1, -1, -1, -1, -1, -1, -1, -1, 0, 0, 9, 0, -1, -1, 0, -1, -1, 0])"
      ]
     },
     "execution_count": 47,
     "metadata": {},
     "output_type": "execute_result"
    }
   ],
   "source": [
    "unknown_dic.values()"
   ]
  },
  {
   "cell_type": "code",
   "execution_count": 62,
   "metadata": {},
   "outputs": [],
   "source": [
    "for key in (set(unknown.Attribute)-set(unknown_dic.keys()))&set(azdias.columns):\n",
    "    unknown_dic[key] = -1"
   ]
  },
  {
   "cell_type": "code",
   "execution_count": 25,
   "metadata": {},
   "outputs": [
    {
     "data": {
      "text/plain": [
       "set()"
      ]
     },
     "execution_count": 25,
     "metadata": {},
     "output_type": "execute_result"
    }
   ],
   "source": [
    "(set(unknown.Attribute)-set(unknown_dic.keys()))&set(azdias.columns)"
   ]
  },
  {
   "cell_type": "code",
   "execution_count": 67,
   "metadata": {},
   "outputs": [
    {
     "data": {
      "text/plain": [
       "{'AGER_TYP': -1,\n",
       " 'ALTER_HH': 0,\n",
       " 'BALLRAUM': -1,\n",
       " 'BIP_FLAG': -1,\n",
       " 'CAMEO_DEUG_2015': -1,\n",
       " 'CAMEO_DEUINTL_2015': -1,\n",
       " 'CJT_GESAMTTYP': 0,\n",
       " 'D19_KK_KUNDENTYP': -1,\n",
       " 'EWDICHTE': -1,\n",
       " 'FINANZTYP': -1,\n",
       " 'FINANZ_ANLEGER': -1,\n",
       " 'FINANZ_HAUSBAUER': -1,\n",
       " 'FINANZ_MINIMALIST': -1,\n",
       " 'FINANZ_SPARER': -1,\n",
       " 'FINANZ_UNAUFFAELLIGER': -1,\n",
       " 'FINANZ_VORSORGER': -1,\n",
       " 'HEALTH_TYP': -1,\n",
       " 'INNENSTADT': -1,\n",
       " 'KBA05_ALTER1': 9,\n",
       " 'KBA05_ALTER2': 9,\n",
       " 'KBA05_ALTER3': 9,\n",
       " 'KBA05_ALTER4': 9,\n",
       " 'KBA05_ANHANG': 9,\n",
       " 'KBA05_ANTG1': -1,\n",
       " 'KBA05_ANTG2': -1,\n",
       " 'KBA05_ANTG3': -1,\n",
       " 'KBA05_ANTG4': -1,\n",
       " 'KBA05_AUTOQUOT': 9,\n",
       " 'KBA05_BAUMAX': 0,\n",
       " 'KBA05_CCM1': 9,\n",
       " 'KBA05_CCM2': 9,\n",
       " 'KBA05_CCM3': 9,\n",
       " 'KBA05_CCM4': 9,\n",
       " 'KBA05_DIESEL': 9,\n",
       " 'KBA05_FRAU': 9,\n",
       " 'KBA05_HERST1': 9,\n",
       " 'KBA05_HERST2': 9,\n",
       " 'KBA05_HERST3': 9,\n",
       " 'KBA05_HERST4': 9,\n",
       " 'KBA05_HERST5': 9,\n",
       " 'KBA05_HERSTTEMP': 9,\n",
       " 'KBA05_KRSAQUOT': 9,\n",
       " 'KBA05_KRSHERST1': 9,\n",
       " 'KBA05_KRSHERST2': 9,\n",
       " 'KBA05_KRSHERST3': 9,\n",
       " 'KBA05_KRSKLEIN': 9,\n",
       " 'KBA05_KRSOBER': 9,\n",
       " 'KBA05_KRSVAN': 9,\n",
       " 'KBA05_KRSZUL': 9,\n",
       " 'KBA05_KW1': 9,\n",
       " 'KBA05_KW2': 9,\n",
       " 'KBA05_KW3': 9,\n",
       " 'KBA05_MAXAH': 9,\n",
       " 'KBA05_MAXBJ': 9,\n",
       " 'KBA05_MAXHERST': 9,\n",
       " 'KBA05_MAXSEG': 9,\n",
       " 'KBA05_MAXVORB': 9,\n",
       " 'KBA05_MOD1': 9,\n",
       " 'KBA05_MOD2': 9,\n",
       " 'KBA05_MOD3': 9,\n",
       " 'KBA05_MOD4': 9,\n",
       " 'KBA05_MOD8': 9,\n",
       " 'KBA05_MOTOR': 9,\n",
       " 'KBA05_MOTRAD': 9,\n",
       " 'KBA05_SEG1': 9,\n",
       " 'KBA05_SEG10': 9,\n",
       " 'KBA05_SEG2': 9,\n",
       " 'KBA05_SEG3': 9,\n",
       " 'KBA05_SEG4': 9,\n",
       " 'KBA05_SEG5': 9,\n",
       " 'KBA05_SEG6': 9,\n",
       " 'KBA05_SEG7': 9,\n",
       " 'KBA05_SEG8': 9,\n",
       " 'KBA05_SEG9': 9,\n",
       " 'KBA05_VORB0': 9,\n",
       " 'KBA05_VORB1': 9,\n",
       " 'KBA05_VORB2': 9,\n",
       " 'KBA05_ZUL1': 9,\n",
       " 'KBA05_ZUL2': 9,\n",
       " 'KBA05_ZUL3': 9,\n",
       " 'KBA05_ZUL4': 9,\n",
       " 'KBA13_ALTERHALTER_30': -1,\n",
       " 'KBA13_ALTERHALTER_45': -1,\n",
       " 'KBA13_ALTERHALTER_60': -1,\n",
       " 'KBA13_ALTERHALTER_61': -1,\n",
       " 'KBA13_AUDI': -1,\n",
       " 'KBA13_AUTOQUOTE': -1,\n",
       " 'KBA13_BJ_1999': -1,\n",
       " 'KBA13_BJ_2000': -1,\n",
       " 'KBA13_BJ_2004': -1,\n",
       " 'KBA13_BJ_2006': -1,\n",
       " 'KBA13_BJ_2008': -1,\n",
       " 'KBA13_BJ_2009': -1,\n",
       " 'KBA13_BMW': -1,\n",
       " 'KBA13_CCM_1000': -1,\n",
       " 'KBA13_CCM_1200': -1,\n",
       " 'KBA13_CCM_1400': -1,\n",
       " 'KBA13_CCM_0_1400': -1,\n",
       " 'KBA13_CCM_1500': -1,\n",
       " 'KBA13_CCM_1400_2500': -1,\n",
       " 'KBA13_CCM_1600': -1,\n",
       " 'KBA13_CCM_1800': -1,\n",
       " 'KBA13_CCM_2000': -1,\n",
       " 'KBA13_CCM_2500': -1,\n",
       " 'KBA13_CCM_2501': -1,\n",
       " 'KBA13_CCM_3000': -1,\n",
       " 'KBA13_CCM_3001': -1,\n",
       " 'KBA13_FAB_ASIEN': -1,\n",
       " 'KBA13_FAB_SONSTIGE': -1,\n",
       " 'KBA13_FIAT': -1,\n",
       " 'KBA13_FORD': -1,\n",
       " 'KBA13_HALTER_20': -1,\n",
       " 'KBA13_HALTER_25': -1,\n",
       " 'KBA13_HALTER_30': -1,\n",
       " 'KBA13_HALTER_35': -1,\n",
       " 'KBA13_HALTER_40': -1,\n",
       " 'KBA13_HALTER_45': -1,\n",
       " 'KBA13_HALTER_50': -1,\n",
       " 'KBA13_HALTER_55': -1,\n",
       " 'KBA13_HALTER_60': -1,\n",
       " 'KBA13_HALTER_65': -1,\n",
       " 'KBA13_HALTER_66': -1,\n",
       " 'KBA13_HERST_ASIEN': -1,\n",
       " 'KBA13_HERST_AUDI_VW': -1,\n",
       " 'KBA13_HERST_BMW_BENZ': -1,\n",
       " 'KBA13_HERST_EUROPA': -1,\n",
       " 'KBA13_HERST_FORD_OPEL': -1,\n",
       " 'KBA13_HERST_SONST': -1,\n",
       " 'KBA13_KMH_110': -1,\n",
       " 'KBA13_KMH_140': -1,\n",
       " 'KBA13_KMH_180': -1,\n",
       " 'KBA13_KMH_0_140': -1,\n",
       " 'KBA13_KMH_140_210': -1,\n",
       " 'KBA13_KMH_211': -1,\n",
       " 'KBA13_KMH_250': -1,\n",
       " 'KBA13_KMH_251': -1,\n",
       " 'KBA13_KRSAQUOT': -1,\n",
       " 'KBA13_KRSHERST_AUDI_VW': -1,\n",
       " 'KBA13_KRSHERST_BMW_BENZ': -1,\n",
       " 'KBA13_KRSHERST_FORD_OPEL': -1,\n",
       " 'KBA13_KRSSEG_KLEIN': -1,\n",
       " 'KBA13_KRSSEG_OBER': -1,\n",
       " 'KBA13_KRSSEG_VAN': -1,\n",
       " 'KBA13_KRSZUL_NEU': -1,\n",
       " 'KBA13_KW_30': -1,\n",
       " 'KBA13_KW_40': -1,\n",
       " 'KBA13_KW_50': -1,\n",
       " 'KBA13_KW_60': -1,\n",
       " 'KBA13_KW_0_60': -1,\n",
       " 'KBA13_KW_70': -1,\n",
       " 'KBA13_KW_61_120': -1,\n",
       " 'KBA13_KW_80': -1,\n",
       " 'KBA13_KW_90': -1,\n",
       " 'KBA13_KW_110': -1,\n",
       " 'KBA13_KW_120': -1,\n",
       " 'KBA13_KW_121': -1,\n",
       " 'KBA13_MAZDA': -1,\n",
       " 'KBA13_MERCEDES': -1,\n",
       " 'KBA13_MOTOR': -1,\n",
       " 'KBA13_NISSAN': -1,\n",
       " 'KBA13_OPEL': -1,\n",
       " 'KBA13_PEUGEOT': -1,\n",
       " 'KBA13_RENAULT': -1,\n",
       " 'KBA13_SEG_GELAENDEWAGEN': -1,\n",
       " 'KBA13_SEG_GROSSRAUMVANS': -1,\n",
       " 'KBA13_SEG_KLEINST': -1,\n",
       " 'KBA13_SEG_KLEINWAGEN': -1,\n",
       " 'KBA13_SEG_KOMPAKTKLASSE': -1,\n",
       " 'KBA13_SEG_MINIVANS': -1,\n",
       " 'KBA13_SEG_MINIWAGEN': -1,\n",
       " 'KBA13_SEG_MITTELKLASSE': -1,\n",
       " 'KBA13_SEG_OBEREMITTELKLASSE': -1,\n",
       " 'KBA13_SEG_OBERKLASSE': -1,\n",
       " 'KBA13_SEG_SONSTIGE': -1,\n",
       " 'KBA13_SEG_SPORTWAGEN': -1,\n",
       " 'KBA13_SEG_UTILITIES': -1,\n",
       " 'KBA13_SEG_VAN': -1,\n",
       " 'KBA13_SEG_WOHNMOBILE': -1,\n",
       " 'KBA13_SITZE_4': -1,\n",
       " 'KBA13_SITZE_5': -1,\n",
       " 'KBA13_SITZE_6': -1,\n",
       " 'KBA13_TOYOTA': -1,\n",
       " 'KBA13_VORB_0': -1,\n",
       " 'KBA13_VORB_1': -1,\n",
       " 'KBA13_VORB_1_2': -1,\n",
       " 'KBA13_VORB_2': -1,\n",
       " 'KBA13_VORB_3': -1,\n",
       " 'KBA13_VW': -1,\n",
       " 'KKK': 0,\n",
       " 'NATIONALITAET_KZ': 0,\n",
       " 'ORTSGR_KLS9': -1,\n",
       " 'OST_WEST_KZ': -1,\n",
       " 'PLZ8_ANTG1': -1,\n",
       " 'PLZ8_ANTG2': -1,\n",
       " 'PLZ8_ANTG3': -1,\n",
       " 'PLZ8_ANTG4': -1,\n",
       " 'PLZ8_GBZ': -1,\n",
       " 'PLZ8_HHZ': -1,\n",
       " 'PRAEGENDE_JUGENDJAHRE': 0,\n",
       " 'REGIOTYP': 0,\n",
       " 'RELAT_AB': 9,\n",
       " 'RETOURTYP_BK_S': 0,\n",
       " 'SHOPPER_TYP': -1,\n",
       " 'SOHO_FLAG': -1,\n",
       " 'TITEL_KZ': 0,\n",
       " 'VERS_TYP': -1,\n",
       " 'WOHNLAGE': -1,\n",
       " 'W_KEIT_KIND_HH': 0,\n",
       " 'SEMIO_VERT': -1,\n",
       " 'SEMIO_FAM': -1,\n",
       " 'SEMIO_SOZ': -1,\n",
       " 'SEMIO_RAT': -1,\n",
       " 'HH_EINKOMMEN_SCORE': -1,\n",
       " 'SEMIO_REL': -1,\n",
       " 'ANREDE_KZ': -1,\n",
       " 'KBA05_MODTEMP': -1,\n",
       " 'SEMIO_DOM': -1,\n",
       " 'ZABEOTYP': -1,\n",
       " 'KBA05_GBZ': -1,\n",
       " 'WOHNDAUER_2008': -1,\n",
       " 'SEMIO_KAEM': -1,\n",
       " 'SEMIO_ERL': -1,\n",
       " 'SEMIO_KULT': -1,\n",
       " 'GEBAEUDETYP': -1,\n",
       " 'SEMIO_PFLICHT': -1,\n",
       " 'SEMIO_MAT': -1,\n",
       " 'SEMIO_LUST': -1,\n",
       " 'ALTERSKATEGORIE_GROB': -1,\n",
       " 'SEMIO_KRIT': -1,\n",
       " 'SEMIO_TRADV': -1}"
      ]
     },
     "execution_count": 67,
     "metadata": {},
     "output_type": "execute_result"
    }
   ],
   "source": [
    "unknown_dic"
   ]
  },
  {
   "cell_type": "code",
   "execution_count": 12,
   "metadata": {},
   "outputs": [],
   "source": [
    "def save_obj(obj, name ):\n",
    "    with open('data' + name + '.pkl', 'wb') as f:\n",
    "        pickle.dump(obj, f, pickle.HIGHEST_PROTOCOL)\n",
    "\n",
    "def load_obj(name ):\n",
    "    with open('data' + name + '.pkl', 'rb') as f:\n",
    "        return pickle.load(f)"
   ]
  },
  {
   "cell_type": "code",
   "execution_count": 77,
   "metadata": {},
   "outputs": [],
   "source": [
    "save_obj(unknown_dic,'unknown_dic')"
   ]
  },
  {
   "cell_type": "code",
   "execution_count": 13,
   "metadata": {},
   "outputs": [],
   "source": [
    "unknown_dic = load_obj('unknown_dic')"
   ]
  },
  {
   "cell_type": "code",
   "execution_count": 14,
   "metadata": {},
   "outputs": [
    {
     "data": {
      "text/plain": [
       "{'AGER_TYP': -1,\n",
       " 'ALTER_HH': 0,\n",
       " 'BALLRAUM': -1,\n",
       " 'BIP_FLAG': -1,\n",
       " 'CAMEO_DEUG_2015': -1,\n",
       " 'CAMEO_DEUINTL_2015': -1,\n",
       " 'CJT_GESAMTTYP': 0,\n",
       " 'D19_KK_KUNDENTYP': -1,\n",
       " 'EWDICHTE': -1,\n",
       " 'FINANZTYP': -1,\n",
       " 'FINANZ_ANLEGER': -1,\n",
       " 'FINANZ_HAUSBAUER': -1,\n",
       " 'FINANZ_MINIMALIST': -1,\n",
       " 'FINANZ_SPARER': -1,\n",
       " 'FINANZ_UNAUFFAELLIGER': -1,\n",
       " 'FINANZ_VORSORGER': -1,\n",
       " 'HEALTH_TYP': -1,\n",
       " 'INNENSTADT': -1,\n",
       " 'KBA05_ALTER1': 9,\n",
       " 'KBA05_ALTER2': 9,\n",
       " 'KBA05_ALTER3': 9,\n",
       " 'KBA05_ALTER4': 9,\n",
       " 'KBA05_ANHANG': 9,\n",
       " 'KBA05_ANTG1': -1,\n",
       " 'KBA05_ANTG2': -1,\n",
       " 'KBA05_ANTG3': -1,\n",
       " 'KBA05_ANTG4': -1,\n",
       " 'KBA05_AUTOQUOT': 9,\n",
       " 'KBA05_BAUMAX': 0,\n",
       " 'KBA05_CCM1': 9,\n",
       " 'KBA05_CCM2': 9,\n",
       " 'KBA05_CCM3': 9,\n",
       " 'KBA05_CCM4': 9,\n",
       " 'KBA05_DIESEL': 9,\n",
       " 'KBA05_FRAU': 9,\n",
       " 'KBA05_HERST1': 9,\n",
       " 'KBA05_HERST2': 9,\n",
       " 'KBA05_HERST3': 9,\n",
       " 'KBA05_HERST4': 9,\n",
       " 'KBA05_HERST5': 9,\n",
       " 'KBA05_HERSTTEMP': 9,\n",
       " 'KBA05_KRSAQUOT': 9,\n",
       " 'KBA05_KRSHERST1': 9,\n",
       " 'KBA05_KRSHERST2': 9,\n",
       " 'KBA05_KRSHERST3': 9,\n",
       " 'KBA05_KRSKLEIN': 9,\n",
       " 'KBA05_KRSOBER': 9,\n",
       " 'KBA05_KRSVAN': 9,\n",
       " 'KBA05_KRSZUL': 9,\n",
       " 'KBA05_KW1': 9,\n",
       " 'KBA05_KW2': 9,\n",
       " 'KBA05_KW3': 9,\n",
       " 'KBA05_MAXAH': 9,\n",
       " 'KBA05_MAXBJ': 9,\n",
       " 'KBA05_MAXHERST': 9,\n",
       " 'KBA05_MAXSEG': 9,\n",
       " 'KBA05_MAXVORB': 9,\n",
       " 'KBA05_MOD1': 9,\n",
       " 'KBA05_MOD2': 9,\n",
       " 'KBA05_MOD3': 9,\n",
       " 'KBA05_MOD4': 9,\n",
       " 'KBA05_MOD8': 9,\n",
       " 'KBA05_MOTOR': 9,\n",
       " 'KBA05_MOTRAD': 9,\n",
       " 'KBA05_SEG1': 9,\n",
       " 'KBA05_SEG10': 9,\n",
       " 'KBA05_SEG2': 9,\n",
       " 'KBA05_SEG3': 9,\n",
       " 'KBA05_SEG4': 9,\n",
       " 'KBA05_SEG5': 9,\n",
       " 'KBA05_SEG6': 9,\n",
       " 'KBA05_SEG7': 9,\n",
       " 'KBA05_SEG8': 9,\n",
       " 'KBA05_SEG9': 9,\n",
       " 'KBA05_VORB0': 9,\n",
       " 'KBA05_VORB1': 9,\n",
       " 'KBA05_VORB2': 9,\n",
       " 'KBA05_ZUL1': 9,\n",
       " 'KBA05_ZUL2': 9,\n",
       " 'KBA05_ZUL3': 9,\n",
       " 'KBA05_ZUL4': 9,\n",
       " 'KBA13_ALTERHALTER_30': -1,\n",
       " 'KBA13_ALTERHALTER_45': -1,\n",
       " 'KBA13_ALTERHALTER_60': -1,\n",
       " 'KBA13_ALTERHALTER_61': -1,\n",
       " 'KBA13_AUDI': -1,\n",
       " 'KBA13_AUTOQUOTE': -1,\n",
       " 'KBA13_BJ_1999': -1,\n",
       " 'KBA13_BJ_2000': -1,\n",
       " 'KBA13_BJ_2004': -1,\n",
       " 'KBA13_BJ_2006': -1,\n",
       " 'KBA13_BJ_2008': -1,\n",
       " 'KBA13_BJ_2009': -1,\n",
       " 'KBA13_BMW': -1,\n",
       " 'KBA13_CCM_1000': -1,\n",
       " 'KBA13_CCM_1200': -1,\n",
       " 'KBA13_CCM_1400': -1,\n",
       " 'KBA13_CCM_0_1400': -1,\n",
       " 'KBA13_CCM_1500': -1,\n",
       " 'KBA13_CCM_1400_2500': -1,\n",
       " 'KBA13_CCM_1600': -1,\n",
       " 'KBA13_CCM_1800': -1,\n",
       " 'KBA13_CCM_2000': -1,\n",
       " 'KBA13_CCM_2500': -1,\n",
       " 'KBA13_CCM_2501': -1,\n",
       " 'KBA13_CCM_3000': -1,\n",
       " 'KBA13_CCM_3001': -1,\n",
       " 'KBA13_FAB_ASIEN': -1,\n",
       " 'KBA13_FAB_SONSTIGE': -1,\n",
       " 'KBA13_FIAT': -1,\n",
       " 'KBA13_FORD': -1,\n",
       " 'KBA13_HALTER_20': -1,\n",
       " 'KBA13_HALTER_25': -1,\n",
       " 'KBA13_HALTER_30': -1,\n",
       " 'KBA13_HALTER_35': -1,\n",
       " 'KBA13_HALTER_40': -1,\n",
       " 'KBA13_HALTER_45': -1,\n",
       " 'KBA13_HALTER_50': -1,\n",
       " 'KBA13_HALTER_55': -1,\n",
       " 'KBA13_HALTER_60': -1,\n",
       " 'KBA13_HALTER_65': -1,\n",
       " 'KBA13_HALTER_66': -1,\n",
       " 'KBA13_HERST_ASIEN': -1,\n",
       " 'KBA13_HERST_AUDI_VW': -1,\n",
       " 'KBA13_HERST_BMW_BENZ': -1,\n",
       " 'KBA13_HERST_EUROPA': -1,\n",
       " 'KBA13_HERST_FORD_OPEL': -1,\n",
       " 'KBA13_HERST_SONST': -1,\n",
       " 'KBA13_KMH_110': -1,\n",
       " 'KBA13_KMH_140': -1,\n",
       " 'KBA13_KMH_180': -1,\n",
       " 'KBA13_KMH_0_140': -1,\n",
       " 'KBA13_KMH_140_210': -1,\n",
       " 'KBA13_KMH_211': -1,\n",
       " 'KBA13_KMH_250': -1,\n",
       " 'KBA13_KMH_251': -1,\n",
       " 'KBA13_KRSAQUOT': -1,\n",
       " 'KBA13_KRSHERST_AUDI_VW': -1,\n",
       " 'KBA13_KRSHERST_BMW_BENZ': -1,\n",
       " 'KBA13_KRSHERST_FORD_OPEL': -1,\n",
       " 'KBA13_KRSSEG_KLEIN': -1,\n",
       " 'KBA13_KRSSEG_OBER': -1,\n",
       " 'KBA13_KRSSEG_VAN': -1,\n",
       " 'KBA13_KRSZUL_NEU': -1,\n",
       " 'KBA13_KW_30': -1,\n",
       " 'KBA13_KW_40': -1,\n",
       " 'KBA13_KW_50': -1,\n",
       " 'KBA13_KW_60': -1,\n",
       " 'KBA13_KW_0_60': -1,\n",
       " 'KBA13_KW_70': -1,\n",
       " 'KBA13_KW_61_120': -1,\n",
       " 'KBA13_KW_80': -1,\n",
       " 'KBA13_KW_90': -1,\n",
       " 'KBA13_KW_110': -1,\n",
       " 'KBA13_KW_120': -1,\n",
       " 'KBA13_KW_121': -1,\n",
       " 'KBA13_MAZDA': -1,\n",
       " 'KBA13_MERCEDES': -1,\n",
       " 'KBA13_MOTOR': -1,\n",
       " 'KBA13_NISSAN': -1,\n",
       " 'KBA13_OPEL': -1,\n",
       " 'KBA13_PEUGEOT': -1,\n",
       " 'KBA13_RENAULT': -1,\n",
       " 'KBA13_SEG_GELAENDEWAGEN': -1,\n",
       " 'KBA13_SEG_GROSSRAUMVANS': -1,\n",
       " 'KBA13_SEG_KLEINST': -1,\n",
       " 'KBA13_SEG_KLEINWAGEN': -1,\n",
       " 'KBA13_SEG_KOMPAKTKLASSE': -1,\n",
       " 'KBA13_SEG_MINIVANS': -1,\n",
       " 'KBA13_SEG_MINIWAGEN': -1,\n",
       " 'KBA13_SEG_MITTELKLASSE': -1,\n",
       " 'KBA13_SEG_OBEREMITTELKLASSE': -1,\n",
       " 'KBA13_SEG_OBERKLASSE': -1,\n",
       " 'KBA13_SEG_SONSTIGE': -1,\n",
       " 'KBA13_SEG_SPORTWAGEN': -1,\n",
       " 'KBA13_SEG_UTILITIES': -1,\n",
       " 'KBA13_SEG_VAN': -1,\n",
       " 'KBA13_SEG_WOHNMOBILE': -1,\n",
       " 'KBA13_SITZE_4': -1,\n",
       " 'KBA13_SITZE_5': -1,\n",
       " 'KBA13_SITZE_6': -1,\n",
       " 'KBA13_TOYOTA': -1,\n",
       " 'KBA13_VORB_0': -1,\n",
       " 'KBA13_VORB_1': -1,\n",
       " 'KBA13_VORB_1_2': -1,\n",
       " 'KBA13_VORB_2': -1,\n",
       " 'KBA13_VORB_3': -1,\n",
       " 'KBA13_VW': -1,\n",
       " 'KKK': 0,\n",
       " 'NATIONALITAET_KZ': 0,\n",
       " 'ORTSGR_KLS9': -1,\n",
       " 'OST_WEST_KZ': -1,\n",
       " 'PLZ8_ANTG1': -1,\n",
       " 'PLZ8_ANTG2': -1,\n",
       " 'PLZ8_ANTG3': -1,\n",
       " 'PLZ8_ANTG4': -1,\n",
       " 'PLZ8_GBZ': -1,\n",
       " 'PLZ8_HHZ': -1,\n",
       " 'PRAEGENDE_JUGENDJAHRE': 0,\n",
       " 'REGIOTYP': 0,\n",
       " 'RELAT_AB': 9,\n",
       " 'RETOURTYP_BK_S': 0,\n",
       " 'SHOPPER_TYP': -1,\n",
       " 'SOHO_FLAG': -1,\n",
       " 'TITEL_KZ': 0,\n",
       " 'VERS_TYP': -1,\n",
       " 'WOHNLAGE': -1,\n",
       " 'W_KEIT_KIND_HH': 0,\n",
       " 'SEMIO_VERT': -1,\n",
       " 'SEMIO_FAM': -1,\n",
       " 'SEMIO_SOZ': -1,\n",
       " 'SEMIO_RAT': -1,\n",
       " 'HH_EINKOMMEN_SCORE': -1,\n",
       " 'SEMIO_REL': -1,\n",
       " 'ANREDE_KZ': -1,\n",
       " 'KBA05_MODTEMP': -1,\n",
       " 'SEMIO_DOM': -1,\n",
       " 'ZABEOTYP': -1,\n",
       " 'KBA05_GBZ': -1,\n",
       " 'WOHNDAUER_2008': -1,\n",
       " 'SEMIO_KAEM': -1,\n",
       " 'SEMIO_ERL': -1,\n",
       " 'SEMIO_KULT': -1,\n",
       " 'GEBAEUDETYP': -1,\n",
       " 'SEMIO_PFLICHT': -1,\n",
       " 'SEMIO_MAT': -1,\n",
       " 'SEMIO_LUST': -1,\n",
       " 'ALTERSKATEGORIE_GROB': -1,\n",
       " 'SEMIO_KRIT': -1,\n",
       " 'SEMIO_TRADV': -1}"
      ]
     },
     "execution_count": 14,
     "metadata": {},
     "output_type": "execute_result"
    }
   ],
   "source": [
    "unknown_dic"
   ]
  },
  {
   "cell_type": "markdown",
   "metadata": {},
   "source": [
    "#### inpute NA from unknown dic"
   ]
  },
  {
   "cell_type": "code",
   "execution_count": 86,
   "metadata": {},
   "outputs": [
    {
     "data": {
      "text/html": [
       "<div>\n",
       "<style scoped>\n",
       "    .dataframe tbody tr th:only-of-type {\n",
       "        vertical-align: middle;\n",
       "    }\n",
       "\n",
       "    .dataframe tbody tr th {\n",
       "        vertical-align: top;\n",
       "    }\n",
       "\n",
       "    .dataframe thead th {\n",
       "        text-align: right;\n",
       "    }\n",
       "</style>\n",
       "<table border=\"1\" class=\"dataframe\">\n",
       "  <thead>\n",
       "    <tr style=\"text-align: right;\">\n",
       "      <th></th>\n",
       "      <th>LNR</th>\n",
       "      <th>AGER_TYP</th>\n",
       "      <th>AKT_DAT_KL</th>\n",
       "      <th>ALTER_HH</th>\n",
       "      <th>ALTERSKATEGORIE_FEIN</th>\n",
       "      <th>ANZ_HAUSHALTE_AKTIV</th>\n",
       "      <th>ANZ_HH_TITEL</th>\n",
       "      <th>ANZ_KINDER</th>\n",
       "      <th>ANZ_PERSONEN</th>\n",
       "      <th>ANZ_STATISTISCHE_HAUSHALTE</th>\n",
       "      <th>...</th>\n",
       "      <th>VHN</th>\n",
       "      <th>VK_DHT4A</th>\n",
       "      <th>VK_DISTANZ</th>\n",
       "      <th>VK_ZG11</th>\n",
       "      <th>W_KEIT_KIND_HH</th>\n",
       "      <th>WOHNDAUER_2008</th>\n",
       "      <th>WOHNLAGE</th>\n",
       "      <th>ZABEOTYP</th>\n",
       "      <th>ANREDE_KZ</th>\n",
       "      <th>ALTERSKATEGORIE_GROB</th>\n",
       "    </tr>\n",
       "  </thead>\n",
       "  <tbody>\n",
       "    <tr>\n",
       "      <td>0</td>\n",
       "      <td>910215</td>\n",
       "      <td>-1</td>\n",
       "      <td>NaN</td>\n",
       "      <td>NaN</td>\n",
       "      <td>NaN</td>\n",
       "      <td>NaN</td>\n",
       "      <td>NaN</td>\n",
       "      <td>NaN</td>\n",
       "      <td>NaN</td>\n",
       "      <td>NaN</td>\n",
       "      <td>...</td>\n",
       "      <td>NaN</td>\n",
       "      <td>NaN</td>\n",
       "      <td>NaN</td>\n",
       "      <td>NaN</td>\n",
       "      <td>NaN</td>\n",
       "      <td>NaN</td>\n",
       "      <td>NaN</td>\n",
       "      <td>3</td>\n",
       "      <td>1</td>\n",
       "      <td>2</td>\n",
       "    </tr>\n",
       "    <tr>\n",
       "      <td>1</td>\n",
       "      <td>910220</td>\n",
       "      <td>-1</td>\n",
       "      <td>9.0</td>\n",
       "      <td>0.0</td>\n",
       "      <td>21.0</td>\n",
       "      <td>11.0</td>\n",
       "      <td>0.0</td>\n",
       "      <td>0.0</td>\n",
       "      <td>2.0</td>\n",
       "      <td>12.0</td>\n",
       "      <td>...</td>\n",
       "      <td>4.0</td>\n",
       "      <td>8.0</td>\n",
       "      <td>11.0</td>\n",
       "      <td>10.0</td>\n",
       "      <td>3.0</td>\n",
       "      <td>9.0</td>\n",
       "      <td>4.0</td>\n",
       "      <td>5</td>\n",
       "      <td>2</td>\n",
       "      <td>1</td>\n",
       "    </tr>\n",
       "    <tr>\n",
       "      <td>2</td>\n",
       "      <td>910225</td>\n",
       "      <td>-1</td>\n",
       "      <td>9.0</td>\n",
       "      <td>17.0</td>\n",
       "      <td>17.0</td>\n",
       "      <td>10.0</td>\n",
       "      <td>0.0</td>\n",
       "      <td>0.0</td>\n",
       "      <td>1.0</td>\n",
       "      <td>7.0</td>\n",
       "      <td>...</td>\n",
       "      <td>2.0</td>\n",
       "      <td>9.0</td>\n",
       "      <td>9.0</td>\n",
       "      <td>6.0</td>\n",
       "      <td>3.0</td>\n",
       "      <td>9.0</td>\n",
       "      <td>2.0</td>\n",
       "      <td>5</td>\n",
       "      <td>2</td>\n",
       "      <td>3</td>\n",
       "    </tr>\n",
       "    <tr>\n",
       "      <td>3</td>\n",
       "      <td>910226</td>\n",
       "      <td>2</td>\n",
       "      <td>1.0</td>\n",
       "      <td>13.0</td>\n",
       "      <td>13.0</td>\n",
       "      <td>1.0</td>\n",
       "      <td>0.0</td>\n",
       "      <td>0.0</td>\n",
       "      <td>0.0</td>\n",
       "      <td>2.0</td>\n",
       "      <td>...</td>\n",
       "      <td>0.0</td>\n",
       "      <td>7.0</td>\n",
       "      <td>10.0</td>\n",
       "      <td>11.0</td>\n",
       "      <td>NaN</td>\n",
       "      <td>9.0</td>\n",
       "      <td>7.0</td>\n",
       "      <td>3</td>\n",
       "      <td>2</td>\n",
       "      <td>4</td>\n",
       "    </tr>\n",
       "    <tr>\n",
       "      <td>4</td>\n",
       "      <td>910241</td>\n",
       "      <td>-1</td>\n",
       "      <td>1.0</td>\n",
       "      <td>20.0</td>\n",
       "      <td>14.0</td>\n",
       "      <td>3.0</td>\n",
       "      <td>0.0</td>\n",
       "      <td>0.0</td>\n",
       "      <td>4.0</td>\n",
       "      <td>3.0</td>\n",
       "      <td>...</td>\n",
       "      <td>2.0</td>\n",
       "      <td>3.0</td>\n",
       "      <td>5.0</td>\n",
       "      <td>4.0</td>\n",
       "      <td>2.0</td>\n",
       "      <td>9.0</td>\n",
       "      <td>3.0</td>\n",
       "      <td>4</td>\n",
       "      <td>1</td>\n",
       "      <td>3</td>\n",
       "    </tr>\n",
       "  </tbody>\n",
       "</table>\n",
       "<p>5 rows × 360 columns</p>\n",
       "</div>"
      ],
      "text/plain": [
       "      LNR  AGER_TYP  AKT_DAT_KL  ALTER_HH  ALTERSKATEGORIE_FEIN  \\\n",
       "0  910215        -1         NaN       NaN                   NaN   \n",
       "1  910220        -1         9.0       0.0                  21.0   \n",
       "2  910225        -1         9.0      17.0                  17.0   \n",
       "3  910226         2         1.0      13.0                  13.0   \n",
       "4  910241        -1         1.0      20.0                  14.0   \n",
       "\n",
       "   ANZ_HAUSHALTE_AKTIV  ANZ_HH_TITEL  ANZ_KINDER  ANZ_PERSONEN  \\\n",
       "0                  NaN           NaN         NaN           NaN   \n",
       "1                 11.0           0.0         0.0           2.0   \n",
       "2                 10.0           0.0         0.0           1.0   \n",
       "3                  1.0           0.0         0.0           0.0   \n",
       "4                  3.0           0.0         0.0           4.0   \n",
       "\n",
       "   ANZ_STATISTISCHE_HAUSHALTE  ...  VHN  VK_DHT4A  VK_DISTANZ VK_ZG11  \\\n",
       "0                         NaN  ...  NaN       NaN         NaN     NaN   \n",
       "1                        12.0  ...  4.0       8.0        11.0    10.0   \n",
       "2                         7.0  ...  2.0       9.0         9.0     6.0   \n",
       "3                         2.0  ...  0.0       7.0        10.0    11.0   \n",
       "4                         3.0  ...  2.0       3.0         5.0     4.0   \n",
       "\n",
       "   W_KEIT_KIND_HH  WOHNDAUER_2008  WOHNLAGE  ZABEOTYP  ANREDE_KZ  \\\n",
       "0             NaN             NaN       NaN         3          1   \n",
       "1             3.0             9.0       4.0         5          2   \n",
       "2             3.0             9.0       2.0         5          2   \n",
       "3             NaN             9.0       7.0         3          2   \n",
       "4             2.0             9.0       3.0         4          1   \n",
       "\n",
       "   ALTERSKATEGORIE_GROB  \n",
       "0                     2  \n",
       "1                     1  \n",
       "2                     3  \n",
       "3                     4  \n",
       "4                     3  \n",
       "\n",
       "[5 rows x 360 columns]"
      ]
     },
     "execution_count": 86,
     "metadata": {},
     "output_type": "execute_result"
    }
   ],
   "source": [
    "azdias.head()"
   ]
  },
  {
   "cell_type": "code",
   "execution_count": 79,
   "metadata": {},
   "outputs": [
    {
     "data": {
      "text/plain": [
       "True"
      ]
     },
     "execution_count": 79,
     "metadata": {},
     "output_type": "execute_result"
    }
   ],
   "source": [
    "'ALTER_HH' in unknown_dic"
   ]
  },
  {
   "cell_type": "code",
   "execution_count": 87,
   "metadata": {},
   "outputs": [
    {
     "data": {
      "text/plain": [
       "0          NaN\n",
       "1          0.0\n",
       "2         17.0\n",
       "3         13.0\n",
       "4         20.0\n",
       "          ... \n",
       "891216    17.0\n",
       "891217    16.0\n",
       "891218    17.0\n",
       "891219     0.0\n",
       "891220     0.0\n",
       "Name: ALTER_HH, Length: 891221, dtype: float64"
      ]
     },
     "execution_count": 87,
     "metadata": {},
     "output_type": "execute_result"
    }
   ],
   "source": [
    "azdias.ALTER_HH#.fillna(value = unknown_dic)"
   ]
  },
  {
   "cell_type": "code",
   "execution_count": 98,
   "metadata": {},
   "outputs": [],
   "source": [
    "unknown_dic.get('AKT_DAT_KL')"
   ]
  },
  {
   "cell_type": "code",
   "execution_count": 102,
   "metadata": {
    "scrolled": true
   },
   "outputs": [
    {
     "data": {
      "text/plain": [
       "0.0     310267\n",
       "18.0     60852\n",
       "17.0     55665\n",
       "19.0     52890\n",
       "15.0     51867\n",
       "16.0     51857\n",
       "14.0     44275\n",
       "21.0     41610\n",
       "20.0     40671\n",
       "13.0     37612\n",
       "12.0     34923\n",
       "10.0     30419\n",
       "11.0     27924\n",
       "9.0      22817\n",
       "8.0      13463\n",
       "7.0       8419\n",
       "6.0       3809\n",
       "5.0       1030\n",
       "4.0        603\n",
       "3.0        200\n",
       "2.0         47\n",
       "1.0          1\n",
       "Name: ALTER_HH, dtype: int64"
      ]
     },
     "execution_count": 102,
     "metadata": {},
     "output_type": "execute_result"
    }
   ],
   "source": [
    "azdias.loc[:,['AKT_DAT_KL','ALTER_HH']].fillna(value=unknown_dic).ALTER_HH.value_counts()"
   ]
  },
  {
   "cell_type": "code",
   "execution_count": 37,
   "metadata": {},
   "outputs": [],
   "source": [
    "azdias_after_na = azdias.fillna(value = unknown_dic)"
   ]
  },
  {
   "cell_type": "code",
   "execution_count": 38,
   "metadata": {},
   "outputs": [],
   "source": [
    "customers_after_na = customers.fillna(value= unknown_dic)"
   ]
  },
  {
   "cell_type": "code",
   "execution_count": 39,
   "metadata": {},
   "outputs": [
    {
     "data": {
      "text/plain": [
       "(191652, 360)"
      ]
     },
     "execution_count": 39,
     "metadata": {},
     "output_type": "execute_result"
    }
   ],
   "source": [
    "customers_after_na.shape"
   ]
  },
  {
   "cell_type": "code",
   "execution_count": 41,
   "metadata": {},
   "outputs": [
    {
     "data": {
      "text/plain": [
       "(891221, 360)"
      ]
     },
     "execution_count": 41,
     "metadata": {},
     "output_type": "execute_result"
    }
   ],
   "source": [
    "azdias_after_na.shape"
   ]
  },
  {
   "cell_type": "markdown",
   "metadata": {},
   "source": [
    "#### there are features that's not in the features file but also having NAs, taking a look how many are there."
   ]
  },
  {
   "cell_type": "code",
   "execution_count": 29,
   "metadata": {},
   "outputs": [
    {
     "data": {
      "text/plain": [
       "set()"
      ]
     },
     "execution_count": 29,
     "metadata": {},
     "output_type": "execute_result"
    }
   ],
   "source": [
    "set(customers.columns[customers_after_na.isna().any()])&set(unknown_dic.keys())"
   ]
  },
  {
   "cell_type": "code",
   "execution_count": 113,
   "metadata": {},
   "outputs": [
    {
     "data": {
      "text/plain": [
       "False"
      ]
     },
     "execution_count": 113,
     "metadata": {},
     "output_type": "execute_result"
    }
   ],
   "source": [
    "'AKT_DAT_KL' in set(unknown.Attribute)"
   ]
  },
  {
   "cell_type": "code",
   "execution_count": 124,
   "metadata": {},
   "outputs": [
    {
     "data": {
      "text/plain": [
       "<matplotlib.axes._subplots.AxesSubplot at 0x1a9ee712088>"
      ]
     },
     "execution_count": 124,
     "metadata": {},
     "output_type": "execute_result"
    },
    {
     "data": {
      "image/png": "[encoded data removed]",
      "text/plain": [
       "<Figure size 1440x576 with 1 Axes>"
      ]
     },
     "metadata": {
      "needs_background": "light"
     },
     "output_type": "display_data"
    }
   ],
   "source": [
    "azdias_null_percent[customers.columns[customers_after_na.isna().any()]].plot(kind='bar', figsize=(20,8), fontsize=13)"
   ]
  },
  {
   "cell_type": "markdown",
   "metadata": {},
   "source": [
    "#### most of the features are around 10% missing values. it's okay to not drop them and impute with -1"
   ]
  },
  {
   "cell_type": "code",
   "execution_count": 130,
   "metadata": {},
   "outputs": [
    {
     "data": {
      "text/plain": [
       "set()"
      ]
     },
     "execution_count": 130,
     "metadata": {},
     "output_type": "execute_result"
    }
   ],
   "source": [
    "set( azdias_after_na.isna().any().index)-set(customers_after_na.isna().any().index )"
   ]
  },
  {
   "cell_type": "code",
   "execution_count": 131,
   "metadata": {},
   "outputs": [],
   "source": [
    "unknown_dic.get('AKT_DAT_KL')"
   ]
  },
  {
   "cell_type": "code",
   "execution_count": 132,
   "metadata": {},
   "outputs": [
    {
     "data": {
      "text/html": [
       "<div>\n",
       "<style scoped>\n",
       "    .dataframe tbody tr th:only-of-type {\n",
       "        vertical-align: middle;\n",
       "    }\n",
       "\n",
       "    .dataframe tbody tr th {\n",
       "        vertical-align: top;\n",
       "    }\n",
       "\n",
       "    .dataframe thead th {\n",
       "        text-align: right;\n",
       "    }\n",
       "</style>\n",
       "<table border=\"1\" class=\"dataframe\">\n",
       "  <thead>\n",
       "    <tr style=\"text-align: right;\">\n",
       "      <th></th>\n",
       "      <th>LNR</th>\n",
       "      <th>AGER_TYP</th>\n",
       "      <th>AKT_DAT_KL</th>\n",
       "      <th>ALTER_HH</th>\n",
       "      <th>ALTERSKATEGORIE_FEIN</th>\n",
       "      <th>ANZ_HAUSHALTE_AKTIV</th>\n",
       "      <th>ANZ_HH_TITEL</th>\n",
       "      <th>ANZ_KINDER</th>\n",
       "      <th>ANZ_PERSONEN</th>\n",
       "      <th>ANZ_STATISTISCHE_HAUSHALTE</th>\n",
       "      <th>...</th>\n",
       "      <th>VHN</th>\n",
       "      <th>VK_DHT4A</th>\n",
       "      <th>VK_DISTANZ</th>\n",
       "      <th>VK_ZG11</th>\n",
       "      <th>W_KEIT_KIND_HH</th>\n",
       "      <th>WOHNDAUER_2008</th>\n",
       "      <th>WOHNLAGE</th>\n",
       "      <th>ZABEOTYP</th>\n",
       "      <th>ANREDE_KZ</th>\n",
       "      <th>ALTERSKATEGORIE_GROB</th>\n",
       "    </tr>\n",
       "  </thead>\n",
       "  <tbody>\n",
       "    <tr>\n",
       "      <td>0</td>\n",
       "      <td>910215</td>\n",
       "      <td>-1</td>\n",
       "      <td>-1.0</td>\n",
       "      <td>0.0</td>\n",
       "      <td>-1.0</td>\n",
       "      <td>-1.0</td>\n",
       "      <td>-1.0</td>\n",
       "      <td>-1.0</td>\n",
       "      <td>-1.0</td>\n",
       "      <td>-1.0</td>\n",
       "      <td>...</td>\n",
       "      <td>-1.0</td>\n",
       "      <td>-1.0</td>\n",
       "      <td>-1.0</td>\n",
       "      <td>-1.0</td>\n",
       "      <td>0.0</td>\n",
       "      <td>-1.0</td>\n",
       "      <td>-1.0</td>\n",
       "      <td>3</td>\n",
       "      <td>1</td>\n",
       "      <td>2</td>\n",
       "    </tr>\n",
       "    <tr>\n",
       "      <td>1</td>\n",
       "      <td>910220</td>\n",
       "      <td>-1</td>\n",
       "      <td>9.0</td>\n",
       "      <td>0.0</td>\n",
       "      <td>21.0</td>\n",
       "      <td>11.0</td>\n",
       "      <td>0.0</td>\n",
       "      <td>0.0</td>\n",
       "      <td>2.0</td>\n",
       "      <td>12.0</td>\n",
       "      <td>...</td>\n",
       "      <td>4.0</td>\n",
       "      <td>8.0</td>\n",
       "      <td>11.0</td>\n",
       "      <td>10.0</td>\n",
       "      <td>3.0</td>\n",
       "      <td>9.0</td>\n",
       "      <td>4.0</td>\n",
       "      <td>5</td>\n",
       "      <td>2</td>\n",
       "      <td>1</td>\n",
       "    </tr>\n",
       "    <tr>\n",
       "      <td>2</td>\n",
       "      <td>910225</td>\n",
       "      <td>-1</td>\n",
       "      <td>9.0</td>\n",
       "      <td>17.0</td>\n",
       "      <td>17.0</td>\n",
       "      <td>10.0</td>\n",
       "      <td>0.0</td>\n",
       "      <td>0.0</td>\n",
       "      <td>1.0</td>\n",
       "      <td>7.0</td>\n",
       "      <td>...</td>\n",
       "      <td>2.0</td>\n",
       "      <td>9.0</td>\n",
       "      <td>9.0</td>\n",
       "      <td>6.0</td>\n",
       "      <td>3.0</td>\n",
       "      <td>9.0</td>\n",
       "      <td>2.0</td>\n",
       "      <td>5</td>\n",
       "      <td>2</td>\n",
       "      <td>3</td>\n",
       "    </tr>\n",
       "    <tr>\n",
       "      <td>3</td>\n",
       "      <td>910226</td>\n",
       "      <td>2</td>\n",
       "      <td>1.0</td>\n",
       "      <td>13.0</td>\n",
       "      <td>13.0</td>\n",
       "      <td>1.0</td>\n",
       "      <td>0.0</td>\n",
       "      <td>0.0</td>\n",
       "      <td>0.0</td>\n",
       "      <td>2.0</td>\n",
       "      <td>...</td>\n",
       "      <td>0.0</td>\n",
       "      <td>7.0</td>\n",
       "      <td>10.0</td>\n",
       "      <td>11.0</td>\n",
       "      <td>0.0</td>\n",
       "      <td>9.0</td>\n",
       "      <td>7.0</td>\n",
       "      <td>3</td>\n",
       "      <td>2</td>\n",
       "      <td>4</td>\n",
       "    </tr>\n",
       "    <tr>\n",
       "      <td>4</td>\n",
       "      <td>910241</td>\n",
       "      <td>-1</td>\n",
       "      <td>1.0</td>\n",
       "      <td>20.0</td>\n",
       "      <td>14.0</td>\n",
       "      <td>3.0</td>\n",
       "      <td>0.0</td>\n",
       "      <td>0.0</td>\n",
       "      <td>4.0</td>\n",
       "      <td>3.0</td>\n",
       "      <td>...</td>\n",
       "      <td>2.0</td>\n",
       "      <td>3.0</td>\n",
       "      <td>5.0</td>\n",
       "      <td>4.0</td>\n",
       "      <td>2.0</td>\n",
       "      <td>9.0</td>\n",
       "      <td>3.0</td>\n",
       "      <td>4</td>\n",
       "      <td>1</td>\n",
       "      <td>3</td>\n",
       "    </tr>\n",
       "    <tr>\n",
       "      <td>...</td>\n",
       "      <td>...</td>\n",
       "      <td>...</td>\n",
       "      <td>...</td>\n",
       "      <td>...</td>\n",
       "      <td>...</td>\n",
       "      <td>...</td>\n",
       "      <td>...</td>\n",
       "      <td>...</td>\n",
       "      <td>...</td>\n",
       "      <td>...</td>\n",
       "      <td>...</td>\n",
       "      <td>...</td>\n",
       "      <td>...</td>\n",
       "      <td>...</td>\n",
       "      <td>...</td>\n",
       "      <td>...</td>\n",
       "      <td>...</td>\n",
       "      <td>...</td>\n",
       "      <td>...</td>\n",
       "      <td>...</td>\n",
       "      <td>...</td>\n",
       "    </tr>\n",
       "    <tr>\n",
       "      <td>891216</td>\n",
       "      <td>825761</td>\n",
       "      <td>-1</td>\n",
       "      <td>5.0</td>\n",
       "      <td>17.0</td>\n",
       "      <td>17.0</td>\n",
       "      <td>15.0</td>\n",
       "      <td>0.0</td>\n",
       "      <td>0.0</td>\n",
       "      <td>1.0</td>\n",
       "      <td>11.0</td>\n",
       "      <td>...</td>\n",
       "      <td>2.0</td>\n",
       "      <td>4.0</td>\n",
       "      <td>7.0</td>\n",
       "      <td>8.0</td>\n",
       "      <td>3.0</td>\n",
       "      <td>4.0</td>\n",
       "      <td>3.0</td>\n",
       "      <td>4</td>\n",
       "      <td>2</td>\n",
       "      <td>3</td>\n",
       "    </tr>\n",
       "    <tr>\n",
       "      <td>891217</td>\n",
       "      <td>825771</td>\n",
       "      <td>-1</td>\n",
       "      <td>9.0</td>\n",
       "      <td>16.0</td>\n",
       "      <td>16.0</td>\n",
       "      <td>11.0</td>\n",
       "      <td>0.0</td>\n",
       "      <td>0.0</td>\n",
       "      <td>1.0</td>\n",
       "      <td>11.0</td>\n",
       "      <td>...</td>\n",
       "      <td>4.0</td>\n",
       "      <td>6.0</td>\n",
       "      <td>9.0</td>\n",
       "      <td>6.0</td>\n",
       "      <td>6.0</td>\n",
       "      <td>9.0</td>\n",
       "      <td>5.0</td>\n",
       "      <td>6</td>\n",
       "      <td>1</td>\n",
       "      <td>2</td>\n",
       "    </tr>\n",
       "    <tr>\n",
       "      <td>891218</td>\n",
       "      <td>825772</td>\n",
       "      <td>-1</td>\n",
       "      <td>1.0</td>\n",
       "      <td>17.0</td>\n",
       "      <td>17.0</td>\n",
       "      <td>3.0</td>\n",
       "      <td>0.0</td>\n",
       "      <td>0.0</td>\n",
       "      <td>0.0</td>\n",
       "      <td>3.0</td>\n",
       "      <td>...</td>\n",
       "      <td>2.0</td>\n",
       "      <td>7.0</td>\n",
       "      <td>10.0</td>\n",
       "      <td>8.0</td>\n",
       "      <td>0.0</td>\n",
       "      <td>5.0</td>\n",
       "      <td>7.0</td>\n",
       "      <td>4</td>\n",
       "      <td>2</td>\n",
       "      <td>2</td>\n",
       "    </tr>\n",
       "    <tr>\n",
       "      <td>891219</td>\n",
       "      <td>825776</td>\n",
       "      <td>-1</td>\n",
       "      <td>9.0</td>\n",
       "      <td>0.0</td>\n",
       "      <td>20.0</td>\n",
       "      <td>7.0</td>\n",
       "      <td>0.0</td>\n",
       "      <td>1.0</td>\n",
       "      <td>1.0</td>\n",
       "      <td>5.0</td>\n",
       "      <td>...</td>\n",
       "      <td>4.0</td>\n",
       "      <td>9.0</td>\n",
       "      <td>8.0</td>\n",
       "      <td>5.0</td>\n",
       "      <td>1.0</td>\n",
       "      <td>9.0</td>\n",
       "      <td>5.0</td>\n",
       "      <td>5</td>\n",
       "      <td>1</td>\n",
       "      <td>1</td>\n",
       "    </tr>\n",
       "    <tr>\n",
       "      <td>891220</td>\n",
       "      <td>825787</td>\n",
       "      <td>-1</td>\n",
       "      <td>1.0</td>\n",
       "      <td>0.0</td>\n",
       "      <td>-1.0</td>\n",
       "      <td>10.0</td>\n",
       "      <td>0.0</td>\n",
       "      <td>0.0</td>\n",
       "      <td>1.0</td>\n",
       "      <td>5.0</td>\n",
       "      <td>...</td>\n",
       "      <td>3.0</td>\n",
       "      <td>8.0</td>\n",
       "      <td>10.0</td>\n",
       "      <td>7.0</td>\n",
       "      <td>6.0</td>\n",
       "      <td>3.0</td>\n",
       "      <td>4.0</td>\n",
       "      <td>3</td>\n",
       "      <td>1</td>\n",
       "      <td>4</td>\n",
       "    </tr>\n",
       "  </tbody>\n",
       "</table>\n",
       "<p>891221 rows × 360 columns</p>\n",
       "</div>"
      ],
      "text/plain": [
       "           LNR  AGER_TYP  AKT_DAT_KL  ALTER_HH  ALTERSKATEGORIE_FEIN  \\\n",
       "0       910215        -1        -1.0       0.0                  -1.0   \n",
       "1       910220        -1         9.0       0.0                  21.0   \n",
       "2       910225        -1         9.0      17.0                  17.0   \n",
       "3       910226         2         1.0      13.0                  13.0   \n",
       "4       910241        -1         1.0      20.0                  14.0   \n",
       "...        ...       ...         ...       ...                   ...   \n",
       "891216  825761        -1         5.0      17.0                  17.0   \n",
       "891217  825771        -1         9.0      16.0                  16.0   \n",
       "891218  825772        -1         1.0      17.0                  17.0   \n",
       "891219  825776        -1         9.0       0.0                  20.0   \n",
       "891220  825787        -1         1.0       0.0                  -1.0   \n",
       "\n",
       "        ANZ_HAUSHALTE_AKTIV  ANZ_HH_TITEL  ANZ_KINDER  ANZ_PERSONEN  \\\n",
       "0                      -1.0          -1.0        -1.0          -1.0   \n",
       "1                      11.0           0.0         0.0           2.0   \n",
       "2                      10.0           0.0         0.0           1.0   \n",
       "3                       1.0           0.0         0.0           0.0   \n",
       "4                       3.0           0.0         0.0           4.0   \n",
       "...                     ...           ...         ...           ...   \n",
       "891216                 15.0           0.0         0.0           1.0   \n",
       "891217                 11.0           0.0         0.0           1.0   \n",
       "891218                  3.0           0.0         0.0           0.0   \n",
       "891219                  7.0           0.0         1.0           1.0   \n",
       "891220                 10.0           0.0         0.0           1.0   \n",
       "\n",
       "        ANZ_STATISTISCHE_HAUSHALTE  ...  VHN  VK_DHT4A  VK_DISTANZ VK_ZG11  \\\n",
       "0                             -1.0  ... -1.0      -1.0        -1.0    -1.0   \n",
       "1                             12.0  ...  4.0       8.0        11.0    10.0   \n",
       "2                              7.0  ...  2.0       9.0         9.0     6.0   \n",
       "3                              2.0  ...  0.0       7.0        10.0    11.0   \n",
       "4                              3.0  ...  2.0       3.0         5.0     4.0   \n",
       "...                            ...  ...  ...       ...         ...     ...   \n",
       "891216                        11.0  ...  2.0       4.0         7.0     8.0   \n",
       "891217                        11.0  ...  4.0       6.0         9.0     6.0   \n",
       "891218                         3.0  ...  2.0       7.0        10.0     8.0   \n",
       "891219                         5.0  ...  4.0       9.0         8.0     5.0   \n",
       "891220                         5.0  ...  3.0       8.0        10.0     7.0   \n",
       "\n",
       "        W_KEIT_KIND_HH  WOHNDAUER_2008  WOHNLAGE  ZABEOTYP  ANREDE_KZ  \\\n",
       "0                  0.0            -1.0      -1.0         3          1   \n",
       "1                  3.0             9.0       4.0         5          2   \n",
       "2                  3.0             9.0       2.0         5          2   \n",
       "3                  0.0             9.0       7.0         3          2   \n",
       "4                  2.0             9.0       3.0         4          1   \n",
       "...                ...             ...       ...       ...        ...   \n",
       "891216             3.0             4.0       3.0         4          2   \n",
       "891217             6.0             9.0       5.0         6          1   \n",
       "891218             0.0             5.0       7.0         4          2   \n",
       "891219             1.0             9.0       5.0         5          1   \n",
       "891220             6.0             3.0       4.0         3          1   \n",
       "\n",
       "        ALTERSKATEGORIE_GROB  \n",
       "0                          2  \n",
       "1                          1  \n",
       "2                          3  \n",
       "3                          4  \n",
       "4                          3  \n",
       "...                      ...  \n",
       "891216                     3  \n",
       "891217                     2  \n",
       "891218                     2  \n",
       "891219                     1  \n",
       "891220                     4  \n",
       "\n",
       "[891221 rows x 360 columns]"
      ]
     },
     "execution_count": 132,
     "metadata": {},
     "output_type": "execute_result"
    }
   ],
   "source": [
    "azdias_after_na.fillna(-1)"
   ]
  },
  {
   "cell_type": "code",
   "execution_count": 133,
   "metadata": {},
   "outputs": [
    {
     "data": {
      "text/plain": [
       "-1    677503\n",
       " 2     98472\n",
       " 1     79802\n",
       " 3     27104\n",
       " 0      8340\n",
       "Name: AGER_TYP, dtype: int64"
      ]
     },
     "execution_count": 133,
     "metadata": {},
     "output_type": "execute_result"
    }
   ],
   "source": [
    "azdias_after_na.AGER_TYP.value_counts()"
   ]
  },
  {
   "cell_type": "code",
   "execution_count": 144,
   "metadata": {},
   "outputs": [
    {
     "data": {
      "text/plain": [
       "array(['unknown'], dtype=object)"
      ]
     },
     "execution_count": 144,
     "metadata": {},
     "output_type": "execute_result"
    }
   ],
   "source": [
    "feature[feature.Value.apply(lambda x:x==-1 )].Meaning.unique()#or '-1' in x if type(x) == list else False)]"
   ]
  },
  {
   "cell_type": "code",
   "execution_count": 146,
   "metadata": {},
   "outputs": [
    {
     "data": {
      "text/plain": [
       "0       -1\n",
       "1        0\n",
       "2        1\n",
       "3        2\n",
       "4        3\n",
       "        ..\n",
       "2253     2\n",
       "2254     3\n",
       "2255     4\n",
       "2256     5\n",
       "2257     6\n",
       "Name: Value, Length: 2258, dtype: object"
      ]
     },
     "execution_count": 146,
     "metadata": {},
     "output_type": "execute_result"
    }
   ],
   "source": [
    "feature.Value"
   ]
  },
  {
   "cell_type": "code",
   "execution_count": 158,
   "metadata": {},
   "outputs": [],
   "source": [
    "customers_after_na_1 = customers_after_na.fillna(-1)"
   ]
  },
  {
   "cell_type": "code",
   "execution_count": 177,
   "metadata": {},
   "outputs": [],
   "source": [
    "result = []\n",
    "for col in customers_after_na_1.columns.to_list():\n",
    "    result.append(sum(customers_after_na_1[col]==-1)/customers_after_na_1.shape[0])"
   ]
  },
  {
   "cell_type": "code",
   "execution_count": 182,
   "metadata": {},
   "outputs": [
    {
     "data": {
      "text/plain": [
       "(array([1], dtype=int64),)"
      ]
     },
     "execution_count": 182,
     "metadata": {},
     "output_type": "execute_result"
    }
   ],
   "source": [
    "np.where(np.array(result)>0.3)"
   ]
  },
  {
   "cell_type": "markdown",
   "metadata": {},
   "source": [
    "#### only one column out of all the column that's larger than 30% NAs\n"
   ]
  },
  {
   "cell_type": "markdown",
   "metadata": {},
   "source": [
    "#### transform categorical to numerical"
   ]
  },
  {
   "cell_type": "code",
   "execution_count": 31,
   "metadata": {},
   "outputs": [
    {
     "data": {
      "text/plain": [
       "CAMEO_DEU_2015              object\n",
       "D19_LETZTER_KAUF_BRANCHE    object\n",
       "EINGEFUEGT_AM               object\n",
       "OST_WEST_KZ                 object\n",
       "dtype: object"
      ]
     },
     "execution_count": 31,
     "metadata": {},
     "output_type": "execute_result"
    }
   ],
   "source": [
    "customers_after_na.dtypes[customers_after_na.dtypes == 'O']"
   ]
  },
  {
   "cell_type": "code",
   "execution_count": 32,
   "metadata": {},
   "outputs": [
    {
     "data": {
      "text/plain": [
       "{dtype('int64'), dtype('float64'), dtype('O')}"
      ]
     },
     "execution_count": 32,
     "metadata": {},
     "output_type": "execute_result"
    }
   ],
   "source": [
    "set(customers_after_na.dtypes)"
   ]
  },
  {
   "cell_type": "code",
   "execution_count": 33,
   "metadata": {
    "scrolled": true
   },
   "outputs": [
    {
     "data": {
      "text/html": [
       "<div>\n",
       "<style scoped>\n",
       "    .dataframe tbody tr th:only-of-type {\n",
       "        vertical-align: middle;\n",
       "    }\n",
       "\n",
       "    .dataframe tbody tr th {\n",
       "        vertical-align: top;\n",
       "    }\n",
       "\n",
       "    .dataframe thead th {\n",
       "        text-align: right;\n",
       "    }\n",
       "</style>\n",
       "<table border=\"1\" class=\"dataframe\">\n",
       "  <thead>\n",
       "    <tr style=\"text-align: right;\">\n",
       "      <th></th>\n",
       "      <th>CAMEO_DEU_2015</th>\n",
       "      <th>D19_LETZTER_KAUF_BRANCHE</th>\n",
       "      <th>EINGEFUEGT_AM</th>\n",
       "      <th>OST_WEST_KZ</th>\n",
       "    </tr>\n",
       "  </thead>\n",
       "  <tbody>\n",
       "    <tr>\n",
       "      <td>0</td>\n",
       "      <td>1A</td>\n",
       "      <td>D19_UNBEKANNT</td>\n",
       "      <td>1992-02-12 00:00:00</td>\n",
       "      <td>W</td>\n",
       "    </tr>\n",
       "    <tr>\n",
       "      <td>1</td>\n",
       "      <td>NaN</td>\n",
       "      <td>D19_BANKEN_GROSS</td>\n",
       "      <td>NaN</td>\n",
       "      <td>-1</td>\n",
       "    </tr>\n",
       "    <tr>\n",
       "      <td>2</td>\n",
       "      <td>5D</td>\n",
       "      <td>D19_UNBEKANNT</td>\n",
       "      <td>1992-02-10 00:00:00</td>\n",
       "      <td>W</td>\n",
       "    </tr>\n",
       "    <tr>\n",
       "      <td>3</td>\n",
       "      <td>4C</td>\n",
       "      <td>D19_NAHRUNGSERGAENZUNG</td>\n",
       "      <td>1992-02-10 00:00:00</td>\n",
       "      <td>W</td>\n",
       "    </tr>\n",
       "    <tr>\n",
       "      <td>4</td>\n",
       "      <td>7B</td>\n",
       "      <td>D19_SCHUHE</td>\n",
       "      <td>1992-02-12 00:00:00</td>\n",
       "      <td>W</td>\n",
       "    </tr>\n",
       "  </tbody>\n",
       "</table>\n",
       "</div>"
      ],
      "text/plain": [
       "  CAMEO_DEU_2015 D19_LETZTER_KAUF_BRANCHE        EINGEFUEGT_AM OST_WEST_KZ\n",
       "0             1A            D19_UNBEKANNT  1992-02-12 00:00:00           W\n",
       "1            NaN         D19_BANKEN_GROSS                  NaN          -1\n",
       "2             5D            D19_UNBEKANNT  1992-02-10 00:00:00           W\n",
       "3             4C   D19_NAHRUNGSERGAENZUNG  1992-02-10 00:00:00           W\n",
       "4             7B               D19_SCHUHE  1992-02-12 00:00:00           W"
      ]
     },
     "execution_count": 33,
     "metadata": {},
     "output_type": "execute_result"
    }
   ],
   "source": [
    "customers_after_na.loc[:,customers_after_na.dtypes[customers_after_na.dtypes == 'O'].index].head()"
   ]
  },
  {
   "cell_type": "markdown",
   "metadata": {},
   "source": [
    "#### transform EINGEFUEGT_AM columns"
   ]
  },
  {
   "cell_type": "code",
   "execution_count": 18,
   "metadata": {},
   "outputs": [],
   "source": [
    "def date_trans(df,col):\n",
    "    df[col] = df[col].apply(lambda x:dt.datetime.strptime(x,'%Y-%m-%d %H:%M:%S') if type(x)==str else x)\n",
    "    earliest = df[col].min()\n",
    "    df[col] = df[col].apply(lambda x:(x-earliest).total_seconds() if type(x)!=float else x)\n",
    "    #return df"
   ]
  },
  {
   "cell_type": "code",
   "execution_count": 42,
   "metadata": {},
   "outputs": [
    {
     "data": {
      "text/plain": [
       "0    172800.0\n",
       "1         NaN\n",
       "2         0.0\n",
       "3         0.0\n",
       "4    172800.0\n",
       "Name: EINGEFUEGT_AM, dtype: float64"
      ]
     },
     "execution_count": 42,
     "metadata": {},
     "output_type": "execute_result"
    }
   ],
   "source": [
    "#aa = customers_after_na.EINGEFUEGT_AM.copy().to_frame()\n",
    "date_trans(customers_after_na,'EINGEFUEGT_AM')\n",
    "#customers_after_na.EINGEFUEGT_AM = customers_after_na.EINGEFUEGT_AM#.head()\n",
    "customers_after_na.EINGEFUEGT_AM.head()"
   ]
  },
  {
   "cell_type": "code",
   "execution_count": 43,
   "metadata": {},
   "outputs": [
    {
     "data": {
      "text/plain": [
       "0            NaN\n",
       "1     20563200.0\n",
       "2     20736000.0\n",
       "3    184464000.0\n",
       "4     20736000.0\n",
       "Name: EINGEFUEGT_AM, dtype: float64"
      ]
     },
     "execution_count": 43,
     "metadata": {},
     "output_type": "execute_result"
    }
   ],
   "source": [
    "date_trans(azdias_after_na,'EINGEFUEGT_AM')\n",
    "azdias_after_na.EINGEFUEGT_AM.head()"
   ]
  },
  {
   "cell_type": "code",
   "execution_count": 44,
   "metadata": {},
   "outputs": [],
   "source": [
    "azdias_after_na_dum = pd.get_dummies(azdias_after_na)\n",
    "customers_after_na_dum = pd.get_dummies(customers_after_na)"
   ]
  },
  {
   "cell_type": "code",
   "execution_count": 45,
   "metadata": {},
   "outputs": [
    {
     "data": {
      "text/plain": [
       "(191652, 440)"
      ]
     },
     "execution_count": 45,
     "metadata": {},
     "output_type": "execute_result"
    }
   ],
   "source": [
    "customers_after_na_dum.shape"
   ]
  },
  {
   "cell_type": "code",
   "execution_count": 46,
   "metadata": {
    "scrolled": true
   },
   "outputs": [
    {
     "data": {
      "text/plain": [
       "(891221, 440)"
      ]
     },
     "execution_count": 46,
     "metadata": {},
     "output_type": "execute_result"
    }
   ],
   "source": [
    "azdias_after_na_dum.shape"
   ]
  },
  {
   "cell_type": "code",
   "execution_count": 54,
   "metadata": {},
   "outputs": [
    {
     "data": {
      "text/plain": [
       "0     0\n",
       "1    14\n",
       "2    15\n",
       "3     8\n",
       "4     8\n",
       "Name: PRAEGENDE_JUGENDJAHRE, dtype: int64"
      ]
     },
     "execution_count": 54,
     "metadata": {},
     "output_type": "execute_result"
    }
   ],
   "source": [
    "azdias_after_na.PRAEGENDE_JUGENDJAHRE.head()"
   ]
  },
  {
   "cell_type": "code",
   "execution_count": 47,
   "metadata": {},
   "outputs": [
    {
     "name": "stderr",
     "output_type": "stream",
     "text": [
      "C:\\Users\\xiaoyal\\AppData\\Local\\Continuum\\anaconda3\\lib\\site-packages\\sklearn\\utils\\deprecation.py:66: DeprecationWarning: Class Imputer is deprecated; Imputer was deprecated in version 0.20 and will be removed in 0.22. Import impute.SimpleImputer from sklearn instead.\n",
      "  warnings.warn(msg, category=DeprecationWarning)\n"
     ]
    },
    {
     "name": "stdout",
     "output_type": "stream",
     "text": [
      "imputed customer inpute:          0    1    2     3     4     5    6    7    8     9    ...  430  431  \\\n",
      "0  910215.0 -1.0  1.0   0.0  15.0   1.0  0.0  0.0  1.0   1.0  ...  0.0  0.0   \n",
      "1  910220.0 -1.0  9.0   0.0  21.0  11.0  0.0  0.0  2.0  12.0  ...  0.0  0.0   \n",
      "2  910225.0 -1.0  9.0  17.0  17.0  10.0  0.0  0.0  1.0   7.0  ...  0.0  0.0   \n",
      "3  910226.0  2.0  1.0  13.0  13.0   1.0  0.0  0.0  0.0   2.0  ...  0.0  0.0   \n",
      "4  910241.0 -1.0  1.0  20.0  14.0   3.0  0.0  0.0  4.0   3.0  ...  0.0  0.0   \n",
      "\n",
      "   432  433  434  435  436  437  438  439  \n",
      "0  0.0  0.0  0.0  0.0  0.0  1.0  0.0  0.0  \n",
      "1  0.0  0.0  0.0  0.0  0.0  0.0  0.0  1.0  \n",
      "2  1.0  0.0  0.0  0.0  0.0  0.0  0.0  1.0  \n",
      "3  1.0  0.0  0.0  0.0  0.0  0.0  0.0  1.0  \n",
      "4  0.0  0.0  0.0  0.0  0.0  0.0  0.0  1.0  \n",
      "\n",
      "[5 rows x 440 columns]\n",
      "imputed customers:          0    1    2     3     4    5    6    7    8    9    ...  430  431  \\\n",
      "0    9626.0  2.0  1.0  10.0  10.0  1.0  0.0  0.0  2.0  1.0  ...  0.0  0.0   \n",
      "1    9628.0 -1.0  9.0  11.0  10.0  1.0  0.0  0.0  3.0  1.0  ...  0.0  0.0   \n",
      "2  143872.0 -1.0  1.0   6.0   0.0  1.0  0.0  0.0  1.0  1.0  ...  0.0  0.0   \n",
      "3  143873.0  1.0  1.0   8.0   8.0  0.0  0.0  0.0  0.0  1.0  ...  0.0  0.0   \n",
      "4  143874.0 -1.0  1.0  20.0  14.0  7.0  0.0  0.0  4.0  7.0  ...  0.0  0.0   \n",
      "\n",
      "   432  433  434  435  436  437  438  439  \n",
      "0  1.0  0.0  0.0  0.0  0.0  0.0  0.0  1.0  \n",
      "1  0.0  0.0  0.0  0.0  0.0  1.0  0.0  0.0  \n",
      "2  1.0  0.0  0.0  0.0  0.0  0.0  0.0  1.0  \n",
      "3  0.0  0.0  0.0  0.0  0.0  0.0  0.0  1.0  \n",
      "4  0.0  0.0  0.0  0.0  0.0  0.0  0.0  1.0  \n",
      "\n",
      "[5 rows x 440 columns]\n"
     ]
    }
   ],
   "source": [
    "imputer = Imputer(missing_values='NaN',strategy='most_frequent',axis=0)\n",
    "\n",
    "azdias_after_na_impute = imputer.fit_transform(azdias_after_na_dum)\n",
    "azdias_after_na_impute = pd.DataFrame(azdias_after_na_impute)\n",
    "print('imputed customer inpute: ', azdias_after_na_impute.head(5))\n",
    "\n",
    "customers_after_na_impute = imputer.fit_transform(customers_after_na_dum)\n",
    "customers_after_na_impute = pd.DataFrame(customers_after_na_impute)\n",
    "print('imputed customers: ', customers_after_na_impute.head(5))"
   ]
  },
  {
   "cell_type": "code",
   "execution_count": 48,
   "metadata": {},
   "outputs": [],
   "source": [
    "customers_after_na_impute.to_pickle('customers_after_na_impute.pkl')"
   ]
  },
  {
   "cell_type": "code",
   "execution_count": 49,
   "metadata": {},
   "outputs": [],
   "source": [
    "azdias_after_na_impute.to_pickle('azdias_after_na_impute.pkl')"
   ]
  },
  {
   "cell_type": "code",
   "execution_count": 53,
   "metadata": {},
   "outputs": [
    {
     "data": {
      "text/plain": [
       "0"
      ]
     },
     "execution_count": 53,
     "metadata": {},
     "output_type": "execute_result"
    }
   ],
   "source": [
    "sum(customers_after_na_impute.isna().any())"
   ]
  },
  {
   "cell_type": "code",
   "execution_count": 57,
   "metadata": {},
   "outputs": [],
   "source": [
    "from statsmodels.stats.outliers_influence import variance_inflation_factor    \n",
    "\n",
    "def calculate_vif_(X, thresh=5.0):\n",
    "    variables = list(range(X.shape[1]))\n",
    "    dropped = True\n",
    "    while dropped:\n",
    "        dropped = False\n",
    "        vif = [variance_inflation_factor(X.iloc[:, variables].values, ix)\n",
    "               for ix in range(X.iloc[:, variables].shape[1])]\n",
    "\n",
    "        maxloc = vif.index(max(vif))\n",
    "        if max(vif) > thresh:\n",
    "            print('dropping \\'' + X.iloc[:, variables].columns[maxloc] +\n",
    "                  '\\' at index: ' + str(maxloc))\n",
    "            del variables[maxloc]\n",
    "            dropped = True\n",
    "\n",
    "    print('Remaining variables:')\n",
    "    print(X.columns[variables])\n",
    "    return X.iloc[:, variables]"
   ]
  },
  {
   "cell_type": "code",
   "execution_count": 67,
   "metadata": {},
   "outputs": [],
   "source": [
    "numercial_features = customers_after_na.dtypes[customers_after_na.dtypes!='O'].index.to_list()"
   ]
  },
  {
   "cell_type": "code",
   "execution_count": null,
   "metadata": {},
   "outputs": [],
   "source": []
  },
  {
   "cell_type": "code",
   "execution_count": 69,
   "metadata": {
    "scrolled": true
   },
   "outputs": [
    {
     "name": "stderr",
     "output_type": "stream",
     "text": [
      "C:\\Users\\xiaoyal\\AppData\\Local\\Continuum\\anaconda3\\lib\\site-packages\\statsmodels\\stats\\outliers_influence.py:185: RuntimeWarning: divide by zero encountered in double_scalars\n",
      "  vif = 1. / (1. - r_squared_i)\n",
      "ERROR:root:Internal Python error in the inspect module.\n",
      "Below is the traceback from this internal error.\n",
      "\n"
     ]
    },
    {
     "name": "stdout",
     "output_type": "stream",
     "text": [
      "Traceback (most recent call last):\n",
      "  File \"C:\\Users\\xiaoyal\\AppData\\Local\\Continuum\\anaconda3\\lib\\site-packages\\IPython\\core\\interactiveshell.py\", line 3326, in run_code\n",
      "    exec(code_obj, self.user_global_ns, self.user_ns)\n",
      "  File \"<ipython-input-69-627d03df2a7c>\", line 1, in <module>\n",
      "    correlated_col = calculate_vif_(customers_after_na_impute)\n",
      "  File \"<ipython-input-57-9913b7658c2b>\", line 9, in calculate_vif_\n",
      "    for ix in range(X.iloc[:, variables].shape[1])]\n",
      "  File \"<ipython-input-57-9913b7658c2b>\", line 9, in <listcomp>\n",
      "    for ix in range(X.iloc[:, variables].shape[1])]\n",
      "  File \"C:\\Users\\xiaoyal\\AppData\\Local\\Continuum\\anaconda3\\lib\\site-packages\\statsmodels\\stats\\outliers_influence.py\", line 184, in variance_inflation_factor\n",
      "    r_squared_i = OLS(x_i, x_noti).fit().rsquared\n",
      "  File \"C:\\Users\\xiaoyal\\AppData\\Local\\Continuum\\anaconda3\\lib\\site-packages\\statsmodels\\regression\\linear_model.py\", line 838, in __init__\n",
      "    hasconst=hasconst, **kwargs)\n",
      "  File \"C:\\Users\\xiaoyal\\AppData\\Local\\Continuum\\anaconda3\\lib\\site-packages\\statsmodels\\regression\\linear_model.py\", line 684, in __init__\n",
      "    weights=weights, hasconst=hasconst, **kwargs)\n",
      "  File \"C:\\Users\\xiaoyal\\AppData\\Local\\Continuum\\anaconda3\\lib\\site-packages\\statsmodels\\regression\\linear_model.py\", line 196, in __init__\n",
      "    super(RegressionModel, self).__init__(endog, exog, **kwargs)\n",
      "  File \"C:\\Users\\xiaoyal\\AppData\\Local\\Continuum\\anaconda3\\lib\\site-packages\\statsmodels\\base\\model.py\", line 216, in __init__\n",
      "    super(LikelihoodModel, self).__init__(endog, exog, **kwargs)\n",
      "  File \"C:\\Users\\xiaoyal\\AppData\\Local\\Continuum\\anaconda3\\lib\\site-packages\\statsmodels\\base\\model.py\", line 68, in __init__\n",
      "    **kwargs)\n",
      "  File \"C:\\Users\\xiaoyal\\AppData\\Local\\Continuum\\anaconda3\\lib\\site-packages\\statsmodels\\base\\model.py\", line 91, in _handle_data\n",
      "    data = handle_data(endog, exog, missing, hasconst, **kwargs)\n",
      "  File \"C:\\Users\\xiaoyal\\AppData\\Local\\Continuum\\anaconda3\\lib\\site-packages\\statsmodels\\base\\data.py\", line 635, in handle_data\n",
      "    **kwargs)\n",
      "  File \"C:\\Users\\xiaoyal\\AppData\\Local\\Continuum\\anaconda3\\lib\\site-packages\\statsmodels\\base\\data.py\", line 80, in __init__\n",
      "    self._handle_constant(hasconst)\n",
      "  File \"C:\\Users\\xiaoyal\\AppData\\Local\\Continuum\\anaconda3\\lib\\site-packages\\statsmodels\\base\\data.py\", line 168, in _handle_constant\n",
      "    rank_augm = np.linalg.matrix_rank(augmented_exog)\n",
      "  File \"C:\\Users\\xiaoyal\\AppData\\Local\\Continuum\\anaconda3\\lib\\site-packages\\numpy\\linalg\\linalg.py\", line 1850, in matrix_rank\n",
      "    S = svd(M, compute_uv=False)\n",
      "  File \"C:\\Users\\xiaoyal\\AppData\\Local\\Continuum\\anaconda3\\lib\\site-packages\\numpy\\linalg\\linalg.py\", line 1625, in svd\n",
      "    s = s.astype(_realType(result_t), copy=False)\n",
      "KeyboardInterrupt\n",
      "\n",
      "During handling of the above exception, another exception occurred:\n",
      "\n",
      "Traceback (most recent call last):\n",
      "  File \"C:\\Users\\xiaoyal\\AppData\\Local\\Continuum\\anaconda3\\lib\\site-packages\\IPython\\core\\interactiveshell.py\", line 2040, in showtraceback\n",
      "    stb = value._render_traceback_()\n",
      "AttributeError: 'KeyboardInterrupt' object has no attribute '_render_traceback_'\n",
      "\n",
      "During handling of the above exception, another exception occurred:\n",
      "\n",
      "Traceback (most recent call last):\n",
      "  File \"C:\\Users\\xiaoyal\\AppData\\Local\\Continuum\\anaconda3\\lib\\genericpath.py\", line 19, in exists\n",
      "    os.stat(path)\n",
      "OSError: [WinError 123] The filename, directory name, or volume label syntax is incorrect: '<ipython-input-69-627d03df2a7c>'\n",
      "\n",
      "During handling of the above exception, another exception occurred:\n",
      "\n",
      "Traceback (most recent call last):\n",
      "  File \"C:\\Users\\xiaoyal\\AppData\\Local\\Continuum\\anaconda3\\lib\\site-packages\\IPython\\core\\ultratb.py\", line 1101, in get_records\n",
      "    return _fixed_getinnerframes(etb, number_of_lines_of_context, tb_offset)\n",
      "  File \"C:\\Users\\xiaoyal\\AppData\\Local\\Continuum\\anaconda3\\lib\\site-packages\\IPython\\core\\ultratb.py\", line 319, in wrapped\n",
      "    return f(*args, **kwargs)\n",
      "  File \"C:\\Users\\xiaoyal\\AppData\\Local\\Continuum\\anaconda3\\lib\\site-packages\\IPython\\core\\ultratb.py\", line 353, in _fixed_getinnerframes\n",
      "    records = fix_frame_records_filenames(inspect.getinnerframes(etb, context))\n",
      "  File \"C:\\Users\\xiaoyal\\AppData\\Local\\Continuum\\anaconda3\\lib\\inspect.py\", line 1502, in getinnerframes\n",
      "    frameinfo = (tb.tb_frame,) + getframeinfo(tb, context)\n",
      "  File \"C:\\Users\\xiaoyal\\AppData\\Local\\Continuum\\anaconda3\\lib\\inspect.py\", line 1460, in getframeinfo\n",
      "    filename = getsourcefile(frame) or getfile(frame)\n",
      "  File \"C:\\Users\\xiaoyal\\AppData\\Local\\Continuum\\anaconda3\\lib\\inspect.py\", line 693, in getsourcefile\n",
      "    if os.path.exists(filename):\n",
      "  File \"C:\\Users\\xiaoyal\\AppData\\Local\\Continuum\\anaconda3\\lib\\genericpath.py\", line 19, in exists\n",
      "    os.stat(path)\n",
      "KeyboardInterrupt\n"
     ]
    },
    {
     "ename": "KeyboardInterrupt",
     "evalue": "",
     "output_type": "error",
     "traceback": [
      "\u001b[1;31m---------------------------------------------------------------------------\u001b[0m"
     ]
    }
   ],
   "source": [
    "correlated_col = calculate_vif_(customers_after_na_impute)"
   ]
  },
  {
   "cell_type": "code",
   "execution_count": null,
   "metadata": {},
   "outputs": [],
   "source": []
  },
  {
   "cell_type": "code",
   "execution_count": 73,
   "metadata": {},
   "outputs": [],
   "source": [
    "scale = StandardScaler(copy=False)\n",
    "\n",
    "\n",
    "azdias_scaled = scale.fit_transform(azdias_after_na_impute)\n",
    "customers_scaled = scale.fit_transform(customers_after_na_impute)"
   ]
  },
  {
   "cell_type": "code",
   "execution_count": 55,
   "metadata": {},
   "outputs": [
    {
     "data": {
      "text/html": [
       "<div>\n",
       "<style scoped>\n",
       "    .dataframe tbody tr th:only-of-type {\n",
       "        vertical-align: middle;\n",
       "    }\n",
       "\n",
       "    .dataframe tbody tr th {\n",
       "        vertical-align: top;\n",
       "    }\n",
       "\n",
       "    .dataframe thead th {\n",
       "        text-align: right;\n",
       "    }\n",
       "</style>\n",
       "<table border=\"1\" class=\"dataframe\">\n",
       "  <thead>\n",
       "    <tr style=\"text-align: right;\">\n",
       "      <th></th>\n",
       "      <th>0</th>\n",
       "      <th>1</th>\n",
       "      <th>2</th>\n",
       "      <th>3</th>\n",
       "      <th>4</th>\n",
       "      <th>5</th>\n",
       "      <th>6</th>\n",
       "      <th>7</th>\n",
       "      <th>8</th>\n",
       "      <th>9</th>\n",
       "      <th>...</th>\n",
       "      <th>430</th>\n",
       "      <th>431</th>\n",
       "      <th>432</th>\n",
       "      <th>433</th>\n",
       "      <th>434</th>\n",
       "      <th>435</th>\n",
       "      <th>436</th>\n",
       "      <th>437</th>\n",
       "      <th>438</th>\n",
       "      <th>439</th>\n",
       "    </tr>\n",
       "  </thead>\n",
       "  <tbody>\n",
       "    <tr>\n",
       "      <td>count</td>\n",
       "      <td>8.912210e+05</td>\n",
       "      <td>891221.000000</td>\n",
       "      <td>891221.000000</td>\n",
       "      <td>891221.000000</td>\n",
       "      <td>891221.000000</td>\n",
       "      <td>891221.000000</td>\n",
       "      <td>891221.000000</td>\n",
       "      <td>891221.000000</td>\n",
       "      <td>891221.000000</td>\n",
       "      <td>891221.000000</td>\n",
       "      <td>...</td>\n",
       "      <td>891221.000000</td>\n",
       "      <td>891221.000000</td>\n",
       "      <td>891221.000000</td>\n",
       "      <td>891221.000000</td>\n",
       "      <td>891221.000000</td>\n",
       "      <td>891221.000000</td>\n",
       "      <td>891221.000000</td>\n",
       "      <td>891221.000000</td>\n",
       "      <td>891221.000000</td>\n",
       "      <td>891221.000000</td>\n",
       "    </tr>\n",
       "    <tr>\n",
       "      <td>mean</td>\n",
       "      <td>6.372630e+05</td>\n",
       "      <td>-0.358435</td>\n",
       "      <td>4.139722</td>\n",
       "      <td>9.968162</td>\n",
       "      <td>14.084059</td>\n",
       "      <td>7.525618</td>\n",
       "      <td>0.036222</td>\n",
       "      <td>0.141316</td>\n",
       "      <td>1.667629</td>\n",
       "      <td>6.909609</td>\n",
       "      <td>...</td>\n",
       "      <td>0.012872</td>\n",
       "      <td>0.002893</td>\n",
       "      <td>0.219180</td>\n",
       "      <td>0.029212</td>\n",
       "      <td>0.064781</td>\n",
       "      <td>0.039061</td>\n",
       "      <td>0.002428</td>\n",
       "      <td>0.104517</td>\n",
       "      <td>0.189117</td>\n",
       "      <td>0.706366</td>\n",
       "    </tr>\n",
       "    <tr>\n",
       "      <td>std</td>\n",
       "      <td>2.572735e+05</td>\n",
       "      <td>1.198724</td>\n",
       "      <td>3.610398</td>\n",
       "      <td>7.904590</td>\n",
       "      <td>4.306098</td>\n",
       "      <td>14.955945</td>\n",
       "      <td>0.306147</td>\n",
       "      <td>0.483089</td>\n",
       "      <td>1.125110</td>\n",
       "      <td>13.712002</td>\n",
       "      <td>...</td>\n",
       "      <td>0.112723</td>\n",
       "      <td>0.053706</td>\n",
       "      <td>0.413691</td>\n",
       "      <td>0.168399</td>\n",
       "      <td>0.246139</td>\n",
       "      <td>0.193740</td>\n",
       "      <td>0.049216</td>\n",
       "      <td>0.305931</td>\n",
       "      <td>0.391602</td>\n",
       "      <td>0.455427</td>\n",
       "    </tr>\n",
       "    <tr>\n",
       "      <td>min</td>\n",
       "      <td>1.916530e+05</td>\n",
       "      <td>-1.000000</td>\n",
       "      <td>1.000000</td>\n",
       "      <td>0.000000</td>\n",
       "      <td>0.000000</td>\n",
       "      <td>0.000000</td>\n",
       "      <td>0.000000</td>\n",
       "      <td>0.000000</td>\n",
       "      <td>0.000000</td>\n",
       "      <td>0.000000</td>\n",
       "      <td>...</td>\n",
       "      <td>0.000000</td>\n",
       "      <td>0.000000</td>\n",
       "      <td>0.000000</td>\n",
       "      <td>0.000000</td>\n",
       "      <td>0.000000</td>\n",
       "      <td>0.000000</td>\n",
       "      <td>0.000000</td>\n",
       "      <td>0.000000</td>\n",
       "      <td>0.000000</td>\n",
       "      <td>0.000000</td>\n",
       "    </tr>\n",
       "    <tr>\n",
       "      <td>25%</td>\n",
       "      <td>4.144580e+05</td>\n",
       "      <td>-1.000000</td>\n",
       "      <td>1.000000</td>\n",
       "      <td>0.000000</td>\n",
       "      <td>13.000000</td>\n",
       "      <td>1.000000</td>\n",
       "      <td>0.000000</td>\n",
       "      <td>0.000000</td>\n",
       "      <td>1.000000</td>\n",
       "      <td>1.000000</td>\n",
       "      <td>...</td>\n",
       "      <td>0.000000</td>\n",
       "      <td>0.000000</td>\n",
       "      <td>0.000000</td>\n",
       "      <td>0.000000</td>\n",
       "      <td>0.000000</td>\n",
       "      <td>0.000000</td>\n",
       "      <td>0.000000</td>\n",
       "      <td>0.000000</td>\n",
       "      <td>0.000000</td>\n",
       "      <td>0.000000</td>\n",
       "    </tr>\n",
       "    <tr>\n",
       "      <td>50%</td>\n",
       "      <td>6.372630e+05</td>\n",
       "      <td>-1.000000</td>\n",
       "      <td>1.000000</td>\n",
       "      <td>12.000000</td>\n",
       "      <td>15.000000</td>\n",
       "      <td>3.000000</td>\n",
       "      <td>0.000000</td>\n",
       "      <td>0.000000</td>\n",
       "      <td>1.000000</td>\n",
       "      <td>3.000000</td>\n",
       "      <td>...</td>\n",
       "      <td>0.000000</td>\n",
       "      <td>0.000000</td>\n",
       "      <td>0.000000</td>\n",
       "      <td>0.000000</td>\n",
       "      <td>0.000000</td>\n",
       "      <td>0.000000</td>\n",
       "      <td>0.000000</td>\n",
       "      <td>0.000000</td>\n",
       "      <td>0.000000</td>\n",
       "      <td>1.000000</td>\n",
       "    </tr>\n",
       "    <tr>\n",
       "      <td>75%</td>\n",
       "      <td>8.600680e+05</td>\n",
       "      <td>-1.000000</td>\n",
       "      <td>9.000000</td>\n",
       "      <td>17.000000</td>\n",
       "      <td>16.000000</td>\n",
       "      <td>9.000000</td>\n",
       "      <td>0.000000</td>\n",
       "      <td>0.000000</td>\n",
       "      <td>2.000000</td>\n",
       "      <td>8.000000</td>\n",
       "      <td>...</td>\n",
       "      <td>0.000000</td>\n",
       "      <td>0.000000</td>\n",
       "      <td>0.000000</td>\n",
       "      <td>0.000000</td>\n",
       "      <td>0.000000</td>\n",
       "      <td>0.000000</td>\n",
       "      <td>0.000000</td>\n",
       "      <td>0.000000</td>\n",
       "      <td>0.000000</td>\n",
       "      <td>1.000000</td>\n",
       "    </tr>\n",
       "    <tr>\n",
       "      <td>max</td>\n",
       "      <td>1.082873e+06</td>\n",
       "      <td>3.000000</td>\n",
       "      <td>9.000000</td>\n",
       "      <td>21.000000</td>\n",
       "      <td>25.000000</td>\n",
       "      <td>595.000000</td>\n",
       "      <td>23.000000</td>\n",
       "      <td>11.000000</td>\n",
       "      <td>45.000000</td>\n",
       "      <td>449.000000</td>\n",
       "      <td>...</td>\n",
       "      <td>1.000000</td>\n",
       "      <td>1.000000</td>\n",
       "      <td>1.000000</td>\n",
       "      <td>1.000000</td>\n",
       "      <td>1.000000</td>\n",
       "      <td>1.000000</td>\n",
       "      <td>1.000000</td>\n",
       "      <td>1.000000</td>\n",
       "      <td>1.000000</td>\n",
       "      <td>1.000000</td>\n",
       "    </tr>\n",
       "  </tbody>\n",
       "</table>\n",
       "<p>8 rows × 440 columns</p>\n",
       "</div>"
      ],
      "text/plain": [
       "                0              1              2              3    \\\n",
       "count  8.912210e+05  891221.000000  891221.000000  891221.000000   \n",
       "mean   6.372630e+05      -0.358435       4.139722       9.968162   \n",
       "std    2.572735e+05       1.198724       3.610398       7.904590   \n",
       "min    1.916530e+05      -1.000000       1.000000       0.000000   \n",
       "25%    4.144580e+05      -1.000000       1.000000       0.000000   \n",
       "50%    6.372630e+05      -1.000000       1.000000      12.000000   \n",
       "75%    8.600680e+05      -1.000000       9.000000      17.000000   \n",
       "max    1.082873e+06       3.000000       9.000000      21.000000   \n",
       "\n",
       "                 4              5              6              7    \\\n",
       "count  891221.000000  891221.000000  891221.000000  891221.000000   \n",
       "mean       14.084059       7.525618       0.036222       0.141316   \n",
       "std         4.306098      14.955945       0.306147       0.483089   \n",
       "min         0.000000       0.000000       0.000000       0.000000   \n",
       "25%        13.000000       1.000000       0.000000       0.000000   \n",
       "50%        15.000000       3.000000       0.000000       0.000000   \n",
       "75%        16.000000       9.000000       0.000000       0.000000   \n",
       "max        25.000000     595.000000      23.000000      11.000000   \n",
       "\n",
       "                 8              9    ...            430            431  \\\n",
       "count  891221.000000  891221.000000  ...  891221.000000  891221.000000   \n",
       "mean        1.667629       6.909609  ...       0.012872       0.002893   \n",
       "std         1.125110      13.712002  ...       0.112723       0.053706   \n",
       "min         0.000000       0.000000  ...       0.000000       0.000000   \n",
       "25%         1.000000       1.000000  ...       0.000000       0.000000   \n",
       "50%         1.000000       3.000000  ...       0.000000       0.000000   \n",
       "75%         2.000000       8.000000  ...       0.000000       0.000000   \n",
       "max        45.000000     449.000000  ...       1.000000       1.000000   \n",
       "\n",
       "                 432            433            434            435  \\\n",
       "count  891221.000000  891221.000000  891221.000000  891221.000000   \n",
       "mean        0.219180       0.029212       0.064781       0.039061   \n",
       "std         0.413691       0.168399       0.246139       0.193740   \n",
       "min         0.000000       0.000000       0.000000       0.000000   \n",
       "25%         0.000000       0.000000       0.000000       0.000000   \n",
       "50%         0.000000       0.000000       0.000000       0.000000   \n",
       "75%         0.000000       0.000000       0.000000       0.000000   \n",
       "max         1.000000       1.000000       1.000000       1.000000   \n",
       "\n",
       "                 436            437            438            439  \n",
       "count  891221.000000  891221.000000  891221.000000  891221.000000  \n",
       "mean        0.002428       0.104517       0.189117       0.706366  \n",
       "std         0.049216       0.305931       0.391602       0.455427  \n",
       "min         0.000000       0.000000       0.000000       0.000000  \n",
       "25%         0.000000       0.000000       0.000000       0.000000  \n",
       "50%         0.000000       0.000000       0.000000       1.000000  \n",
       "75%         0.000000       0.000000       0.000000       1.000000  \n",
       "max         1.000000       1.000000       1.000000       1.000000  \n",
       "\n",
       "[8 rows x 440 columns]"
      ]
     },
     "execution_count": 55,
     "metadata": {},
     "output_type": "execute_result"
    }
   ],
   "source": [
    "azdias_after_na_impute.describe()"
   ]
  },
  {
   "cell_type": "code",
   "execution_count": null,
   "metadata": {},
   "outputs": [],
   "source": []
  },
  {
   "cell_type": "code",
   "execution_count": null,
   "metadata": {},
   "outputs": [],
   "source": []
  },
  {
   "cell_type": "code",
   "execution_count": null,
   "metadata": {},
   "outputs": [],
   "source": []
  },
  {
   "cell_type": "markdown",
   "metadata": {},
   "source": [
    "## Part 1: Customer Segmentation Report\n",
    "\n",
    "The main bulk of your analysis will come in this part of the project. Here, you should use unsupervised learning techniques to describe the relationship between the demographics of the company's existing customers and the general population of Germany. By the end of this part, you should be able to describe parts of the general population that are more likely to be part of the mail-order company's main customer base, and which parts of the general population are less so."
   ]
  },
  {
   "cell_type": "code",
   "execution_count": 74,
   "metadata": {},
   "outputs": [
    {
     "data": {
      "image/png": "[encoded data removed]",
      "text/plain": [
       "<Figure size 1440x720 with 1 Axes>"
      ]
     },
     "metadata": {
      "needs_background": "light"
     },
     "output_type": "display_data"
    },
    {
     "name": "stdout",
     "output_type": "stream",
     "text": [
      "Wall time: 1min 22s\n"
     ]
    }
   ],
   "source": [
    "\n",
    "%%time\n",
    "pca = PCA().fit(azdias_scaled)\n",
    "plt.figure(figsize=(20,10))\n",
    "plt.plot(np.cumsum(pca.explained_variance_ratio_))\n",
    "plt.xlabel('number of components')\n",
    "plt.ylabel('cumulative explained variance')\n",
    "plt.show()"
   ]
  },
  {
   "cell_type": "markdown",
   "metadata": {},
   "source": [
    "#### find what's made of the top components"
   ]
  },
  {
   "cell_type": "code",
   "execution_count": 175,
   "metadata": {},
   "outputs": [
    {
     "data": {
      "text/plain": [
       "0.9999999999999998"
      ]
     },
     "execution_count": 175,
     "metadata": {},
     "output_type": "execute_result"
    }
   ],
   "source": [
    "np.square(pca.components_[0]).sum()"
   ]
  },
  {
   "cell_type": "code",
   "execution_count": 206,
   "metadata": {},
   "outputs": [],
   "source": [
    "import seaborn as sns\n",
    "\n",
    "def plot_pca(vector_num,top_comp):\n",
    "    v_1 = pca.components_[vector_num]\n",
    "    comps = pd.DataFrame(list(zip(v_1, azdias_after_na_dum.columns.values)), \n",
    "                             columns=['weights', 'features'])\n",
    "    comps['abs_weights']=comps['weights'].apply(lambda x: np.abs(x))\n",
    "    sorted_weight_data = comps.sort_values('abs_weights', ascending=False).head(top_comp)\n",
    "    ax=plt.subplots(figsize=(10,6))\n",
    "    ax=sns.barplot(data=sorted_weight_data, \n",
    "                   x=\"weights\", \n",
    "                   y=\"features\", \n",
    "                   palette=\"Blues_d\")\n",
    "    ax.set_title(\"PCA Component Makeup, Component #\" + str(vector_num))\n",
    "    plt.show()"
   ]
  },
  {
   "cell_type": "code",
   "execution_count": 204,
   "metadata": {},
   "outputs": [
    {
     "data": {
      "image/png": "[encoded data removed]",
      "text/plain": [
       "<Figure size 720x432 with 1 Axes>"
      ]
     },
     "metadata": {
      "needs_background": "light"
     },
     "output_type": "display_data"
    }
   ],
   "source": [
    "plot_pca(1,19)"
   ]
  },
  {
   "cell_type": "code",
   "execution_count": 208,
   "metadata": {},
   "outputs": [
    {
     "data": {
      "image/png": "[encoded data removed]",
      "text/plain": [
       "<Figure size 720x432 with 1 Axes>"
      ]
     },
     "metadata": {
      "needs_background": "light"
     },
     "output_type": "display_data"
    }
   ],
   "source": [
    "plot_pca(4,10)"
   ]
  },
  {
   "cell_type": "markdown",
   "metadata": {},
   "source": [
    "#### dimention reduction"
   ]
  },
  {
   "cell_type": "code",
   "execution_count": 79,
   "metadata": {},
   "outputs": [],
   "source": [
    "\n",
    "def reduce_data(df,n=220):\n",
    "    pca = PCA(n_components=n).fit(df)\n",
    "    reduced_data = pca.transform(df)\n",
    "    reduced_data = pd.DataFrame(reduced_data)\n",
    "    print(pca.explained_variance_ratio_.sum())\n",
    "    return reduced_data"
   ]
  },
  {
   "cell_type": "code",
   "execution_count": 81,
   "metadata": {},
   "outputs": [
    {
     "name": "stdout",
     "output_type": "stream",
     "text": [
      "0.9374140915725537\n",
      "0.9567021895261978\n"
     ]
    }
   ],
   "source": [
    "reduced_azdias = reduce_data(azdias_scaled)\n",
    "reduced_customers = reduce_data(customers_scaled)\n"
   ]
  },
  {
   "cell_type": "code",
   "execution_count": null,
   "metadata": {},
   "outputs": [],
   "source": []
  },
  {
   "cell_type": "code",
   "execution_count": null,
   "metadata": {},
   "outputs": [],
   "source": []
  },
  {
   "cell_type": "code",
   "execution_count": null,
   "metadata": {},
   "outputs": [],
   "source": []
  },
  {
   "cell_type": "code",
   "execution_count": null,
   "metadata": {},
   "outputs": [],
   "source": []
  },
  {
   "cell_type": "code",
   "execution_count": 89,
   "metadata": {},
   "outputs": [
    {
     "data": {
      "text/plain": [
       "RangeIndex(start=0, stop=440, step=1)"
      ]
     },
     "execution_count": 89,
     "metadata": {},
     "output_type": "execute_result"
    }
   ],
   "source": [
    "customers_after_na_impute.columns#.LNR.head()"
   ]
  },
  {
   "cell_type": "code",
   "execution_count": 96,
   "metadata": {},
   "outputs": [],
   "source": [
    "def k_means_metric(data, k):\n",
    "    kmeans_k = KMeans(k)\n",
    "    model_k = kmeans_k.fit(data)\n",
    "    return abs(model_k.score(data))"
   ]
  },
  {
   "cell_type": "code",
   "execution_count": 95,
   "metadata": {},
   "outputs": [
    {
     "data": {
      "text/plain": [
       "-256922730.80389813"
      ]
     },
     "execution_count": 95,
     "metadata": {},
     "output_type": "execute_result"
    }
   ],
   "source": [
    "model_k.score(azdias_scaled)"
   ]
  },
  {
   "cell_type": "code",
   "execution_count": 103,
   "metadata": {},
   "outputs": [
    {
     "data": {
      "text/plain": [
       "RangeIndex(start=0, stop=220, step=1)"
      ]
     },
     "execution_count": 103,
     "metadata": {},
     "output_type": "execute_result"
    }
   ],
   "source": []
  },
  {
   "cell_type": "code",
   "execution_count": 105,
   "metadata": {},
   "outputs": [
    {
     "data": {
      "text/plain": [
       "14"
      ]
     },
     "execution_count": 105,
     "metadata": {},
     "output_type": "execute_result"
    }
   ],
   "source": [
    "i"
   ]
  },
  {
   "cell_type": "code",
   "execution_count": 111,
   "metadata": {},
   "outputs": [
    {
     "data": {
      "text/html": [
       "<div>\n",
       "<style scoped>\n",
       "    .dataframe tbody tr th:only-of-type {\n",
       "        vertical-align: middle;\n",
       "    }\n",
       "\n",
       "    .dataframe tbody tr th {\n",
       "        vertical-align: top;\n",
       "    }\n",
       "\n",
       "    .dataframe thead th {\n",
       "        text-align: right;\n",
       "    }\n",
       "</style>\n",
       "<table border=\"1\" class=\"dataframe\">\n",
       "  <thead>\n",
       "    <tr style=\"text-align: right;\">\n",
       "      <th></th>\n",
       "      <th>Squared Error</th>\n",
       "    </tr>\n",
       "  </thead>\n",
       "  <tbody>\n",
       "    <tr>\n",
       "      <td>0</td>\n",
       "      <td>8.068412e+07</td>\n",
       "    </tr>\n",
       "    <tr>\n",
       "      <td>1</td>\n",
       "      <td>4.867516e+07</td>\n",
       "    </tr>\n",
       "    <tr>\n",
       "      <td>2</td>\n",
       "      <td>4.646039e+07</td>\n",
       "    </tr>\n",
       "    <tr>\n",
       "      <td>3</td>\n",
       "      <td>4.480409e+07</td>\n",
       "    </tr>\n",
       "    <tr>\n",
       "      <td>4</td>\n",
       "      <td>4.346813e+07</td>\n",
       "    </tr>\n",
       "    <tr>\n",
       "      <td>5</td>\n",
       "      <td>4.292179e+07</td>\n",
       "    </tr>\n",
       "    <tr>\n",
       "      <td>6</td>\n",
       "      <td>4.250639e+07</td>\n",
       "    </tr>\n",
       "    <tr>\n",
       "      <td>7</td>\n",
       "      <td>4.197662e+07</td>\n",
       "    </tr>\n",
       "    <tr>\n",
       "      <td>8</td>\n",
       "      <td>4.158531e+07</td>\n",
       "    </tr>\n",
       "    <tr>\n",
       "      <td>9</td>\n",
       "      <td>4.124017e+07</td>\n",
       "    </tr>\n",
       "    <tr>\n",
       "      <td>10</td>\n",
       "      <td>4.100261e+07</td>\n",
       "    </tr>\n",
       "    <tr>\n",
       "      <td>11</td>\n",
       "      <td>4.097513e+07</td>\n",
       "    </tr>\n",
       "    <tr>\n",
       "      <td>12</td>\n",
       "      <td>4.056076e+07</td>\n",
       "    </tr>\n",
       "  </tbody>\n",
       "</table>\n",
       "</div>"
      ],
      "text/plain": [
       "    Squared Error\n",
       "0    8.068412e+07\n",
       "1    4.867516e+07\n",
       "2    4.646039e+07\n",
       "3    4.480409e+07\n",
       "4    4.346813e+07\n",
       "5    4.292179e+07\n",
       "6    4.250639e+07\n",
       "7    4.197662e+07\n",
       "8    4.158531e+07\n",
       "9    4.124017e+07\n",
       "10   4.100261e+07\n",
       "11   4.097513e+07\n",
       "12   4.056076e+07"
      ]
     },
     "execution_count": 111,
     "metadata": {},
     "output_type": "execute_result"
    }
   ],
   "source": [
    "#metrics = pd.DataFrame({'Squared Error':np.array(metrics)})\n",
    "metrics"
   ]
  },
  {
   "cell_type": "code",
   "execution_count": 113,
   "metadata": {},
   "outputs": [
    {
     "name": "stdout",
     "output_type": "stream",
     "text": [
      "14\n",
      "15\n",
      "16\n",
      "17\n",
      "18\n",
      "19\n",
      "20\n",
      "Wall time: 30min 43s\n"
     ]
    }
   ],
   "source": [
    "%%time\n",
    "\n",
    "metrics = []\n",
    "for i in range(14,21):\n",
    "    metrics.append(k_means_metric(reduced_customers,i))\n",
    "    print(i)\n",
    "metrics = pd.DataFrame({'Squared Error':np.array(metrics)})"
   ]
  },
  {
   "cell_type": "code",
   "execution_count": null,
   "metadata": {},
   "outputs": [],
   "source": []
  },
  {
   "cell_type": "code",
   "execution_count": 127,
   "metadata": {},
   "outputs": [],
   "source": [
    "mm = [80684120.00,\n",
    "48675160.00,\n",
    "46460390.00,\n",
    "44804090.00,\n",
    "43468130.00,\n",
    "42921790.00,\n",
    "42506390.00,\n",
    "41976620.00,\n",
    "41585310.00,\n",
    "41240170.00,\n",
    "41002610.00,\n",
    "40975130.00,\n",
    "40560760.00]\n",
    "for item in metrics.values:\n",
    "    mm.append(item[0])"
   ]
  },
  {
   "cell_type": "code",
   "execution_count": 128,
   "metadata": {},
   "outputs": [
    {
     "data": {
      "text/plain": [
       "20"
      ]
     },
     "execution_count": 128,
     "metadata": {},
     "output_type": "execute_result"
    }
   ],
   "source": [
    "len(mm)"
   ]
  },
  {
   "cell_type": "code",
   "execution_count": 132,
   "metadata": {},
   "outputs": [
    {
     "data": {
      "text/plain": [
       "<matplotlib.axes._subplots.AxesSubplot at 0x26abd48e888>"
      ]
     },
     "execution_count": 132,
     "metadata": {},
     "output_type": "execute_result"
    },
    {
     "data": {
      "image/png": "[encoded data removed]",
      "text/plain": [
       "<Figure size 432x288 with 1 Axes>"
      ]
     },
     "metadata": {
      "needs_background": "light"
     },
     "output_type": "display_data"
    }
   ],
   "source": [
    "pd.DataFrame({'Squared Error':np.array(mm[2:])}).plot()"
   ]
  },
  {
   "cell_type": "markdown",
   "metadata": {},
   "source": [
    "#### from the above elbow picture, we can see n = 10 should be picked "
   ]
  },
  {
   "cell_type": "code",
   "execution_count": 133,
   "metadata": {},
   "outputs": [
    {
     "name": "stdout",
     "output_type": "stream",
     "text": [
      "Wall time: 10min 38s\n"
     ]
    }
   ],
   "source": [
    "%%time\n",
    "kmeans_k = KMeans(10)\n",
    "model_k = kmeans_k.fit(reduced_azdias)\n",
    "prediction_azdias = model_k.predict(reduced_azdias)\n",
    "prediction_customers = model_k.predict(reduced_customers)\n"
   ]
  },
  {
   "cell_type": "code",
   "execution_count": 140,
   "metadata": {},
   "outputs": [],
   "source": [
    "azdias_cluster = pd.DataFrame(prediction_azdias,columns = ['clusters'])\n",
    "customers_cluster = pd.DataFrame(prediction_customers,columns = ['clusters'])\n"
   ]
  },
  {
   "cell_type": "code",
   "execution_count": 141,
   "metadata": {},
   "outputs": [
    {
     "data": {
      "text/plain": [
       "(891221, 1)"
      ]
     },
     "execution_count": 141,
     "metadata": {},
     "output_type": "execute_result"
    }
   ],
   "source": [
    "azdias_cluster.shape"
   ]
  },
  {
   "cell_type": "code",
   "execution_count": 147,
   "metadata": {},
   "outputs": [],
   "source": [
    "av = azdias_cluster.clusters.value_counts()/azdias.shape[0]"
   ]
  },
  {
   "cell_type": "code",
   "execution_count": 149,
   "metadata": {},
   "outputs": [],
   "source": [
    "cv = customers_cluster.clusters.value_counts()/customers.shape[0]"
   ]
  },
  {
   "cell_type": "code",
   "execution_count": 156,
   "metadata": {},
   "outputs": [],
   "source": [
    "combined = pd.concat([av,cv],axis =1)\n",
    "combined.columns = ['pop','cust']"
   ]
  },
  {
   "cell_type": "code",
   "execution_count": 157,
   "metadata": {},
   "outputs": [
    {
     "data": {
      "text/html": [
       "<div>\n",
       "<style scoped>\n",
       "    .dataframe tbody tr th:only-of-type {\n",
       "        vertical-align: middle;\n",
       "    }\n",
       "\n",
       "    .dataframe tbody tr th {\n",
       "        vertical-align: top;\n",
       "    }\n",
       "\n",
       "    .dataframe thead th {\n",
       "        text-align: right;\n",
       "    }\n",
       "</style>\n",
       "<table border=\"1\" class=\"dataframe\">\n",
       "  <thead>\n",
       "    <tr style=\"text-align: right;\">\n",
       "      <th></th>\n",
       "      <th>pop</th>\n",
       "      <th>cust</th>\n",
       "    </tr>\n",
       "  </thead>\n",
       "  <tbody>\n",
       "    <tr>\n",
       "      <td>0</td>\n",
       "      <td>0.137214</td>\n",
       "      <td>0.122143</td>\n",
       "    </tr>\n",
       "    <tr>\n",
       "      <td>1</td>\n",
       "      <td>0.034093</td>\n",
       "      <td>0.001941</td>\n",
       "    </tr>\n",
       "    <tr>\n",
       "      <td>2</td>\n",
       "      <td>0.160590</td>\n",
       "      <td>0.194749</td>\n",
       "    </tr>\n",
       "    <tr>\n",
       "      <td>3</td>\n",
       "      <td>0.083960</td>\n",
       "      <td>0.214754</td>\n",
       "    </tr>\n",
       "    <tr>\n",
       "      <td>4</td>\n",
       "      <td>0.097668</td>\n",
       "      <td>0.076388</td>\n",
       "    </tr>\n",
       "    <tr>\n",
       "      <td>5</td>\n",
       "      <td>0.157472</td>\n",
       "      <td>0.066209</td>\n",
       "    </tr>\n",
       "    <tr>\n",
       "      <td>6</td>\n",
       "      <td>0.034758</td>\n",
       "      <td>0.049157</td>\n",
       "    </tr>\n",
       "    <tr>\n",
       "      <td>7</td>\n",
       "      <td>0.127820</td>\n",
       "      <td>0.116164</td>\n",
       "    </tr>\n",
       "    <tr>\n",
       "      <td>8</td>\n",
       "      <td>0.146515</td>\n",
       "      <td>0.157457</td>\n",
       "    </tr>\n",
       "    <tr>\n",
       "      <td>9</td>\n",
       "      <td>0.019911</td>\n",
       "      <td>0.001038</td>\n",
       "    </tr>\n",
       "  </tbody>\n",
       "</table>\n",
       "</div>"
      ],
      "text/plain": [
       "        pop      cust\n",
       "0  0.137214  0.122143\n",
       "1  0.034093  0.001941\n",
       "2  0.160590  0.194749\n",
       "3  0.083960  0.214754\n",
       "4  0.097668  0.076388\n",
       "5  0.157472  0.066209\n",
       "6  0.034758  0.049157\n",
       "7  0.127820  0.116164\n",
       "8  0.146515  0.157457\n",
       "9  0.019911  0.001038"
      ]
     },
     "execution_count": 157,
     "metadata": {},
     "output_type": "execute_result"
    }
   ],
   "source": [
    "combined"
   ]
  },
  {
   "cell_type": "code",
   "execution_count": 158,
   "metadata": {},
   "outputs": [
    {
     "data": {
      "text/plain": [
       "<matplotlib.axes._subplots.AxesSubplot at 0x26a3d1e4308>"
      ]
     },
     "execution_count": 158,
     "metadata": {},
     "output_type": "execute_result"
    },
    {
     "data": {
      "image/png": "[encoded data removed]",
      "text/plain": [
       "<Figure size 432x288 with 1 Axes>"
      ]
     },
     "metadata": {
      "needs_background": "light"
     },
     "output_type": "display_data"
    }
   ],
   "source": [
    "combined.plot(kind='bar')"
   ]
  },
  {
   "cell_type": "markdown",
   "metadata": {},
   "source": [
    "## Part 2: Supervised Learning Model\n",
    "\n",
    "Now that you've found which parts of the population are more likely to be customers of the mail-order company, it's time to build a prediction model. Each of the rows in the \"MAILOUT\" data files represents an individual that was targeted for a mailout campaign. Ideally, we should be able to use the demographic information from each individual to decide whether or not it will be worth it to include that person in the campaign.\n",
    "\n",
    "The \"MAILOUT\" data has been split into two approximately equal parts, each with almost 43 000 data rows. In this part, you can verify your model with the \"TRAIN\" partition, which includes a column, \"RESPONSE\", that states whether or not a person became a customer of the company following the campaign. In the next part, you'll need to create predictions on the \"TEST\" partition, where the \"RESPONSE\" column has been withheld."
   ]
  },
  {
   "cell_type": "code",
   "execution_count": 210,
   "metadata": {},
   "outputs": [
    {
     "name": "stderr",
     "output_type": "stream",
     "text": [
      "C:\\Users\\xiaoyal\\AppData\\Local\\Continuum\\anaconda3\\lib\\site-packages\\IPython\\core\\interactiveshell.py:3058: DtypeWarning: Columns (18,19) have mixed types. Specify dtype option on import or set low_memory=False.\n",
      "  interactivity=interactivity, compiler=compiler, result=result)\n"
     ]
    }
   ],
   "source": [
    "mailout_train = pd.read_csv('data/Udacity_MAILOUT_052018_TRAIN.csv', sep=';')"
   ]
  },
  {
   "cell_type": "code",
   "execution_count": 217,
   "metadata": {},
   "outputs": [
    {
     "data": {
      "text/plain": [
       "{float, str}"
      ]
     },
     "execution_count": 217,
     "metadata": {},
     "output_type": "execute_result"
    }
   ],
   "source": [
    "set(mailout_train.iloc[:,18].apply(lambda x:type(x)))"
   ]
  },
  {
   "cell_type": "code",
   "execution_count": 219,
   "metadata": {},
   "outputs": [
    {
     "data": {
      "text/plain": [
       "Index(['CAMEO_DEUG_2015', 'CAMEO_INTL_2015'], dtype='object')"
      ]
     },
     "execution_count": 219,
     "metadata": {},
     "output_type": "execute_result"
    }
   ],
   "source": [
    "mailout_train.columns[18:20]"
   ]
  },
  {
   "cell_type": "code",
   "execution_count": 224,
   "metadata": {},
   "outputs": [
    {
     "data": {
      "text/plain": [
       "10240    4\n",
       "10241    6\n",
       "10242    2\n",
       "10243    9\n",
       "10244    8\n",
       "        ..\n",
       "40955    5\n",
       "40956    5\n",
       "40957    9\n",
       "40958    8\n",
       "40959    6\n",
       "Name: CAMEO_DEUG_2015, Length: 10016, dtype: object"
      ]
     },
     "execution_count": 224,
     "metadata": {},
     "output_type": "execute_result"
    }
   ],
   "source": [
    "mailout_train[mailout_train.CAMEO_DEUG_2015.apply(lambda x:type(x)==str)].CAMEO_DEUG_2015"
   ]
  },
  {
   "cell_type": "code",
   "execution_count": 221,
   "metadata": {},
   "outputs": [],
   "source": [
    "mailout_train.loc[mailout_train.CAMEO_DEUG_2015=='X','CAMEO_DEUG_2015'] = -1.0\n",
    "mailout_train.loc[mailout_train.CAMEO_INTL_2015=='XX','CAMEO_INTL_2015'] = -1.0\n"
   ]
  },
  {
   "cell_type": "code",
   "execution_count": 226,
   "metadata": {},
   "outputs": [],
   "source": [
    "mailout_train.CAMEO_DEUG_2015 = mailout_train.CAMEO_DEUG_2015.apply(lambda x:float(x))\n",
    "mailout_train.CAMEO_INTL_2015 = mailout_train.CAMEO_INTL_2015.apply(lambda x:float(x))\n"
   ]
  },
  {
   "cell_type": "code",
   "execution_count": 227,
   "metadata": {},
   "outputs": [
    {
     "data": {
      "text/plain": [
       "{float}"
      ]
     },
     "execution_count": 227,
     "metadata": {},
     "output_type": "execute_result"
    }
   ],
   "source": [
    "set(mailout_train.iloc[:,18].apply(lambda x:type(x)))"
   ]
  },
  {
   "cell_type": "code",
   "execution_count": 228,
   "metadata": {},
   "outputs": [],
   "source": [
    "mailout_train_after_na = mailout_train.fillna(value=unknown_dic)"
   ]
  },
  {
   "cell_type": "code",
   "execution_count": 230,
   "metadata": {},
   "outputs": [],
   "source": [
    "y=mailout_train_after_na.RESPONSE"
   ]
  },
  {
   "cell_type": "code",
   "execution_count": 242,
   "metadata": {
    "scrolled": true
   },
   "outputs": [],
   "source": [
    "mailout_train_after_na.drop(np.concatenate([col_to_drop,['RESPONSE']]),axis=1,inplace=True)"
   ]
  },
  {
   "cell_type": "code",
   "execution_count": 243,
   "metadata": {
    "collapsed": true
   },
   "outputs": [
    {
     "data": {
      "text/plain": [
       "(42962, 360)"
      ]
     },
     "execution_count": 243,
     "metadata": {},
     "output_type": "execute_result"
    }
   ],
   "source": [
    "mailout_train_after_na.shape"
   ]
  },
  {
   "cell_type": "code",
   "execution_count": 247,
   "metadata": {},
   "outputs": [
    {
     "data": {
      "text/plain": [
       "0     14169600.0\n",
       "1    180057600.0\n",
       "2    117763200.0\n",
       "3     14169600.0\n",
       "4     14169600.0\n",
       "Name: EINGEFUEGT_AM, dtype: float64"
      ]
     },
     "execution_count": 247,
     "metadata": {},
     "output_type": "execute_result"
    }
   ],
   "source": [
    "#aa = customers_after_na.EINGEFUEGT_AM.copy().to_frame()\n",
    "date_trans(mailout_train_after_na,'EINGEFUEGT_AM')\n",
    "#customers_after_na.EINGEFUEGT_AM = customers_after_na.EINGEFUEGT_AM#.head()\n",
    "mailout_train_after_na.EINGEFUEGT_AM.head()"
   ]
  },
  {
   "cell_type": "code",
   "execution_count": 248,
   "metadata": {},
   "outputs": [],
   "source": [
    "mailout_train_after_na_dum = pd.get_dummies(mailout_train_after_na)"
   ]
  },
  {
   "cell_type": "code",
   "execution_count": 249,
   "metadata": {},
   "outputs": [
    {
     "name": "stdout",
     "output_type": "stream",
     "text": [
      "mailout customer inpute:        0    1    2     3     4     5    6    7    8     9    ...  430  431  \\\n",
      "0  1763.0  2.0  1.0   8.0   8.0  15.0  0.0  0.0  1.0  13.0  ...  0.0  0.0   \n",
      "1  1771.0  1.0  4.0  13.0  13.0   1.0  0.0  0.0  2.0   1.0  ...  0.0  0.0   \n",
      "2  1776.0  1.0  1.0   9.0   7.0   0.0  0.0  0.0  0.0   1.0  ...  0.0  0.0   \n",
      "3  1460.0  2.0  1.0   6.0   6.0   4.0  0.0  0.0  2.0   4.0  ...  0.0  0.0   \n",
      "4  1783.0  2.0  1.0   9.0   9.0  53.0  0.0  0.0  1.0  44.0  ...  0.0  0.0   \n",
      "\n",
      "   432  433  434  435  436  437  438  439  \n",
      "0  1.0  0.0  0.0  0.0  0.0  0.0  0.0  1.0  \n",
      "1  0.0  0.0  0.0  0.0  0.0  0.0  0.0  1.0  \n",
      "2  0.0  0.0  0.0  0.0  0.0  0.0  1.0  0.0  \n",
      "3  1.0  0.0  0.0  0.0  0.0  0.0  0.0  1.0  \n",
      "4  0.0  0.0  0.0  0.0  0.0  0.0  0.0  1.0  \n",
      "\n",
      "[5 rows x 440 columns]\n"
     ]
    }
   ],
   "source": [
    "mailout_train_after_na_impute = imputer.fit_transform(mailout_train_after_na_dum)\n",
    "mailout_train_after_na_impute = pd.DataFrame(mailout_train_after_na_impute)\n",
    "print('mailout customer inpute: ', mailout_train_after_na_impute.head(5))"
   ]
  },
  {
   "cell_type": "code",
   "execution_count": 250,
   "metadata": {},
   "outputs": [
    {
     "data": {
      "text/plain": [
       "(42962, 440)"
      ]
     },
     "execution_count": 250,
     "metadata": {},
     "output_type": "execute_result"
    }
   ],
   "source": [
    "mailout_train_after_na_impute.shape"
   ]
  },
  {
   "cell_type": "code",
   "execution_count": 251,
   "metadata": {},
   "outputs": [
    {
     "data": {
      "text/plain": [
       "(891221, 440)"
      ]
     },
     "execution_count": 251,
     "metadata": {},
     "output_type": "execute_result"
    }
   ],
   "source": [
    "azdias_after_na_impute.shape"
   ]
  },
  {
   "cell_type": "code",
   "execution_count": 258,
   "metadata": {},
   "outputs": [],
   "source": [
    "mailout_scaled = scale.fit_transform(mailout_train_after_na_impute)\n"
   ]
  },
  {
   "cell_type": "markdown",
   "metadata": {},
   "source": [
    "#### train validation split"
   ]
  },
  {
   "cell_type": "code",
   "execution_count": 332,
   "metadata": {},
   "outputs": [],
   "source": [
    "X_train, X_val, y_train, y_val = train_test_split(mailout_scaled, y, \n",
    "                                                  stratify=y, test_size=0.2, random_state=1)\n"
   ]
  },
  {
   "cell_type": "markdown",
   "metadata": {},
   "source": [
    "#### 5 folds cross validation"
   ]
  },
  {
   "cell_type": "code",
   "execution_count": 288,
   "metadata": {},
   "outputs": [
    {
     "data": {
      "text/plain": [
       "5"
      ]
     },
     "execution_count": 288,
     "metadata": {},
     "output_type": "execute_result"
    }
   ],
   "source": [
    "# Initialize 5 stratified folds\n",
    "skf = StratifiedKFold(n_splits=5, random_state=1)\n",
    "skf.get_n_splits(X_train, y_train)"
   ]
  },
  {
   "cell_type": "code",
   "execution_count": 289,
   "metadata": {},
   "outputs": [
    {
     "name": "stdout",
     "output_type": "stream",
     "text": [
      "StratifiedKFold(n_splits=5, random_state=1, shuffle=False)\n"
     ]
    }
   ],
   "source": [
    "print(skf)"
   ]
  },
  {
   "cell_type": "code",
   "execution_count": 291,
   "metadata": {},
   "outputs": [
    {
     "name": "stdout",
     "output_type": "stream",
     "text": [
      "27494 6875\n",
      "27495 6874\n",
      "27495 6874\n",
      "27496 6873\n",
      "27496 6873\n"
     ]
    }
   ],
   "source": [
    "for train_index, test_index in skf.split(X_train, y_train):\n",
    "        print(len(train_index),len(test_index))"
   ]
  },
  {
   "cell_type": "code",
   "execution_count": 292,
   "metadata": {},
   "outputs": [],
   "source": [
    "def train_predict(learner, X_train, y_train, X_test, y_test): \n",
    "    '''\n",
    "    inputs:\n",
    "       - learner: the learning algorithm to be trained and predicted on\n",
    "       - sample_size: the size of samples (number) to be drawn from training set\n",
    "       - X_train: features training set\n",
    "       - y_train: income training set\n",
    "       - X_test: features testing set\n",
    "       - y_test: income testing set\n",
    "    '''    \n",
    "    learner = learner.fit(X_train, y_train)\n",
    "\n",
    "    predictions_test = learner.predict(X_test)\n",
    "    predictions_train = learner.predict(X_train)\n",
    "    \n",
    "    roc = roc_auc_score(y_test, predictions_test)\n",
    "    return roc"
   ]
  },
  {
   "cell_type": "code",
   "execution_count": 300,
   "metadata": {},
   "outputs": [
    {
     "data": {
      "text/plain": [
       "array([[-1.65598655,  0.32350199,  1.59429314, ..., -0.47014007,\n",
       "        -0.4941958 ,  0.77841891],\n",
       "       [-1.65578476,  0.32350199, -0.27404835, ..., -0.47014007,\n",
       "         2.02348948, -1.28465532],\n",
       "       [-1.66853798,  1.03126247, -0.27404835, ..., -0.47014007,\n",
       "        -0.4941958 ,  0.77841891]])"
      ]
     },
     "execution_count": 300,
     "metadata": {},
     "output_type": "execute_result"
    }
   ],
   "source": [
    "mailout_scaled[[1,2,3]]"
   ]
  },
  {
   "cell_type": "code",
   "execution_count": 301,
   "metadata": {},
   "outputs": [
    {
     "name": "stdout",
     "output_type": "stream",
     "text": [
      "Fold 1...\n",
      "{'model_name': 'RandomForestClassifier', 'fold': 1, 'roc': 0.4995286353994815}\n",
      "Fold 2...\n",
      "{'model_name': 'RandomForestClassifier', 'fold': 2, 'roc': 0.4993518736742871}\n",
      "Fold 3...\n",
      "{'model_name': 'RandomForestClassifier', 'fold': 3, 'roc': 0.4985859061984445}\n",
      "Fold 4...\n",
      "{'model_name': 'RandomForestClassifier', 'fold': 4, 'roc': 0.4992929530992222}\n",
      "Fold 5...\n",
      "{'model_name': 'RandomForestClassifier', 'fold': 5, 'roc': 0.4993518736742871}\n",
      "Fold 1...\n",
      "{'model_name': 'XGBRegressor', 'fold': 1, 'roc': 0.5380291012574863}\n",
      "Fold 2...\n",
      "{'model_name': 'XGBRegressor', 'fold': 2, 'roc': 0.6232552351206275}\n",
      "Fold 3...\n",
      "{'model_name': 'XGBRegressor', 'fold': 3, 'roc': 0.5818429021829519}\n",
      "Fold 4...\n",
      "{'model_name': 'XGBRegressor', 'fold': 4, 'roc': 0.5707936267948541}\n",
      "Fold 5...\n",
      "{'model_name': 'XGBRegressor', 'fold': 5, 'roc': 0.5925492153558136}\n",
      "result_list:  [{'model_name': 'RandomForestClassifier', 'fold': 1, 'roc': 0.4995286353994815}, {'model_name': 'RandomForestClassifier', 'fold': 2, 'roc': 0.4993518736742871}, {'model_name': 'RandomForestClassifier', 'fold': 3, 'roc': 0.4985859061984445}, {'model_name': 'RandomForestClassifier', 'fold': 4, 'roc': 0.4992929530992222}, {'model_name': 'RandomForestClassifier', 'fold': 5, 'roc': 0.4993518736742871}, {'model_name': 'XGBRegressor', 'fold': 1, 'roc': 0.5380291012574863}, {'model_name': 'XGBRegressor', 'fold': 2, 'roc': 0.6232552351206275}, {'model_name': 'XGBRegressor', 'fold': 3, 'roc': 0.5818429021829519}, {'model_name': 'XGBRegressor', 'fold': 4, 'roc': 0.5707936267948541}, {'model_name': 'XGBRegressor', 'fold': 5, 'roc': 0.5925492153558136}]\n"
     ]
    }
   ],
   "source": [
    "\n",
    "rf = RandomForestClassifier(random_state=1,n_estimators=300)\n",
    "xgb_ = xgb.XGBRegressor(random_state=1,n_estimators=300)\n",
    "\n",
    "\n",
    "result_list = []\n",
    "for model in [rf,xgb_]:\n",
    "    model_name = model.__class__.__name__\n",
    "    fold = 0\n",
    "    for train_index, val_index in skf.split(mailout_scaled, y):    \n",
    "        fold += 1\n",
    "        print('Fold {}...'.format(fold))\n",
    "        result = {}  \n",
    "        result['model_name'] = model_name\n",
    "        result['fold']  =  fold\n",
    "        # Split the data into training and test sets\n",
    "        X_train, X_val = mailout_scaled[train_index], mailout_scaled[val_index]\n",
    "        y_train, y_val = y[train_index], y[val_index]\n",
    "        \n",
    "        \n",
    "        \n",
    "        result['roc'] = train_predict(model, X_train, y_train, X_val, y_val)\n",
    "        result_list.append(result)\n",
    "        print (result)\n",
    "    \n",
    "\n",
    "print('result_list: ', result_list)"
   ]
  },
  {
   "cell_type": "code",
   "execution_count": 306,
   "metadata": {
    "collapsed": true
   },
   "outputs": [
    {
     "name": "stderr",
     "output_type": "stream",
     "text": [
      "C:\\Users\\xiaoyal\\AppData\\Local\\Continuum\\anaconda3\\lib\\site-packages\\sklearn\\model_selection\\_split.py:1978: FutureWarning: The default value of cv will change from 3 to 5 in version 0.22. Specify it explicitly to silence this warning.\n",
      "  warnings.warn(CV_WARNING, FutureWarning)\n"
     ]
    },
    {
     "ename": "AttributeError",
     "evalue": "'GridSearchCV' object has no attribute 'grid_scores_'",
     "output_type": "error",
     "traceback": [
      "\u001b[1;31m---------------------------------------------------------------------------\u001b[0m",
      "\u001b[1;31mAttributeError\u001b[0m                            Traceback (most recent call last)",
      "\u001b[1;32m<ipython-input-306-f3c2ebaf087d>\u001b[0m in \u001b[0;36m<module>\u001b[1;34m\u001b[0m\n\u001b[0;32m     16\u001b[0m \u001b[0mgrid_fit\u001b[0m \u001b[1;33m=\u001b[0m \u001b[0mcv\u001b[0m\u001b[1;33m.\u001b[0m\u001b[0mfit\u001b[0m\u001b[1;33m(\u001b[0m\u001b[0mX_train\u001b[0m\u001b[1;33m,\u001b[0m \u001b[0my_train\u001b[0m\u001b[1;33m)\u001b[0m\u001b[1;33m\u001b[0m\u001b[1;33m\u001b[0m\u001b[0m\n\u001b[0;32m     17\u001b[0m \u001b[1;33m\u001b[0m\u001b[0m\n\u001b[1;32m---> 18\u001b[1;33m \u001b[0mcv\u001b[0m\u001b[1;33m.\u001b[0m\u001b[0mgrid_scores_\u001b[0m\u001b[1;33m,\u001b[0m \u001b[0mcv\u001b[0m\u001b[1;33m.\u001b[0m\u001b[0mbest_params_\u001b[0m\u001b[1;33m,\u001b[0m \u001b[0mcv\u001b[0m\u001b[1;33m.\u001b[0m\u001b[0mbest_score_\u001b[0m\u001b[1;33m\u001b[0m\u001b[1;33m\u001b[0m\u001b[0m\n\u001b[0m\u001b[0;32m     19\u001b[0m \u001b[1;33m\u001b[0m\u001b[0m\n\u001b[0;32m     20\u001b[0m \u001b[1;31m# Get the estimator and predict\u001b[0m\u001b[1;33m\u001b[0m\u001b[1;33m\u001b[0m\u001b[1;33m\u001b[0m\u001b[0m\n",
      "\u001b[1;31mAttributeError\u001b[0m: 'GridSearchCV' object has no attribute 'grid_scores_'"
     ]
    }
   ],
   "source": [
    "parameters = {'max_depth': [3, 5, 7],\n",
    "              'learning_rate':[0.01, 0.1],\n",
    "              'min_child_weight': [1,3],\n",
    "              'colsample_bytree':[0.5, 0.7],\n",
    "              'reg_alpha':[0.01, 0.05],\n",
    "              'n_estimators': [500,600],\n",
    "              'objective' : ['binary:logistic']\n",
    "\n",
    "             }\n",
    "model = xgb.XGBClassifier()\n",
    "\n",
    "# use grid rearch method to tune the hyper parameters\n",
    "cv = GridSearchCV(model, parameters, scoring = 'roc_auc', n_jobs= -1)\n",
    "\n",
    "grid_fit = cv.fit(X_train, y_train)\n",
    "\n"
   ]
  },
  {
   "cell_type": "code",
   "execution_count": 312,
   "metadata": {},
   "outputs": [],
   "source": [
    "grid_fit.best_params_, grid_fit.best_score_\n",
    "\n",
    "best_model = grid_fit.best_estimator_\n",
    "#predictions = (best_clf.fit(X_train, y_train)).predict(X_test)\n",
    "\n",
    "best_predictions = best_model.predict(X_val)\n"
   ]
  },
  {
   "cell_type": "code",
   "execution_count": 320,
   "metadata": {},
   "outputs": [
    {
     "data": {
      "text/plain": [
       "(8592, 440)"
      ]
     },
     "execution_count": 320,
     "metadata": {},
     "output_type": "execute_result"
    }
   ],
   "source": [
    "X_val.shape"
   ]
  },
  {
   "cell_type": "code",
   "execution_count": 316,
   "metadata": {},
   "outputs": [
    {
     "data": {
      "text/plain": [
       "0.7697658837622232"
      ]
     },
     "execution_count": 316,
     "metadata": {},
     "output_type": "execute_result"
    }
   ],
   "source": [
    "grid_fit.best_score_"
   ]
  },
  {
   "cell_type": "code",
   "execution_count": 315,
   "metadata": {},
   "outputs": [
    {
     "data": {
      "text/plain": [
       "{'colsample_bytree': 0.7,\n",
       " 'learning_rate': 0.01,\n",
       " 'max_depth': 5,\n",
       " 'min_child_weight': 3,\n",
       " 'n_estimators': 600,\n",
       " 'objective': 'binary:logistic',\n",
       " 'reg_alpha': 0.01}"
      ]
     },
     "execution_count": 315,
     "metadata": {},
     "output_type": "execute_result"
    }
   ],
   "source": [
    "grid_fit.best_params_"
   ]
  },
  {
   "cell_type": "code",
   "execution_count": 369,
   "metadata": {},
   "outputs": [
    {
     "data": {
      "text/plain": [
       "0    42430\n",
       "1      532\n",
       "Name: RESPONSE, dtype: int64"
      ]
     },
     "execution_count": 369,
     "metadata": {},
     "output_type": "execute_result"
    }
   ],
   "source": [
    "y.value_counts()"
   ]
  },
  {
   "cell_type": "code",
   "execution_count": 277,
   "metadata": {},
   "outputs": [
    {
     "data": {
      "text/plain": [
       "XGBRegressor(alpha=10, base_score=0.5, booster='gbtree', colsample_bylevel=1,\n",
       "             colsample_bynode=1, colsample_bytree=0.3, gamma=0, gpu_id=-1,\n",
       "             importance_type='gain', interaction_constraints='',\n",
       "             learning_rate=0.1, max_delta_step=0, max_depth=5,\n",
       "             min_child_weight=1, missing=nan, monotone_constraints='()',\n",
       "             n_estimators=500, n_jobs=0, num_parallel_tree=1,\n",
       "             objective='binary:logistic', random_state=0, reg_alpha=10,\n",
       "             reg_lambda=1, scale_pos_weight=1, subsample=1, tree_method='exact',\n",
       "             validate_parameters=1, verbosity=None)"
      ]
     },
     "execution_count": 277,
     "metadata": {},
     "output_type": "execute_result"
    }
   ],
   "source": [
    "xg_reg = xgb.XGBRegressor(objective ='binary:logistic', colsample_bytree = 0.3, learning_rate = 0.1,\n",
    "                max_depth = 5, alpha = 10, n_estimators = 500)\n",
    "xg_reg.fit(X_train,y_train)"
   ]
  },
  {
   "cell_type": "code",
   "execution_count": 317,
   "metadata": {},
   "outputs": [],
   "source": [
    "preds = xg_reg.predict(X_val)\n",
    "#preds = alg_test.predict(X_val)"
   ]
  },
  {
   "cell_type": "code",
   "execution_count": 333,
   "metadata": {},
   "outputs": [],
   "source": [
    "preds2 = xg_reg.predict(X_val)\n",
    "#preds = alg_test.predict(X_val)"
   ]
  },
  {
   "cell_type": "code",
   "execution_count": null,
   "metadata": {},
   "outputs": [],
   "source": [
    "best_predictions = best_model.predict(X_val)\n"
   ]
  },
  {
   "cell_type": "code",
   "execution_count": 318,
   "metadata": {},
   "outputs": [
    {
     "data": {
      "text/plain": [
       "array([0.01567923, 0.00489843, 0.0015338 , ..., 0.01952189, 0.00328638,\n",
       "       0.00284877], dtype=float32)"
      ]
     },
     "execution_count": 318,
     "metadata": {},
     "output_type": "execute_result"
    }
   ],
   "source": [
    "preds"
   ]
  },
  {
   "cell_type": "code",
   "execution_count": 273,
   "metadata": {},
   "outputs": [
    {
     "name": "stdout",
     "output_type": "stream",
     "text": [
      "ROC score on validation data: 0.7135\n"
     ]
    }
   ],
   "source": [
    "print(\"ROC score on validation data: {:.4f}\".format(roc_auc_score(y_val, preds)))\n"
   ]
  },
  {
   "cell_type": "code",
   "execution_count": 319,
   "metadata": {},
   "outputs": [
    {
     "name": "stdout",
     "output_type": "stream",
     "text": [
      "ROC score on validation data: 0.9078\n"
     ]
    }
   ],
   "source": [
    "print(\"ROC score on validation data: {:.4f}\".format(roc_auc_score(y_val, preds)))\n"
   ]
  },
  {
   "cell_type": "code",
   "execution_count": 331,
   "metadata": {},
   "outputs": [
    {
     "data": {
      "text/plain": [
       "array([0.01567923, 0.00489843, 0.0015338 , ..., 0.01952189, 0.00328638,\n",
       "       0.00284877], dtype=float32)"
      ]
     },
     "execution_count": 331,
     "metadata": {},
     "output_type": "execute_result"
    }
   ],
   "source": [
    "preds2"
   ]
  },
  {
   "cell_type": "code",
   "execution_count": 334,
   "metadata": {},
   "outputs": [
    {
     "name": "stdout",
     "output_type": "stream",
     "text": [
      "ROC score on validation data: 0.7498\n"
     ]
    }
   ],
   "source": [
    "print(\"ROC score on validation data: {:.4f}\".format(roc_auc_score(y_val, preds2)))\n"
   ]
  },
  {
   "cell_type": "code",
   "execution_count": 315,
   "metadata": {},
   "outputs": [
    {
     "data": {
      "text/plain": [
       "{'colsample_bytree': 0.7,\n",
       " 'learning_rate': 0.01,\n",
       " 'max_depth': 5,\n",
       " 'min_child_weight': 3,\n",
       " 'n_estimators': 600,\n",
       " 'objective': 'binary:logistic',\n",
       " 'reg_alpha': 0.01}"
      ]
     },
     "execution_count": 315,
     "metadata": {},
     "output_type": "execute_result"
    }
   ],
   "source": [
    "grid_fit.best_params_"
   ]
  },
  {
   "cell_type": "code",
   "execution_count": 367,
   "metadata": {},
   "outputs": [],
   "source": [
    "save_obj(grid_fit.best_params_,'best_params')"
   ]
  },
  {
   "cell_type": "code",
   "execution_count": 323,
   "metadata": {},
   "outputs": [
    {
     "data": {
      "text/plain": [
       "XGBRegressor(alpha=10, base_score=0.5, booster='gbtree', colsample_bylevel=1,\n",
       "             colsample_bynode=1, colsample_bytree=0.7, gamma=0, gpu_id=-1,\n",
       "             importance_type='gain', interaction_constraints='',\n",
       "             learning_rate=0.01, max_delta_step=0, max_depth=5,\n",
       "             min_child_weight=3, missing=nan, monotone_constraints='()',\n",
       "             n_estimators=600, n_jobs=0, num_parallel_tree=1,\n",
       "             objective='binary:logistic', random_state=0, reg_alpha=1,\n",
       "             reg_lambda=1, scale_pos_weight=1, subsample=1, tree_method='exact',\n",
       "             validate_parameters=1, verbosity=None)"
      ]
     },
     "execution_count": 323,
     "metadata": {},
     "output_type": "execute_result"
    }
   ],
   "source": [
    "best = xgb.XGBRegressor(objective ='binary:logistic', colsample_bytree = 0.7, learning_rate = 0.01,\n",
    "                max_depth = 5,min_child_weight= 3, alpha = 10, n_estimators = 600,reg_alpha=1)\n",
    "best.fit(X_train,y_train)"
   ]
  },
  {
   "cell_type": "code",
   "execution_count": 326,
   "metadata": {},
   "outputs": [
    {
     "name": "stdout",
     "output_type": "stream",
     "text": [
      "ROC score on validation data: 0.7579\n"
     ]
    }
   ],
   "source": [
    "best_predictions = best.predict(X_val)\n",
    "print(\"ROC score on validation data: {:.4f}\".format(roc_auc_score(y_val, best_predictions)))\n"
   ]
  },
  {
   "cell_type": "code",
   "execution_count": 335,
   "metadata": {},
   "outputs": [
    {
     "name": "stdout",
     "output_type": "stream",
     "text": [
      "ROC score on validation data: 0.8629\n"
     ]
    }
   ],
   "source": [
    "best_predictions = best.predict(X_val)\n",
    "print(\"ROC score on validation data: {:.4f}\".format(roc_auc_score(y_val, best_predictions)))\n"
   ]
  },
  {
   "cell_type": "markdown",
   "metadata": {},
   "source": [
    "## Part 3: Kaggle Competition\n",
    "\n",
    "Now that you've created a model to predict which individuals are most likely to respond to a mailout campaign, it's time to test that model in competition through Kaggle. If you click on the link [here](http://www.kaggle.com/t/21e6d45d4c574c7fa2d868f0e8c83140), you'll be taken to the competition page where, if you have a Kaggle account, you can enter. If you're one of the top performers, you may have the chance to be contacted by a hiring manager from Arvato or Bertelsmann for an interview!\n",
    "\n",
    "Your entry to the competition should be a CSV file with two columns. The first column should be a copy of \"LNR\", which acts as an ID number for each individual in the \"TEST\" partition. The second column, \"RESPONSE\", should be some measure of how likely each individual became a customer – this might not be a straightforward probability. As you should have found in Part 2, there is a large output class imbalance, where most individuals did not respond to the mailout. Thus, predicting individual classes and using accuracy does not seem to be an appropriate performance evaluation method. Instead, the competition will be using AUC to evaluate performance. The exact values of the \"RESPONSE\" column do not matter as much: only that the higher values try to capture as many of the actual customers as possible, early in the ROC curve sweep."
   ]
  },
  {
   "cell_type": "code",
   "execution_count": 302,
   "metadata": {},
   "outputs": [
    {
     "name": "stderr",
     "output_type": "stream",
     "text": [
      "C:\\Users\\xiaoyal\\AppData\\Local\\Continuum\\anaconda3\\lib\\site-packages\\IPython\\core\\interactiveshell.py:3058: DtypeWarning: Columns (18,19) have mixed types. Specify dtype option on import or set low_memory=False.\n",
      "  interactivity=interactivity, compiler=compiler, result=result)\n"
     ]
    }
   ],
   "source": [
    "mailout_test = pd.read_csv('data/Udacity_MAILOUT_052018_TEST.csv', sep=';')"
   ]
  },
  {
   "cell_type": "code",
   "execution_count": 359,
   "metadata": {},
   "outputs": [
    {
     "name": "stderr",
     "output_type": "stream",
     "text": [
      "C:\\Users\\xiaoyal\\AppData\\Local\\Continuum\\anaconda3\\lib\\site-packages\\pandas\\core\\ops\\__init__.py:1115: FutureWarning: elementwise comparison failed; returning scalar instead, but in the future will perform elementwise comparison\n",
      "  result = method(y)\n"
     ]
    }
   ],
   "source": [
    "mailout_test.loc[mailout_test.CAMEO_DEUG_2015=='X','CAMEO_DEUG_2015'] = -1.0\n",
    "mailout_test.loc[mailout_test.CAMEO_INTL_2015=='XX','CAMEO_INTL_2015'] = -1.0\n",
    "mailout_test.CAMEO_DEUG_2015 = mailout_test.CAMEO_DEUG_2015.apply(lambda x:float(x))\n",
    "mailout_test.CAMEO_INTL_2015 = mailout_test.CAMEO_INTL_2015.apply(lambda x:float(x))\n",
    "mailout_test_after_na = mailout_test.fillna(value=unknown_dic)\n",
    "mailout_test_after_na.drop(col_to_drop,axis=1,inplace=True)\n",
    "mailout_test_after_na = mailout_test_after_na.fillna(value=unknown_dic)\n",
    "date_trans(mailout_test_after_na,'EINGEFUEGT_AM')\n",
    "mailout_test_after_na_dum = pd.get_dummies(mailout_test_after_na)\n",
    "mailout_test_after_na_dum.set_index('LNR')\n",
    "mailout_test_after_na_impute = imputer.fit_transform(mailout_test_after_na_dum)\n",
    "mailout_test_after_na_impute = pd.DataFrame(mailout_test_after_na_impute)"
   ]
  },
  {
   "cell_type": "code",
   "execution_count": 360,
   "metadata": {},
   "outputs": [],
   "source": [
    "mailout_test_scaled = scale.fit_transform(mailout_test_after_na_impute)\n"
   ]
  },
  {
   "cell_type": "code",
   "execution_count": 355,
   "metadata": {},
   "outputs": [],
   "source": [
    "test_result = best.predict(mailout_test_scaled)"
   ]
  },
  {
   "cell_type": "code",
   "execution_count": 365,
   "metadata": {},
   "outputs": [],
   "source": [
    "final_submit = pd.DataFrame({'Response':test_result})\n",
    "final_submit.index = mailout_test.LNR"
   ]
  },
  {
   "cell_type": "code",
   "execution_count": 366,
   "metadata": {},
   "outputs": [
    {
     "data": {
      "text/html": [
       "<div>\n",
       "<style scoped>\n",
       "    .dataframe tbody tr th:only-of-type {\n",
       "        vertical-align: middle;\n",
       "    }\n",
       "\n",
       "    .dataframe tbody tr th {\n",
       "        vertical-align: top;\n",
       "    }\n",
       "\n",
       "    .dataframe thead th {\n",
       "        text-align: right;\n",
       "    }\n",
       "</style>\n",
       "<table border=\"1\" class=\"dataframe\">\n",
       "  <thead>\n",
       "    <tr style=\"text-align: right;\">\n",
       "      <th></th>\n",
       "      <th>Response</th>\n",
       "    </tr>\n",
       "    <tr>\n",
       "      <th>LNR</th>\n",
       "      <th></th>\n",
       "    </tr>\n",
       "  </thead>\n",
       "  <tbody>\n",
       "    <tr>\n",
       "      <td>1754</td>\n",
       "      <td>0.037558</td>\n",
       "    </tr>\n",
       "    <tr>\n",
       "      <td>1770</td>\n",
       "      <td>0.030495</td>\n",
       "    </tr>\n",
       "    <tr>\n",
       "      <td>1465</td>\n",
       "      <td>0.003967</td>\n",
       "    </tr>\n",
       "    <tr>\n",
       "      <td>1470</td>\n",
       "      <td>0.004608</td>\n",
       "    </tr>\n",
       "    <tr>\n",
       "      <td>1478</td>\n",
       "      <td>0.008679</td>\n",
       "    </tr>\n",
       "  </tbody>\n",
       "</table>\n",
       "</div>"
      ],
      "text/plain": [
       "      Response\n",
       "LNR           \n",
       "1754  0.037558\n",
       "1770  0.030495\n",
       "1465  0.003967\n",
       "1470  0.004608\n",
       "1478  0.008679"
      ]
     },
     "execution_count": 366,
     "metadata": {},
     "output_type": "execute_result"
    }
   ],
   "source": [
    "final_submit.head()"
   ]
  },
  {
   "cell_type": "code",
   "execution_count": null,
   "metadata": {},
   "outputs": [],
   "source": []
  }
 ],
 "metadata": {
  "kernelspec": {
   "display_name": "Python 3",
   "language": "python",
   "name": "python3"
  },
  "language_info": {
   "codemirror_mode": {
    "name": "ipython",
    "version": 3
   },
   "file_extension": ".py",
   "mimetype": "text/x-python",
   "name": "python",
   "nbconvert_exporter": "python",
   "pygments_lexer": "ipython3",
   "version": "3.7.4"
  }
 },
 "nbformat": 4,
 "nbformat_minor": 2
}
